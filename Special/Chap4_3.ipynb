{
  "cells": [
    {
      "cell_type": "markdown",
      "metadata": {
        "id": "PHB1ZopCsxWL"
      },
      "source": [
        "4.8 Discretizating Features"
      ]
    },
    {
      "cell_type": "code",
      "execution_count": 1,
      "metadata": {
        "id": "TlXdbwVPszSq"
      },
      "outputs": [],
      "source": [
        "import numpy as np\n",
        "from sklearn.preprocessing import Binarizer\n",
        "# Create feature\n",
        "age = np . array ([[ 6 ],\n",
        "                   [ 12 ],\n",
        "                   [ 20 ],\n",
        "                   [ 36 ],\n",
        "                   [ 65 ]])\n",
        "# Create binarizer\n",
        "binarizer = Binarizer ( threshold=18 )"
      ]
    },
    {
      "cell_type": "code",
      "execution_count": 2,
      "metadata": {
        "colab": {
          "base_uri": "https://localhost:8080/"
        },
        "id": "z2cOyHKus2fH",
        "outputId": "7d29f117-0e37-4854-dd92-aa0ca7dff372"
      },
      "outputs": [
        {
          "data": {
            "text/plain": [
              "array([[0],\n",
              "       [0],\n",
              "       [1],\n",
              "       [1],\n",
              "       [1]])"
            ]
          },
          "execution_count": 2,
          "metadata": {},
          "output_type": "execute_result"
        }
      ],
      "source": [
        "# Transform feature\n",
        "binarizer . fit_transform ( age )"
      ]
    },
    {
      "cell_type": "code",
      "execution_count": 3,
      "metadata": {
        "colab": {
          "base_uri": "https://localhost:8080/"
        },
        "id": "U1UdCkv2s5eF",
        "outputId": "d1a47b20-c962-4028-ca67-74e0a971906c"
      },
      "outputs": [
        {
          "data": {
            "text/plain": [
              "array([[0],\n",
              "       [0],\n",
              "       [1],\n",
              "       [2],\n",
              "       [3]])"
            ]
          },
          "execution_count": 3,
          "metadata": {},
          "output_type": "execute_result"
        }
      ],
      "source": [
        "# Bin feature\n",
        "np . digitize ( age , bins= [ 20 , 30 , 64 ])"
      ]
    },
    {
      "cell_type": "code",
      "execution_count": 4,
      "metadata": {
        "colab": {
          "base_uri": "https://localhost:8080/"
        },
        "id": "YRp-cxUbs7T0",
        "outputId": "52c4425b-4e90-410c-e11c-53619c2e2158"
      },
      "outputs": [
        {
          "data": {
            "text/plain": [
              "array([[0],\n",
              "       [0],\n",
              "       [0],\n",
              "       [2],\n",
              "       [3]])"
            ]
          },
          "execution_count": 4,
          "metadata": {},
          "output_type": "execute_result"
        }
      ],
      "source": [
        "# Bin feature\n",
        "np . digitize ( age , bins= [ 20 , 30 , 64 ], right=True )"
      ]
    },
    {
      "cell_type": "code",
      "execution_count": 5,
      "metadata": {
        "colab": {
          "base_uri": "https://localhost:8080/"
        },
        "id": "9t1O5aHwtAjO",
        "outputId": "21fde886-1f6a-4847-9f77-1b01a6caf3ee"
      },
      "outputs": [
        {
          "data": {
            "text/plain": [
              "array([[0],\n",
              "       [0],\n",
              "       [1],\n",
              "       [1],\n",
              "       [1]])"
            ]
          },
          "execution_count": 5,
          "metadata": {},
          "output_type": "execute_result"
        }
      ],
      "source": [
        "np . digitize ( age , bins= [ 18 ])"
      ]
    },
    {
      "cell_type": "markdown",
      "metadata": {
        "id": "x9Lrq9ODtBUm"
      },
      "source": [
        "4.9 Grouping Observations Using Clustering"
      ]
    },
    {
      "cell_type": "code",
      "execution_count": 6,
      "metadata": {
        "colab": {
          "base_uri": "https://localhost:8080/",
          "height": 362
        },
        "id": "MXOdsALetGP_",
        "outputId": "947515b8-1124-47ac-ce44-a05e626315f0"
      },
      "outputs": [
        {
          "data": {
            "text/html": [
              "<div>\n",
              "<style scoped>\n",
              "    .dataframe tbody tr th:only-of-type {\n",
              "        vertical-align: middle;\n",
              "    }\n",
              "\n",
              "    .dataframe tbody tr th {\n",
              "        vertical-align: top;\n",
              "    }\n",
              "\n",
              "    .dataframe thead th {\n",
              "        text-align: right;\n",
              "    }\n",
              "</style>\n",
              "<table border=\"1\" class=\"dataframe\">\n",
              "  <thead>\n",
              "    <tr style=\"text-align: right;\">\n",
              "      <th></th>\n",
              "      <th>feature_1</th>\n",
              "      <th>feature_2</th>\n",
              "      <th>group</th>\n",
              "    </tr>\n",
              "  </thead>\n",
              "  <tbody>\n",
              "    <tr>\n",
              "      <th>0</th>\n",
              "      <td>-9.877554</td>\n",
              "      <td>-3.336145</td>\n",
              "      <td>2</td>\n",
              "    </tr>\n",
              "    <tr>\n",
              "      <th>1</th>\n",
              "      <td>-7.287210</td>\n",
              "      <td>-8.353986</td>\n",
              "      <td>0</td>\n",
              "    </tr>\n",
              "    <tr>\n",
              "      <th>2</th>\n",
              "      <td>-6.943061</td>\n",
              "      <td>-7.023744</td>\n",
              "      <td>0</td>\n",
              "    </tr>\n",
              "    <tr>\n",
              "      <th>3</th>\n",
              "      <td>-7.440167</td>\n",
              "      <td>-8.791959</td>\n",
              "      <td>0</td>\n",
              "    </tr>\n",
              "    <tr>\n",
              "      <th>4</th>\n",
              "      <td>-6.641388</td>\n",
              "      <td>-8.075888</td>\n",
              "      <td>0</td>\n",
              "    </tr>\n",
              "    <tr>\n",
              "      <th>5</th>\n",
              "      <td>-0.794152</td>\n",
              "      <td>2.104951</td>\n",
              "      <td>1</td>\n",
              "    </tr>\n",
              "    <tr>\n",
              "      <th>6</th>\n",
              "      <td>-2.760179</td>\n",
              "      <td>5.551214</td>\n",
              "      <td>1</td>\n",
              "    </tr>\n",
              "    <tr>\n",
              "      <th>7</th>\n",
              "      <td>-9.946905</td>\n",
              "      <td>-4.590344</td>\n",
              "      <td>2</td>\n",
              "    </tr>\n",
              "    <tr>\n",
              "      <th>8</th>\n",
              "      <td>-0.525790</td>\n",
              "      <td>3.306599</td>\n",
              "      <td>1</td>\n",
              "    </tr>\n",
              "    <tr>\n",
              "      <th>9</th>\n",
              "      <td>-1.981977</td>\n",
              "      <td>4.022436</td>\n",
              "      <td>1</td>\n",
              "    </tr>\n",
              "  </tbody>\n",
              "</table>\n",
              "</div>"
            ],
            "text/plain": [
              "   feature_1  feature_2  group\n",
              "0  -9.877554  -3.336145      2\n",
              "1  -7.287210  -8.353986      0\n",
              "2  -6.943061  -7.023744      0\n",
              "3  -7.440167  -8.791959      0\n",
              "4  -6.641388  -8.075888      0\n",
              "5  -0.794152   2.104951      1\n",
              "6  -2.760179   5.551214      1\n",
              "7  -9.946905  -4.590344      2\n",
              "8  -0.525790   3.306599      1\n",
              "9  -1.981977   4.022436      1"
            ]
          },
          "execution_count": 6,
          "metadata": {},
          "output_type": "execute_result"
        }
      ],
      "source": [
        "# Load libraries\n",
        "import pandas as pd\n",
        "from sklearn.datasets import make_blobs\n",
        "from sklearn.cluster import KMeans\n",
        "# Make simulated feature matrix\n",
        "features, _ = make_blobs(n_samples = 50,\n",
        "n_features = 2,\n",
        "centers = 3,\n",
        "random_state = 1)\n",
        "# Create DataFrame\n",
        "dataframe = pd.DataFrame(features, columns=[\"feature_1\", \"feature_2\"])\n",
        "# Make k-means clusterer\n",
        "clusterer = KMeans(3, random_state=0)\n",
        "# Fit clusterer\n",
        "clusterer.fit(features)\n",
        "# Predict values\n",
        "dataframe[\"group\"] = clusterer.predict(features)\n",
        "# View first few observations\n",
        "dataframe.head(10)"
      ]
    },
    {
      "cell_type": "code",
      "execution_count": 7,
      "metadata": {
        "colab": {
          "base_uri": "https://localhost:8080/",
          "height": 1000
        },
        "id": "JEiV8EkVtU-l",
        "outputId": "9b8a2118-a761-42a7-b598-aeebc9168460"
      },
      "outputs": [
        {
          "data": {
            "text/html": [
              "<div>\n",
              "<style scoped>\n",
              "    .dataframe tbody tr th:only-of-type {\n",
              "        vertical-align: middle;\n",
              "    }\n",
              "\n",
              "    .dataframe tbody tr th {\n",
              "        vertical-align: top;\n",
              "    }\n",
              "\n",
              "    .dataframe thead th {\n",
              "        text-align: right;\n",
              "    }\n",
              "</style>\n",
              "<table border=\"1\" class=\"dataframe\">\n",
              "  <thead>\n",
              "    <tr style=\"text-align: right;\">\n",
              "      <th></th>\n",
              "      <th>feature_1</th>\n",
              "      <th>feature_2</th>\n",
              "    </tr>\n",
              "  </thead>\n",
              "  <tbody>\n",
              "    <tr>\n",
              "      <th>0</th>\n",
              "      <td>-9.877554</td>\n",
              "      <td>-3.336145</td>\n",
              "    </tr>\n",
              "    <tr>\n",
              "      <th>1</th>\n",
              "      <td>-7.287210</td>\n",
              "      <td>-8.353986</td>\n",
              "    </tr>\n",
              "    <tr>\n",
              "      <th>2</th>\n",
              "      <td>-6.943061</td>\n",
              "      <td>-7.023744</td>\n",
              "    </tr>\n",
              "    <tr>\n",
              "      <th>3</th>\n",
              "      <td>-7.440167</td>\n",
              "      <td>-8.791959</td>\n",
              "    </tr>\n",
              "    <tr>\n",
              "      <th>4</th>\n",
              "      <td>-6.641388</td>\n",
              "      <td>-8.075888</td>\n",
              "    </tr>\n",
              "    <tr>\n",
              "      <th>5</th>\n",
              "      <td>-0.794152</td>\n",
              "      <td>2.104951</td>\n",
              "    </tr>\n",
              "    <tr>\n",
              "      <th>6</th>\n",
              "      <td>-2.760179</td>\n",
              "      <td>5.551214</td>\n",
              "    </tr>\n",
              "    <tr>\n",
              "      <th>7</th>\n",
              "      <td>-9.946905</td>\n",
              "      <td>-4.590344</td>\n",
              "    </tr>\n",
              "    <tr>\n",
              "      <th>8</th>\n",
              "      <td>-0.525790</td>\n",
              "      <td>3.306599</td>\n",
              "    </tr>\n",
              "    <tr>\n",
              "      <th>9</th>\n",
              "      <td>-1.981977</td>\n",
              "      <td>4.022436</td>\n",
              "    </tr>\n",
              "    <tr>\n",
              "      <th>10</th>\n",
              "      <td>-5.865964</td>\n",
              "      <td>-7.968072</td>\n",
              "    </tr>\n",
              "    <tr>\n",
              "      <th>11</th>\n",
              "      <td>-6.834787</td>\n",
              "      <td>-7.391217</td>\n",
              "    </tr>\n",
              "    <tr>\n",
              "      <th>12</th>\n",
              "      <td>-6.749247</td>\n",
              "      <td>-10.175429</td>\n",
              "    </tr>\n",
              "    <tr>\n",
              "      <th>13</th>\n",
              "      <td>-10.752110</td>\n",
              "      <td>-2.700480</td>\n",
              "    </tr>\n",
              "    <tr>\n",
              "      <th>14</th>\n",
              "      <td>-8.508996</td>\n",
              "      <td>-8.657694</td>\n",
              "    </tr>\n",
              "    <tr>\n",
              "      <th>15</th>\n",
              "      <td>-2.330806</td>\n",
              "      <td>4.393825</td>\n",
              "    </tr>\n",
              "    <tr>\n",
              "      <th>16</th>\n",
              "      <td>-0.197452</td>\n",
              "      <td>2.346349</td>\n",
              "    </tr>\n",
              "    <tr>\n",
              "      <th>17</th>\n",
              "      <td>0.085252</td>\n",
              "      <td>3.645283</td>\n",
              "    </tr>\n",
              "    <tr>\n",
              "      <th>18</th>\n",
              "      <td>-10.206607</td>\n",
              "      <td>-3.366725</td>\n",
              "    </tr>\n",
              "    <tr>\n",
              "      <th>19</th>\n",
              "      <td>-9.158729</td>\n",
              "      <td>-3.022246</td>\n",
              "    </tr>\n",
              "    <tr>\n",
              "      <th>20</th>\n",
              "      <td>-1.340521</td>\n",
              "      <td>4.157119</td>\n",
              "    </tr>\n",
              "    <tr>\n",
              "      <th>21</th>\n",
              "      <td>-1.831988</td>\n",
              "      <td>3.528631</td>\n",
              "    </tr>\n",
              "    <tr>\n",
              "      <th>22</th>\n",
              "      <td>-9.806797</td>\n",
              "      <td>-1.853093</td>\n",
              "    </tr>\n",
              "    <tr>\n",
              "      <th>23</th>\n",
              "      <td>-0.758704</td>\n",
              "      <td>3.722762</td>\n",
              "    </tr>\n",
              "    <tr>\n",
              "      <th>24</th>\n",
              "      <td>-11.140231</td>\n",
              "      <td>-4.302691</td>\n",
              "    </tr>\n",
              "    <tr>\n",
              "      <th>25</th>\n",
              "      <td>-7.812137</td>\n",
              "      <td>-5.349845</td>\n",
              "    </tr>\n",
              "    <tr>\n",
              "      <th>26</th>\n",
              "      <td>-2.351221</td>\n",
              "      <td>4.009736</td>\n",
              "    </tr>\n",
              "    <tr>\n",
              "      <th>27</th>\n",
              "      <td>-6.878321</td>\n",
              "      <td>-7.743176</td>\n",
              "    </tr>\n",
              "    <tr>\n",
              "      <th>28</th>\n",
              "      <td>-1.782450</td>\n",
              "      <td>3.470720</td>\n",
              "    </tr>\n",
              "    <tr>\n",
              "      <th>29</th>\n",
              "      <td>-7.371086</td>\n",
              "      <td>-7.325253</td>\n",
              "    </tr>\n",
              "    <tr>\n",
              "      <th>30</th>\n",
              "      <td>-7.735544</td>\n",
              "      <td>-7.775664</td>\n",
              "    </tr>\n",
              "    <tr>\n",
              "      <th>31</th>\n",
              "      <td>-11.115023</td>\n",
              "      <td>-3.718933</td>\n",
              "    </tr>\n",
              "    <tr>\n",
              "      <th>32</th>\n",
              "      <td>-9.697542</td>\n",
              "      <td>-4.305598</td>\n",
              "    </tr>\n",
              "    <tr>\n",
              "      <th>33</th>\n",
              "      <td>-10.189548</td>\n",
              "      <td>-4.840978</td>\n",
              "    </tr>\n",
              "    <tr>\n",
              "      <th>34</th>\n",
              "      <td>-2.187732</td>\n",
              "      <td>3.333521</td>\n",
              "    </tr>\n",
              "    <tr>\n",
              "      <th>35</th>\n",
              "      <td>-2.346733</td>\n",
              "      <td>3.561284</td>\n",
              "    </tr>\n",
              "    <tr>\n",
              "      <th>36</th>\n",
              "      <td>-1.927448</td>\n",
              "      <td>4.936845</td>\n",
              "    </tr>\n",
              "    <tr>\n",
              "      <th>37</th>\n",
              "      <td>-10.744871</td>\n",
              "      <td>-2.260894</td>\n",
              "    </tr>\n",
              "    <tr>\n",
              "      <th>38</th>\n",
              "      <td>-6.866582</td>\n",
              "      <td>-8.034219</td>\n",
              "    </tr>\n",
              "    <tr>\n",
              "      <th>39</th>\n",
              "      <td>-7.512011</td>\n",
              "      <td>-6.928720</td>\n",
              "    </tr>\n",
              "    <tr>\n",
              "      <th>40</th>\n",
              "      <td>-6.904845</td>\n",
              "      <td>-7.277059</td>\n",
              "    </tr>\n",
              "    <tr>\n",
              "      <th>41</th>\n",
              "      <td>-1.617346</td>\n",
              "      <td>4.989305</td>\n",
              "    </tr>\n",
              "    <tr>\n",
              "      <th>42</th>\n",
              "      <td>-0.757969</td>\n",
              "      <td>4.908984</td>\n",
              "    </tr>\n",
              "    <tr>\n",
              "      <th>43</th>\n",
              "      <td>-9.484783</td>\n",
              "      <td>-4.251441</td>\n",
              "    </tr>\n",
              "    <tr>\n",
              "      <th>44</th>\n",
              "      <td>-7.408736</td>\n",
              "      <td>-8.109631</td>\n",
              "    </tr>\n",
              "    <tr>\n",
              "      <th>45</th>\n",
              "      <td>-9.509194</td>\n",
              "      <td>-4.028920</td>\n",
              "    </tr>\n",
              "    <tr>\n",
              "      <th>46</th>\n",
              "      <td>-8.337910</td>\n",
              "      <td>-3.211304</td>\n",
              "    </tr>\n",
              "    <tr>\n",
              "      <th>47</th>\n",
              "      <td>-9.712125</td>\n",
              "      <td>-3.068207</td>\n",
              "    </tr>\n",
              "    <tr>\n",
              "      <th>48</th>\n",
              "      <td>-8.866083</td>\n",
              "      <td>-2.433532</td>\n",
              "    </tr>\n",
              "    <tr>\n",
              "      <th>49</th>\n",
              "      <td>-7.684883</td>\n",
              "      <td>-7.455196</td>\n",
              "    </tr>\n",
              "  </tbody>\n",
              "</table>\n",
              "</div>"
            ],
            "text/plain": [
              "    feature_1  feature_2\n",
              "0   -9.877554  -3.336145\n",
              "1   -7.287210  -8.353986\n",
              "2   -6.943061  -7.023744\n",
              "3   -7.440167  -8.791959\n",
              "4   -6.641388  -8.075888\n",
              "5   -0.794152   2.104951\n",
              "6   -2.760179   5.551214\n",
              "7   -9.946905  -4.590344\n",
              "8   -0.525790   3.306599\n",
              "9   -1.981977   4.022436\n",
              "10  -5.865964  -7.968072\n",
              "11  -6.834787  -7.391217\n",
              "12  -6.749247 -10.175429\n",
              "13 -10.752110  -2.700480\n",
              "14  -8.508996  -8.657694\n",
              "15  -2.330806   4.393825\n",
              "16  -0.197452   2.346349\n",
              "17   0.085252   3.645283\n",
              "18 -10.206607  -3.366725\n",
              "19  -9.158729  -3.022246\n",
              "20  -1.340521   4.157119\n",
              "21  -1.831988   3.528631\n",
              "22  -9.806797  -1.853093\n",
              "23  -0.758704   3.722762\n",
              "24 -11.140231  -4.302691\n",
              "25  -7.812137  -5.349845\n",
              "26  -2.351221   4.009736\n",
              "27  -6.878321  -7.743176\n",
              "28  -1.782450   3.470720\n",
              "29  -7.371086  -7.325253\n",
              "30  -7.735544  -7.775664\n",
              "31 -11.115023  -3.718933\n",
              "32  -9.697542  -4.305598\n",
              "33 -10.189548  -4.840978\n",
              "34  -2.187732   3.333521\n",
              "35  -2.346733   3.561284\n",
              "36  -1.927448   4.936845\n",
              "37 -10.744871  -2.260894\n",
              "38  -6.866582  -8.034219\n",
              "39  -7.512011  -6.928720\n",
              "40  -6.904845  -7.277059\n",
              "41  -1.617346   4.989305\n",
              "42  -0.757969   4.908984\n",
              "43  -9.484783  -4.251441\n",
              "44  -7.408736  -8.109631\n",
              "45  -9.509194  -4.028920\n",
              "46  -8.337910  -3.211304\n",
              "47  -9.712125  -3.068207\n",
              "48  -8.866083  -2.433532\n",
              "49  -7.684883  -7.455196"
            ]
          },
          "execution_count": 7,
          "metadata": {},
          "output_type": "execute_result"
        }
      ],
      "source": [
        "# Load library\n",
        "import pandas as pd\n",
        "# Load data\n",
        "dataframe = pd.DataFrame(features, columns=[\"feature_1\", \"feature_2\"])\n",
        "# Remove observations with missing values\n",
        "dataframe.dropna()"
      ]
    },
    {
      "cell_type": "markdown",
      "metadata": {
        "id": "uHkyaZ_Itq2b"
      },
      "source": [
        "4.10 Deleting Observations with Missing Values"
      ]
    },
    {
      "cell_type": "code",
      "execution_count": 8,
      "metadata": {
        "colab": {
          "base_uri": "https://localhost:8080/"
        },
        "id": "rmodlLsatXDE",
        "outputId": "cc3a9220-8306-431d-bb67-e5d44aad7e69"
      },
      "outputs": [
        {
          "data": {
            "text/plain": [
              "array([[ 1.1, 11.1],\n",
              "       [ 2.2, 22.2],\n",
              "       [ 3.3, 33.3],\n",
              "       [ 4.4, 44.4]])"
            ]
          },
          "execution_count": 8,
          "metadata": {},
          "output_type": "execute_result"
        }
      ],
      "source": [
        "# Load library\n",
        "import numpy as np\n",
        "# Create feature matrix\n",
        "features = np.array([[1.1, 11.1],\n",
        "                    [2.2, 22.2],\n",
        "                    [3.3, 33.3],\n",
        "                    [4.4, 44.4],\n",
        "                    [np.nan, 55]])\n",
        "# Keep only observations that are not (denoted by ~) missing\n",
        "features[~np.isnan(features).any(axis=1)]"
      ]
    },
    {
      "cell_type": "code",
      "execution_count": 9,
      "metadata": {
        "colab": {
          "base_uri": "https://localhost:8080/",
          "height": 174
        },
        "id": "9oXLeeq-t6RJ",
        "outputId": "27d51835-4906-4bfa-ce4d-93a670f5b8b6"
      },
      "outputs": [
        {
          "data": {
            "text/html": [
              "<div>\n",
              "<style scoped>\n",
              "    .dataframe tbody tr th:only-of-type {\n",
              "        vertical-align: middle;\n",
              "    }\n",
              "\n",
              "    .dataframe tbody tr th {\n",
              "        vertical-align: top;\n",
              "    }\n",
              "\n",
              "    .dataframe thead th {\n",
              "        text-align: right;\n",
              "    }\n",
              "</style>\n",
              "<table border=\"1\" class=\"dataframe\">\n",
              "  <thead>\n",
              "    <tr style=\"text-align: right;\">\n",
              "      <th></th>\n",
              "      <th>feature_1</th>\n",
              "      <th>feature_2</th>\n",
              "    </tr>\n",
              "  </thead>\n",
              "  <tbody>\n",
              "    <tr>\n",
              "      <th>0</th>\n",
              "      <td>1.1</td>\n",
              "      <td>11.1</td>\n",
              "    </tr>\n",
              "    <tr>\n",
              "      <th>1</th>\n",
              "      <td>2.2</td>\n",
              "      <td>22.2</td>\n",
              "    </tr>\n",
              "    <tr>\n",
              "      <th>2</th>\n",
              "      <td>3.3</td>\n",
              "      <td>33.3</td>\n",
              "    </tr>\n",
              "    <tr>\n",
              "      <th>3</th>\n",
              "      <td>4.4</td>\n",
              "      <td>44.4</td>\n",
              "    </tr>\n",
              "  </tbody>\n",
              "</table>\n",
              "</div>"
            ],
            "text/plain": [
              "   feature_1  feature_2\n",
              "0        1.1       11.1\n",
              "1        2.2       22.2\n",
              "2        3.3       33.3\n",
              "3        4.4       44.4"
            ]
          },
          "execution_count": 9,
          "metadata": {},
          "output_type": "execute_result"
        }
      ],
      "source": [
        "# Load library\n",
        "import pandas as pd\n",
        "# Load data\n",
        "dataframe = pd.DataFrame(features, columns=[\"feature_1\", \"feature_2\"])\n",
        "# Remove observations with missing values\n",
        "dataframe.dropna()"
      ]
    },
    {
      "cell_type": "markdown",
      "metadata": {
        "id": "FEK83jKht-cv"
      },
      "source": [
        "4.11 Imputing Missing Values"
      ]
    },
    {
      "cell_type": "code",
      "execution_count": 10,
      "metadata": {
        "colab": {
          "base_uri": "https://localhost:8080/"
        },
        "id": "gJNIG9xxt-PB",
        "outputId": "88527d09-77e3-4fef-d557-8ae99d1b8f75"
      },
      "outputs": [
        {
          "name": "stdout",
          "output_type": "stream",
          "text": [
            "True Value: 0.8730186113995938\n",
            "Imputed Value: 1.0959262913919632\n"
          ]
        }
      ],
      "source": [
        "# Load libraries\n",
        "import numpy as np\n",
        "from sklearn.impute import KNNImputer\n",
        "from sklearn.preprocessing import StandardScaler\n",
        "from sklearn.datasets import make_blobs\n",
        "# Make a simulated feature matrix\n",
        "features, _ = make_blobs(n_samples = 1000,\n",
        "n_features = 2,\n",
        "random_state = 1)\n",
        "# Standardize the features\n",
        "scaler = StandardScaler()\n",
        "standardized_features = scaler.fit_transform(features)\n",
        "# Replace the first feature's first value with a missing value\n",
        "true_value = standardized_features[0,0]\n",
        "standardized_features[0,0] = np.nan\n",
        "# Predict the missing values in the feature matrix\n",
        "knn_imputer = KNNImputer(n_neighbors=5)\n",
        "features_knn_imputed = knn_imputer.fit_transform(standardized_features)\n",
        "# Compare true and imputed values\n",
        "print(\"True Value:\", true_value)\n",
        "print(\"Imputed Value:\", features_knn_imputed[0,0])"
      ]
    },
    {
      "cell_type": "code",
      "execution_count": 11,
      "metadata": {
        "colab": {
          "base_uri": "https://localhost:8080/"
        },
        "id": "xEr3x0ntuG_H",
        "outputId": "d546fe5e-ea03-472a-b1ff-e79998e7c20d"
      },
      "outputs": [
        {
          "name": "stdout",
          "output_type": "stream",
          "text": [
            "True Value: 0.8730186113995938\n",
            "Imputed Value: -3.058372724614996\n"
          ]
        }
      ],
      "source": [
        "# Load libraries\n",
        "import numpy as np\n",
        "from sklearn.impute import SimpleImputer\n",
        "from sklearn.preprocessing import StandardScaler\n",
        "from sklearn.datasets import make_blobs\n",
        "# Make a simulated feature matrix\n",
        "features, _ = make_blobs(n_samples = 1000,\n",
        "n_features = 2,\n",
        "random_state = 1)\n",
        "# Standardize the features\n",
        "scaler = StandardScaler()\n",
        "standardized_features = scaler.fit_transform(features)\n",
        "# Replace the first feature's first value with a missing value\n",
        "true_value = standardized_features[0,0]\n",
        "standardized_features[0,0] = np.nan\n",
        "# Create imputer using the \"mean\" strategy\n",
        "mean_imputer = SimpleImputer(strategy=\"mean\")\n",
        "# Impute values\n",
        "features_mean_imputed = mean_imputer.fit_transform(features)\n",
        "# Compare true and imputed values\n",
        "print(\"True Value:\", true_value)\n",
        "print(\"Imputed Value:\", features_mean_imputed[0,0])"
      ]
    }
  ],
  "metadata": {
    "colab": {
      "authorship_tag": "ABX9TyNau5jsWn2qB5aAxsCy6RwI",
      "provenance": []
    },
    "kernelspec": {
      "display_name": "Python 3",
      "name": "python3"
    },
    "language_info": {
      "codemirror_mode": {
        "name": "ipython",
        "version": 3
      },
      "file_extension": ".py",
      "mimetype": "text/x-python",
      "name": "python",
      "nbconvert_exporter": "python",
      "pygments_lexer": "ipython3",
      "version": "3.12.10"
    }
  },
  "nbformat": 4,
  "nbformat_minor": 0
}
