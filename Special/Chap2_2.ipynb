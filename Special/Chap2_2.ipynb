{
  "cells": [
    {
      "cell_type": "code",
      "execution_count": 1,
      "metadata": {
        "colab": {
          "base_uri": "https://localhost:8080/",
          "height": 112
        },
        "id": "QNX-HMpTTNaD",
        "outputId": "461f0dde-14e6-4d7b-9bec-a6a66a02cd92"
      },
      "outputs": [
        {
          "data": {
            "text/html": [
              "<div>\n",
              "<style scoped>\n",
              "    .dataframe tbody tr th:only-of-type {\n",
              "        vertical-align: middle;\n",
              "    }\n",
              "\n",
              "    .dataframe tbody tr th {\n",
              "        vertical-align: top;\n",
              "    }\n",
              "\n",
              "    .dataframe thead th {\n",
              "        text-align: right;\n",
              "    }\n",
              "</style>\n",
              "<table border=\"1\" class=\"dataframe\">\n",
              "  <thead>\n",
              "    <tr style=\"text-align: right;\">\n",
              "      <th></th>\n",
              "      <th>integer</th>\n",
              "      <th>datetime</th>\n",
              "      <th>category</th>\n",
              "    </tr>\n",
              "  </thead>\n",
              "  <tbody>\n",
              "    <tr>\n",
              "      <th>0</th>\n",
              "      <td>5</td>\n",
              "      <td>2015-01-01 00:00:00</td>\n",
              "      <td>0</td>\n",
              "    </tr>\n",
              "    <tr>\n",
              "      <th>1</th>\n",
              "      <td>5</td>\n",
              "      <td>2015-01-01 00:00:01</td>\n",
              "      <td>0</td>\n",
              "    </tr>\n",
              "  </tbody>\n",
              "</table>\n",
              "</div>"
            ],
            "text/plain": [
              "   integer             datetime  category\n",
              "0        5  2015-01-01 00:00:00         0\n",
              "1        5  2015-01-01 00:00:01         0"
            ]
          },
          "execution_count": 1,
          "metadata": {},
          "output_type": "execute_result"
        }
      ],
      "source": [
        "# Load library\n",
        "import pandas as pd\n",
        "# Create URL\n",
        "url = 'https://machine-learning-python-cookbook.s3.amazonaws.com/data.parquet'\n",
        "# Load data\n",
        "dataframe = pd.read_parquet(url)\n",
        "# View the first two rows\n",
        "dataframe.head(2)"
      ]
    },
    {
      "cell_type": "markdown",
      "metadata": {
        "id": "zigltbyNWDR5"
      },
      "source": [
        "2.7 Loading an Avro File"
      ]
    },
    {
      "cell_type": "code",
      "execution_count": 5,
      "metadata": {
        "colab": {
          "base_uri": "https://localhost:8080/"
        },
        "id": "-5OaqRQWWRuZ",
        "outputId": "647001e1-fa46-4df8-d43f-985924f72602"
      },
      "outputs": [
        {
          "name": "stdout",
          "output_type": "stream",
          "text": [
            "Requirement already satisfied: fastavro in c:\\users\\surface pro7\\appdata\\local\\programs\\python\\python312\\lib\\site-packages (1.11.1)\n",
            "Requirement already satisfied: pandas in c:\\users\\surface pro7\\appdata\\local\\programs\\python\\python312\\lib\\site-packages (2.2.3)\n",
            "Requirement already satisfied: numpy>=1.26.0 in c:\\users\\surface pro7\\appdata\\local\\programs\\python\\python312\\lib\\site-packages (from pandas) (2.1.3)\n",
            "Requirement already satisfied: python-dateutil>=2.8.2 in c:\\users\\surface pro7\\appdata\\local\\programs\\python\\python312\\lib\\site-packages (from pandas) (2.9.0.post0)\n",
            "Requirement already satisfied: pytz>=2020.1 in c:\\users\\surface pro7\\appdata\\local\\programs\\python\\python312\\lib\\site-packages (from pandas) (2025.2)\n",
            "Requirement already satisfied: tzdata>=2022.7 in c:\\users\\surface pro7\\appdata\\local\\programs\\python\\python312\\lib\\site-packages (from pandas) (2025.2)\n",
            "Requirement already satisfied: six>=1.5 in c:\\users\\surface pro7\\appdata\\local\\programs\\python\\python312\\lib\\site-packages (from python-dateutil>=2.8.2->pandas) (1.17.0)\n"
          ]
        }
      ],
      "source": [
        "! pip install fastavro pandas\n"
      ]
    },
    {
      "cell_type": "code",
      "execution_count": 6,
      "metadata": {
        "colab": {
          "base_uri": "https://localhost:8080/",
          "height": 112
        },
        "id": "KDVF_I0lWAZ2",
        "outputId": "85cfd891-b00f-4634-c38c-2e759b028855"
      },
      "outputs": [
        {
          "name": "stdout",
          "output_type": "stream",
          "text": [
            "   integer             datetime  category\n",
            "0        5  2015-01-01 00:00:00         0\n",
            "1        5  2015-01-01 00:00:01         0\n"
          ]
        }
      ],
      "source": [
        "import requests\n",
        "import pandas as pd\n",
        "from fastavro import reader\n",
        "from io import BytesIO\n",
        "\n",
        "# دانلود فایل Avro\n",
        "url = 'https://machine-learning-python-cookbook.s3.amazonaws.com/data.avro'\n",
        "r = requests.get(url)\n",
        "\n",
        "# خوندن فایل با fastavro\n",
        "with BytesIO(r.content) as f:\n",
        "    avro_reader = reader(f)\n",
        "    dataframe = pd.DataFrame(list(avro_reader))\n",
        "\n",
        "print(dataframe.head(2))\n"
      ]
    },
    {
      "cell_type": "markdown",
      "metadata": {
        "id": "zWvyTO6EWb9X"
      },
      "source": [
        "2.8 Querying a SQLite Database"
      ]
    },
    {
      "cell_type": "code",
      "execution_count": 7,
      "metadata": {
        "colab": {
          "base_uri": "https://localhost:8080/"
        },
        "id": "BkLZgIddWkSI",
        "outputId": "b7cc24ba-0d92-4bbf-9b93-342b7978189d"
      },
      "outputs": [
        {
          "name": "stdout",
          "output_type": "stream",
          "text": [
            "Collecting sqlalchemy\n",
            "  Downloading sqlalchemy-2.0.41-cp312-cp312-win_amd64.whl.metadata (9.8 kB)\n",
            "Collecting greenlet>=1 (from sqlalchemy)\n",
            "  Downloading greenlet-3.2.3-cp312-cp312-win_amd64.whl.metadata (4.2 kB)\n",
            "Requirement already satisfied: typing-extensions>=4.6.0 in c:\\users\\surface pro7\\appdata\\local\\programs\\python\\python312\\lib\\site-packages (from sqlalchemy) (4.13.1)\n",
            "Downloading sqlalchemy-2.0.41-cp312-cp312-win_amd64.whl (2.1 MB)\n",
            "   ---------------------------------------- 0.0/2.1 MB ? eta -:--:--\n",
            "   ---------------------------------------- 0.0/2.1 MB ? eta -:--:--\n",
            "   ---- ----------------------------------- 0.3/2.1 MB ? eta -:--:--\n",
            "   -------------- ------------------------- 0.8/2.1 MB 2.2 MB/s eta 0:00:01\n",
            "   ------------------------ --------------- 1.3/2.1 MB 2.4 MB/s eta 0:00:01\n",
            "   ---------------------------------- ----- 1.8/2.1 MB 2.7 MB/s eta 0:00:01\n",
            "   ---------------------------------------- 2.1/2.1 MB 2.6 MB/s eta 0:00:00\n",
            "Downloading greenlet-3.2.3-cp312-cp312-win_amd64.whl (297 kB)\n",
            "Installing collected packages: greenlet, sqlalchemy\n",
            "\n",
            "   ---------------------------------------- 0/2 [greenlet]\n",
            "   ---------------------------------------- 0/2 [greenlet]\n",
            "   -------------------- ------------------- 1/2 [sqlalchemy]\n",
            "   -------------------- ------------------- 1/2 [sqlalchemy]\n",
            "   -------------------- ------------------- 1/2 [sqlalchemy]\n",
            "   -------------------- ------------------- 1/2 [sqlalchemy]\n",
            "   -------------------- ------------------- 1/2 [sqlalchemy]\n",
            "   -------------------- ------------------- 1/2 [sqlalchemy]\n",
            "   -------------------- ------------------- 1/2 [sqlalchemy]\n",
            "   -------------------- ------------------- 1/2 [sqlalchemy]\n",
            "   -------------------- ------------------- 1/2 [sqlalchemy]\n",
            "   -------------------- ------------------- 1/2 [sqlalchemy]\n",
            "   -------------------- ------------------- 1/2 [sqlalchemy]\n",
            "   -------------------- ------------------- 1/2 [sqlalchemy]\n",
            "   -------------------- ------------------- 1/2 [sqlalchemy]\n",
            "   -------------------- ------------------- 1/2 [sqlalchemy]\n",
            "   -------------------- ------------------- 1/2 [sqlalchemy]\n",
            "   -------------------- ------------------- 1/2 [sqlalchemy]\n",
            "   -------------------- ------------------- 1/2 [sqlalchemy]\n",
            "   -------------------- ------------------- 1/2 [sqlalchemy]\n",
            "   -------------------- ------------------- 1/2 [sqlalchemy]\n",
            "   -------------------- ------------------- 1/2 [sqlalchemy]\n",
            "   -------------------- ------------------- 1/2 [sqlalchemy]\n",
            "   -------------------- ------------------- 1/2 [sqlalchemy]\n",
            "   -------------------- ------------------- 1/2 [sqlalchemy]\n",
            "   -------------------- ------------------- 1/2 [sqlalchemy]\n",
            "   -------------------- ------------------- 1/2 [sqlalchemy]\n",
            "   -------------------- ------------------- 1/2 [sqlalchemy]\n",
            "   -------------------- ------------------- 1/2 [sqlalchemy]\n",
            "   -------------------- ------------------- 1/2 [sqlalchemy]\n",
            "   -------------------- ------------------- 1/2 [sqlalchemy]\n",
            "   -------------------- ------------------- 1/2 [sqlalchemy]\n",
            "   ---------------------------------------- 2/2 [sqlalchemy]\n",
            "\n",
            "Successfully installed greenlet-3.2.3 sqlalchemy-2.0.41\n"
          ]
        }
      ],
      "source": [
        "! pip install sqlalchemy"
      ]
    },
    {
      "cell_type": "code",
      "execution_count": null,
      "metadata": {
        "id": "U57yfRQaZnwa"
      },
      "outputs": [],
      "source": [
        "# Load libraries\n",
        "import pandas as pd\n",
        "from sqlalchemy import create_engine\n",
        "# Create a connection to the database\n",
        "database_connection = create_engine('sqlite:///sample.db')\n",
        "# Load data\n",
        "dataframe = pd.read_sql_query('SELECT * FROM data', database_connection)\n",
        "# View first two rows\n",
        "dataframe.head(2)"
      ]
    },
    {
      "cell_type": "markdown",
      "metadata": {
        "id": "VA9TgjlwW6sI"
      },
      "source": [
        "2.9 Querying a Remote SQL Database"
      ]
    },
    {
      "cell_type": "code",
      "execution_count": 9,
      "metadata": {
        "colab": {
          "base_uri": "https://localhost:8080/"
        },
        "id": "hR_QyMI6XCp6",
        "outputId": "15aec82a-ec2c-4228-92ba-e8dfcc2e8724"
      },
      "outputs": [
        {
          "name": "stdout",
          "output_type": "stream",
          "text": [
            "Collecting pymysql\n",
            "  Downloading PyMySQL-1.1.1-py3-none-any.whl.metadata (4.4 kB)\n",
            "Downloading PyMySQL-1.1.1-py3-none-any.whl (44 kB)\n",
            "Installing collected packages: pymysql\n",
            "Successfully installed pymysql-1.1.1\n"
          ]
        }
      ],
      "source": [
        "! pip install pymysql"
      ]
    },
    {
      "cell_type": "code",
      "execution_count": null,
      "metadata": {
        "id": "_Idi7G1XYYbd"
      },
      "outputs": [],
      "source": [
        "# Import libraries\n",
        "import pymysql\n",
        "import pandas as pd\n",
        "# Create a DB connection\n",
        "# Use the following example to start a DB instance\n",
        "# https://github.com/kylegallatin/mysql-db-example\n",
        "conn = pymysql.connect(\n",
        "host='localhost',\n",
        "user='root',\n",
        "password = \"\",\n",
        "db='db',\n",
        ")\n",
        "# Read the SQL query into a dataframe\n",
        "dataframe = pd.read_sql(\"select * from data\", conn)\n",
        "# View the first two rows\n",
        "dataframe.head(2)"
      ]
    },
    {
      "cell_type": "markdown",
      "metadata": {
        "id": "oPE1wKcMXNuJ"
      },
      "source": [
        "2.10 Loading Data from a Google Sheet"
      ]
    },
    {
      "cell_type": "code",
      "execution_count": 11,
      "metadata": {
        "colab": {
          "base_uri": "https://localhost:8080/",
          "height": 112
        },
        "id": "uUczsSOdXRno",
        "outputId": "ea52e45b-aedd-4985-b484-90af415a7f95"
      },
      "outputs": [
        {
          "data": {
            "text/html": [
              "<div>\n",
              "<style scoped>\n",
              "    .dataframe tbody tr th:only-of-type {\n",
              "        vertical-align: middle;\n",
              "    }\n",
              "\n",
              "    .dataframe tbody tr th {\n",
              "        vertical-align: top;\n",
              "    }\n",
              "\n",
              "    .dataframe thead th {\n",
              "        text-align: right;\n",
              "    }\n",
              "</style>\n",
              "<table border=\"1\" class=\"dataframe\">\n",
              "  <thead>\n",
              "    <tr style=\"text-align: right;\">\n",
              "      <th></th>\n",
              "      <th>integer</th>\n",
              "      <th>datetime</th>\n",
              "      <th>category</th>\n",
              "    </tr>\n",
              "  </thead>\n",
              "  <tbody>\n",
              "    <tr>\n",
              "      <th>0</th>\n",
              "      <td>5</td>\n",
              "      <td>2015-01-01 0:00:00</td>\n",
              "      <td>0</td>\n",
              "    </tr>\n",
              "    <tr>\n",
              "      <th>1</th>\n",
              "      <td>5</td>\n",
              "      <td>2015-01-01 0:00:01</td>\n",
              "      <td>0</td>\n",
              "    </tr>\n",
              "  </tbody>\n",
              "</table>\n",
              "</div>"
            ],
            "text/plain": [
              "   integer            datetime  category\n",
              "0        5  2015-01-01 0:00:00         0\n",
              "1        5  2015-01-01 0:00:01         0"
            ]
          },
          "execution_count": 11,
          "metadata": {},
          "output_type": "execute_result"
        }
      ],
      "source": [
        "# Import libraries\n",
        "import pandas as pd\n",
        "# Google Sheet URL that downloads the sheet as a CSV\n",
        "url = \"https://docs.google.com/spreadsheets/d/\"\\\n",
        "\"1ehC-9otcAuitqnmWksqt1mOrTRCL38dv0K9UjhwzTOA/export?format=csv\"\n",
        "# Read the CSV into a dataframe\n",
        "dataframe = pd.read_csv(url)\n",
        "# View the first two rows\n",
        "dataframe.head(2)"
      ]
    },
    {
      "cell_type": "markdown",
      "metadata": {
        "id": "S45Jx_xLXZoy"
      },
      "source": [
        "2.11 Loading Data from an S3 Bucket"
      ]
    },
    {
      "cell_type": "code",
      "execution_count": 12,
      "metadata": {
        "colab": {
          "base_uri": "https://localhost:8080/"
        },
        "id": "ho2lKK3UX3MT",
        "outputId": "367efd85-f4f1-4b1c-fb2d-8287f15beb19"
      },
      "outputs": [
        {
          "name": "stdout",
          "output_type": "stream",
          "text": [
            "Collecting s3fs\n",
            "  Downloading s3fs-2025.5.1-py3-none-any.whl.metadata (1.9 kB)\n",
            "Collecting aiobotocore<3.0.0,>=2.5.4 (from s3fs)\n",
            "  Downloading aiobotocore-2.23.0-py3-none-any.whl.metadata (24 kB)\n",
            "Collecting fsspec==2025.5.1 (from s3fs)\n",
            "  Downloading fsspec-2025.5.1-py3-none-any.whl.metadata (11 kB)\n",
            "Requirement already satisfied: aiohttp!=4.0.0a0,!=4.0.0a1 in c:\\users\\surface pro7\\appdata\\local\\programs\\python\\python312\\lib\\site-packages (from s3fs) (3.11.18)\n",
            "Collecting aioitertools<1.0.0,>=0.5.1 (from aiobotocore<3.0.0,>=2.5.4->s3fs)\n",
            "  Downloading aioitertools-0.12.0-py3-none-any.whl.metadata (3.8 kB)\n",
            "Collecting botocore<1.38.28,>=1.38.23 (from aiobotocore<3.0.0,>=2.5.4->s3fs)\n",
            "  Downloading botocore-1.38.27-py3-none-any.whl.metadata (5.7 kB)\n",
            "Requirement already satisfied: python-dateutil<3.0.0,>=2.1 in c:\\users\\surface pro7\\appdata\\local\\programs\\python\\python312\\lib\\site-packages (from aiobotocore<3.0.0,>=2.5.4->s3fs) (2.9.0.post0)\n",
            "Collecting jmespath<2.0.0,>=0.7.1 (from aiobotocore<3.0.0,>=2.5.4->s3fs)\n",
            "  Downloading jmespath-1.0.1-py3-none-any.whl.metadata (7.6 kB)\n",
            "Requirement already satisfied: multidict<7.0.0,>=6.0.0 in c:\\users\\surface pro7\\appdata\\local\\programs\\python\\python312\\lib\\site-packages (from aiobotocore<3.0.0,>=2.5.4->s3fs) (6.4.3)\n",
            "Requirement already satisfied: wrapt<2.0.0,>=1.10.10 in c:\\users\\surface pro7\\appdata\\local\\programs\\python\\python312\\lib\\site-packages (from aiobotocore<3.0.0,>=2.5.4->s3fs) (1.17.2)\n",
            "Requirement already satisfied: aiohappyeyeballs>=2.3.0 in c:\\users\\surface pro7\\appdata\\local\\programs\\python\\python312\\lib\\site-packages (from aiohttp!=4.0.0a0,!=4.0.0a1->s3fs) (2.6.1)\n",
            "Requirement already satisfied: aiosignal>=1.1.2 in c:\\users\\surface pro7\\appdata\\local\\programs\\python\\python312\\lib\\site-packages (from aiohttp!=4.0.0a0,!=4.0.0a1->s3fs) (1.3.2)\n",
            "Requirement already satisfied: attrs>=17.3.0 in c:\\users\\surface pro7\\appdata\\local\\programs\\python\\python312\\lib\\site-packages (from aiohttp!=4.0.0a0,!=4.0.0a1->s3fs) (25.3.0)\n",
            "Requirement already satisfied: frozenlist>=1.1.1 in c:\\users\\surface pro7\\appdata\\local\\programs\\python\\python312\\lib\\site-packages (from aiohttp!=4.0.0a0,!=4.0.0a1->s3fs) (1.6.0)\n",
            "Requirement already satisfied: propcache>=0.2.0 in c:\\users\\surface pro7\\appdata\\local\\programs\\python\\python312\\lib\\site-packages (from aiohttp!=4.0.0a0,!=4.0.0a1->s3fs) (0.3.1)\n",
            "Requirement already satisfied: yarl<2.0,>=1.17.0 in c:\\users\\surface pro7\\appdata\\local\\programs\\python\\python312\\lib\\site-packages (from aiohttp!=4.0.0a0,!=4.0.0a1->s3fs) (1.20.0)\n",
            "Requirement already satisfied: urllib3!=2.2.0,<3,>=1.25.4 in c:\\users\\surface pro7\\appdata\\local\\programs\\python\\python312\\lib\\site-packages (from botocore<1.38.28,>=1.38.23->aiobotocore<3.0.0,>=2.5.4->s3fs) (2.4.0)\n",
            "Requirement already satisfied: six>=1.5 in c:\\users\\surface pro7\\appdata\\local\\programs\\python\\python312\\lib\\site-packages (from python-dateutil<3.0.0,>=2.1->aiobotocore<3.0.0,>=2.5.4->s3fs) (1.17.0)\n",
            "Requirement already satisfied: idna>=2.0 in c:\\users\\surface pro7\\appdata\\local\\programs\\python\\python312\\lib\\site-packages (from yarl<2.0,>=1.17.0->aiohttp!=4.0.0a0,!=4.0.0a1->s3fs) (3.10)\n",
            "Downloading s3fs-2025.5.1-py3-none-any.whl (30 kB)\n",
            "Downloading fsspec-2025.5.1-py3-none-any.whl (199 kB)\n",
            "Downloading aiobotocore-2.23.0-py3-none-any.whl (84 kB)\n",
            "Downloading aioitertools-0.12.0-py3-none-any.whl (24 kB)\n",
            "Downloading botocore-1.38.27-py3-none-any.whl (13.6 MB)\n",
            "   ---------------------------------------- 0.0/13.6 MB ? eta -:--:--\n",
            "    --------------------------------------- 0.3/13.6 MB ? eta -:--:--\n",
            "   --- ------------------------------------ 1.3/13.6 MB 3.9 MB/s eta 0:00:04\n",
            "   ----- ---------------------------------- 1.8/13.6 MB 3.4 MB/s eta 0:00:04\n",
            "   ----- ---------------------------------- 1.8/13.6 MB 3.4 MB/s eta 0:00:04\n",
            "   ---------- ----------------------------- 3.4/13.6 MB 3.7 MB/s eta 0:00:03\n",
            "   ------------ --------------------------- 4.2/13.6 MB 3.5 MB/s eta 0:00:03\n",
            "   ------------- -------------------------- 4.5/13.6 MB 3.6 MB/s eta 0:00:03\n",
            "   ---------------- ----------------------- 5.5/13.6 MB 3.5 MB/s eta 0:00:03\n",
            "   ------------------ --------------------- 6.3/13.6 MB 3.4 MB/s eta 0:00:03\n",
            "   -------------------- ------------------- 6.8/13.6 MB 3.6 MB/s eta 0:00:02\n",
            "   ----------------------- ---------------- 7.9/13.6 MB 3.5 MB/s eta 0:00:02\n",
            "   ------------------------- -------------- 8.7/13.6 MB 3.5 MB/s eta 0:00:02\n",
            "   --------------------------- ------------ 9.4/13.6 MB 3.6 MB/s eta 0:00:02\n",
            "   ------------------------------ --------- 10.5/13.6 MB 3.6 MB/s eta 0:00:01\n",
            "   -------------------------------- ------- 11.0/13.6 MB 3.5 MB/s eta 0:00:01\n",
            "   ----------------------------------- ---- 12.1/13.6 MB 3.6 MB/s eta 0:00:01\n",
            "   ------------------------------------- -- 12.6/13.6 MB 3.6 MB/s eta 0:00:01\n",
            "   ---------------------------------------  13.4/13.6 MB 3.6 MB/s eta 0:00:01\n",
            "   ---------------------------------------  13.4/13.6 MB 3.6 MB/s eta 0:00:01\n",
            "   ---------------------------------------  13.4/13.6 MB 3.6 MB/s eta 0:00:01\n",
            "   ---------------------------------------  13.4/13.6 MB 3.6 MB/s eta 0:00:01\n",
            "   ---------------------------------------- 13.6/13.6 MB 2.9 MB/s eta 0:00:00\n",
            "Downloading jmespath-1.0.1-py3-none-any.whl (20 kB)\n",
            "Installing collected packages: jmespath, fsspec, aioitertools, botocore, aiobotocore, s3fs\n",
            "\n",
            "   ---------------------------------------- 0/6 [jmespath]\n",
            "  Attempting uninstall: fsspec\n",
            "   ---------------------------------------- 0/6 [jmespath]\n",
            "    Found existing installation: fsspec 2025.3.0\n",
            "   ---------------------------------------- 0/6 [jmespath]\n",
            "    Uninstalling fsspec-2025.3.0:\n",
            "   ---------------------------------------- 0/6 [jmespath]\n",
            "      Successfully uninstalled fsspec-2025.3.0\n",
            "   ---------------------------------------- 0/6 [jmespath]\n",
            "   ------ --------------------------------- 1/6 [fsspec]\n",
            "   ------ --------------------------------- 1/6 [fsspec]\n",
            "   ------ --------------------------------- 1/6 [fsspec]\n",
            "   ------ --------------------------------- 1/6 [fsspec]\n",
            "   ------ --------------------------------- 1/6 [fsspec]\n",
            "   ------ --------------------------------- 1/6 [fsspec]\n",
            "   ------------- -------------------------- 2/6 [aioitertools]\n",
            "   -------------------- ------------------- 3/6 [botocore]\n",
            "   -------------------- ------------------- 3/6 [botocore]\n",
            "   -------------------- ------------------- 3/6 [botocore]\n",
            "   -------------------- ------------------- 3/6 [botocore]\n",
            "   -------------------- ------------------- 3/6 [botocore]\n",
            "   -------------------- ------------------- 3/6 [botocore]\n",
            "   -------------------- ------------------- 3/6 [botocore]\n",
            "   -------------------- ------------------- 3/6 [botocore]\n",
            "   -------------------- ------------------- 3/6 [botocore]\n",
            "   -------------------- ------------------- 3/6 [botocore]\n",
            "   -------------------- ------------------- 3/6 [botocore]\n",
            "   -------------------- ------------------- 3/6 [botocore]\n",
            "   -------------------- ------------------- 3/6 [botocore]\n",
            "   -------------------- ------------------- 3/6 [botocore]\n",
            "   -------------------- ------------------- 3/6 [botocore]\n",
            "   -------------------- ------------------- 3/6 [botocore]\n",
            "   -------------------- ------------------- 3/6 [botocore]\n",
            "   -------------------- ------------------- 3/6 [botocore]\n",
            "   -------------------- ------------------- 3/6 [botocore]\n",
            "   -------------------- ------------------- 3/6 [botocore]\n",
            "   -------------------- ------------------- 3/6 [botocore]\n",
            "   -------------------------- ------------- 4/6 [aiobotocore]\n",
            "   -------------------------- ------------- 4/6 [aiobotocore]\n",
            "   -------------------------- ------------- 4/6 [aiobotocore]\n",
            "   --------------------------------- ------ 5/6 [s3fs]\n",
            "   ---------------------------------------- 6/6 [s3fs]\n",
            "\n",
            "Successfully installed aiobotocore-2.23.0 aioitertools-0.12.0 botocore-1.38.27 fsspec-2025.5.1 jmespath-1.0.1 s3fs-2025.5.1\n"
          ]
        },
        {
          "name": "stderr",
          "output_type": "stream",
          "text": [
            "ERROR: pip's dependency resolver does not currently take into account all the packages that are installed. This behaviour is the source of the following dependency conflicts.\n",
            "datasets 3.6.0 requires fsspec[http]<=2025.3.0,>=2023.1.0, but you have fsspec 2025.5.1 which is incompatible.\n"
          ]
        }
      ],
      "source": [
        "! pip install s3fs"
      ]
    },
    {
      "cell_type": "code",
      "execution_count": 13,
      "metadata": {
        "colab": {
          "base_uri": "https://localhost:8080/",
          "height": 112
        },
        "id": "dJLwnpGSXce8",
        "outputId": "5455b244-a0e7-47fa-8c3b-fd59882859df"
      },
      "outputs": [
        {
          "data": {
            "text/html": [
              "<div>\n",
              "<style scoped>\n",
              "    .dataframe tbody tr th:only-of-type {\n",
              "        vertical-align: middle;\n",
              "    }\n",
              "\n",
              "    .dataframe tbody tr th {\n",
              "        vertical-align: top;\n",
              "    }\n",
              "\n",
              "    .dataframe thead th {\n",
              "        text-align: right;\n",
              "    }\n",
              "</style>\n",
              "<table border=\"1\" class=\"dataframe\">\n",
              "  <thead>\n",
              "    <tr style=\"text-align: right;\">\n",
              "      <th></th>\n",
              "      <th>integer</th>\n",
              "      <th>datetime</th>\n",
              "      <th>category</th>\n",
              "    </tr>\n",
              "  </thead>\n",
              "  <tbody>\n",
              "    <tr>\n",
              "      <th>0</th>\n",
              "      <td>5</td>\n",
              "      <td>2015-01-01 00:00:00</td>\n",
              "      <td>0</td>\n",
              "    </tr>\n",
              "    <tr>\n",
              "      <th>1</th>\n",
              "      <td>5</td>\n",
              "      <td>2015-01-01 00:00:01</td>\n",
              "      <td>0</td>\n",
              "    </tr>\n",
              "  </tbody>\n",
              "</table>\n",
              "</div>"
            ],
            "text/plain": [
              "   integer             datetime  category\n",
              "0        5  2015-01-01 00:00:00         0\n",
              "1        5  2015-01-01 00:00:01         0"
            ]
          },
          "execution_count": 13,
          "metadata": {},
          "output_type": "execute_result"
        }
      ],
      "source": [
        "# Import libraries\n",
        "import pandas as pd\n",
        "# S3 path to CSV\n",
        "s3_uri = \"s3://machine-learning-python-cookbook/data.csv\"\n",
        "# Set AWS credentials (replace with your own)\n",
        "ACCESS_KEY_ID = \"xxxxxxxxxxxxx\"\n",
        "SECRET_ACCESS_KEY = \"xxxxxxxxxxxxxxxx\"\n",
        "# Read the CSV into a dataframe\n",
        "dataframe = pd.read_csv(s3_uri,storage_options={\n",
        "\"key\": ACCESS_KEY_ID,\n",
        "\"secret\": SECRET_ACCESS_KEY,\n",
        "}\n",
        ")\n",
        "# View first two rows\n",
        "dataframe.head(2)"
      ]
    },
    {
      "cell_type": "markdown",
      "metadata": {
        "id": "J_ic2cWYYhjZ"
      },
      "source": [
        "2.12 Loading Unstructured Data"
      ]
    },
    {
      "cell_type": "code",
      "execution_count": 14,
      "metadata": {
        "colab": {
          "base_uri": "https://localhost:8080/"
        },
        "id": "rn0MBY1mYqm1",
        "outputId": "10b3a126-65ed-49ac-9790-d742e67cda54"
      },
      "outputs": [
        {
          "name": "stdout",
          "output_type": "stream",
          "text": [
            "Requirement already satisfied: requests in c:\\users\\surface pro7\\appdata\\local\\programs\\python\\python312\\lib\\site-packages (2.32.3)\n",
            "Requirement already satisfied: charset-normalizer<4,>=2 in c:\\users\\surface pro7\\appdata\\local\\programs\\python\\python312\\lib\\site-packages (from requests) (3.4.2)\n",
            "Requirement already satisfied: idna<4,>=2.5 in c:\\users\\surface pro7\\appdata\\local\\programs\\python\\python312\\lib\\site-packages (from requests) (3.10)\n",
            "Requirement already satisfied: urllib3<3,>=1.21.1 in c:\\users\\surface pro7\\appdata\\local\\programs\\python\\python312\\lib\\site-packages (from requests) (2.4.0)\n",
            "Requirement already satisfied: certifi>=2017.4.17 in c:\\users\\surface pro7\\appdata\\local\\programs\\python\\python312\\lib\\site-packages (from requests) (2025.1.31)\n"
          ]
        }
      ],
      "source": [
        "! pip install requests"
      ]
    },
    {
      "cell_type": "code",
      "execution_count": 15,
      "metadata": {
        "colab": {
          "base_uri": "https://localhost:8080/"
        },
        "id": "u5r-X3UsYRL3",
        "outputId": "2f2433a9-d52c-4042-91c0-8f053cb50f7b"
      },
      "outputs": [
        {
          "name": "stdout",
          "output_type": "stream",
          "text": [
            "Hello there!\n"
          ]
        }
      ],
      "source": [
        "import requests\n",
        "# URL to download the txt file from\n",
        "txt_url = \"https://machine-learning-python-cookbook.s3.amazonaws.com/text.txt\"\n",
        "# Get the txt file\n",
        "r = requests . get ( txt_url )\n",
        "# Write it to text.txt locally\n",
        "with open ( 'text.txt' , 'wb' ) as f:\n",
        "  f.write ( r . content )\n",
        "# Read in the file\n",
        "with open ( 'text.txt' , 'r' ) as f:\n",
        "  text = f.read ()\n",
        "# Print the content\n",
        "print ( text )"
      ]
    }
  ],
  "metadata": {
    "colab": {
      "authorship_tag": "ABX9TyMn3N7ePWe+sHlDXHZfSlat",
      "provenance": []
    },
    "kernelspec": {
      "display_name": "Python 3",
      "name": "python3"
    },
    "language_info": {
      "codemirror_mode": {
        "name": "ipython",
        "version": 3
      },
      "file_extension": ".py",
      "mimetype": "text/x-python",
      "name": "python",
      "nbconvert_exporter": "python",
      "pygments_lexer": "ipython3",
      "version": "3.12.10"
    }
  },
  "nbformat": 4,
  "nbformat_minor": 0
}
