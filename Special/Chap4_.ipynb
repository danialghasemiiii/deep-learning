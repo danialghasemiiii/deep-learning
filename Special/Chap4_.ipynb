{
  "cells": [
    {
      "cell_type": "markdown",
      "metadata": {
        "id": "WcsSPmSERWZP"
      },
      "source": [
        "4.1 Rescaling a Feature"
      ]
    },
    {
      "cell_type": "code",
      "execution_count": 1,
      "metadata": {
        "colab": {
          "base_uri": "https://localhost:8080/"
        },
        "id": "Dqzd5X60PeFW",
        "outputId": "42c81ae9-a640-40b9-f945-d3054600867e"
      },
      "outputs": [
        {
          "data": {
            "text/plain": [
              "array([[0.        ],\n",
              "       [0.28571429],\n",
              "       [0.35714286],\n",
              "       [0.42857143],\n",
              "       [1.        ]])"
            ]
          },
          "execution_count": 1,
          "metadata": {},
          "output_type": "execute_result"
        }
      ],
      "source": [
        "# Load libraries\n",
        "import numpy as np\n",
        "from sklearn import preprocessing\n",
        "# Create feature\n",
        "feature = np.array([[-500.5],\n",
        "                  [-100.1],\n",
        "                  [0],\n",
        "                  [100.1],\n",
        "                  [900.9]])\n",
        "# Create scaler\n",
        "minmax_scale = preprocessing.MinMaxScaler(feature_range=(0, 1))\n",
        "# Scale feature\n",
        "scaled_feature = minmax_scale.fit_transform(feature)\n",
        "# Show feature\n",
        "scaled_feature"
      ]
    },
    {
      "cell_type": "code",
      "execution_count": 2,
      "metadata": {
        "colab": {
          "base_uri": "https://localhost:8080/"
        },
        "id": "oDKPfjOaRllk",
        "outputId": "04afc61c-29a7-496e-e75a-c211f59784ba"
      },
      "outputs": [
        {
          "data": {
            "text/plain": [
              "array([[-1.        ],\n",
              "       [-0.42857143],\n",
              "       [-0.28571429],\n",
              "       [-0.14285714],\n",
              "       [ 1.        ]])"
            ]
          },
          "execution_count": 2,
          "metadata": {},
          "output_type": "execute_result"
        }
      ],
      "source": [
        "# Load libraries\n",
        "import numpy as np\n",
        "from sklearn import preprocessing\n",
        "# Create feature\n",
        "feature = np.array([[-500.5],\n",
        "                  [-100.1],\n",
        "                  [0],\n",
        "                  [100.1],\n",
        "                  [900.9]])\n",
        "# Create scaler\n",
        "minmax_scale = preprocessing.MinMaxScaler(feature_range=(-1, 1))\n",
        "# Scale feature\n",
        "scaled_feature = minmax_scale.fit_transform(feature)\n",
        "# Show feature\n",
        "scaled_feature"
      ]
    },
    {
      "cell_type": "markdown",
      "metadata": {
        "id": "8fYWZxBKSu7S"
      },
      "source": [
        "4.2 Standardizing a Feature"
      ]
    },
    {
      "cell_type": "code",
      "execution_count": 3,
      "metadata": {
        "id": "ISoGWrV2Rzrz"
      },
      "outputs": [
        {
          "data": {
            "text/plain": [
              "array([[-0.76058269],\n",
              "       [-0.54177196],\n",
              "       [-0.35009716],\n",
              "       [-0.32271504],\n",
              "       [ 1.97516685]])"
            ]
          },
          "execution_count": 3,
          "metadata": {},
          "output_type": "execute_result"
        }
      ],
      "source": [
        "# Load libraries\n",
        "import numpy as np\n",
        "from sklearn import preprocessing\n",
        "# Create feature\n",
        "x = np.array([[-1000.1],\n",
        "            [-200.2],\n",
        "            [500.5],\n",
        "            [600.6],\n",
        "            [9000.9]])\n",
        "# Create scaler\n",
        "scaler = preprocessing.StandardScaler()\n",
        "# Transform the feature\n",
        "standardized = scaler.fit_transform(x)\n",
        "# Show feature\n",
        "standardized"
      ]
    },
    {
      "cell_type": "code",
      "execution_count": 4,
      "metadata": {
        "id": "-1KvdxFKTMIE"
      },
      "outputs": [
        {
          "name": "stdout",
          "output_type": "stream",
          "text": [
            "Mean: 0\n",
            "Standard deviation: 1.0\n"
          ]
        }
      ],
      "source": [
        "# Print mean and standard deviation\n",
        "print(\"Mean:\", round(standardized.mean()))\n",
        "print(\"Standard deviation:\", standardized.std())"
      ]
    },
    {
      "cell_type": "code",
      "execution_count": 5,
      "metadata": {
        "colab": {
          "base_uri": "https://localhost:8080/"
        },
        "id": "pJ4abxBQTWci",
        "outputId": "1af9564b-649d-499e-9f75-d2745ec33f34"
      },
      "outputs": [
        {
          "data": {
            "text/plain": [
              "array([[-1.87387612],\n",
              "       [-0.875     ],\n",
              "       [ 0.        ],\n",
              "       [ 0.125     ],\n",
              "       [10.61488511]])"
            ]
          },
          "execution_count": 5,
          "metadata": {},
          "output_type": "execute_result"
        }
      ],
      "source": [
        "# Create scaler\n",
        "robust_scaler = preprocessing.RobustScaler()\n",
        "# Transform feature\n",
        "robust_scaler.fit_transform(x)"
      ]
    },
    {
      "cell_type": "markdown",
      "metadata": {
        "id": "wg1JQSnnT4ss"
      },
      "source": [
        "4.3 Normalizing Observations"
      ]
    },
    {
      "cell_type": "code",
      "execution_count": 6,
      "metadata": {
        "colab": {
          "base_uri": "https://localhost:8080/"
        },
        "id": "V5-xYaeWTYTS",
        "outputId": "5bf42a92-cdbb-45a0-fe5b-fc97335775f6"
      },
      "outputs": [
        {
          "data": {
            "text/plain": [
              "array([[0.70710678, 0.70710678],\n",
              "       [0.30782029, 0.95144452],\n",
              "       [0.07405353, 0.99725427],\n",
              "       [0.04733062, 0.99887928],\n",
              "       [0.95709822, 0.28976368]])"
            ]
          },
          "execution_count": 6,
          "metadata": {},
          "output_type": "execute_result"
        }
      ],
      "source": [
        "from sklearn.preprocessing import Normalizer\n",
        "# Create feature matrix\n",
        "features = np.array([[0.5, 0.5],\n",
        "                     [1.1, 3.4],\n",
        "                     [1.5, 20.2],\n",
        "                     [1.63, 34.4],\n",
        "                     [10.9, 3.3]])\n",
        "# Create normalizer\n",
        "normalizer = Normalizer(norm=\"l2\")\n",
        "# Transform feature matrix\n",
        "normalizer.transform(features)"
      ]
    },
    {
      "cell_type": "code",
      "execution_count": 7,
      "metadata": {
        "colab": {
          "base_uri": "https://localhost:8080/"
        },
        "id": "mOqGu1K8UwsY",
        "outputId": "1f0c6de9-d4c7-4386-bf48-161adaf761e4"
      },
      "outputs": [
        {
          "data": {
            "text/plain": [
              "array([[0.70710678, 0.70710678],\n",
              "       [0.30782029, 0.95144452],\n",
              "       [0.07405353, 0.99725427],\n",
              "       [0.04733062, 0.99887928],\n",
              "       [0.95709822, 0.28976368]])"
            ]
          },
          "execution_count": 7,
          "metadata": {},
          "output_type": "execute_result"
        }
      ],
      "source": [
        " # Transform feature matrix\n",
        " features_l2_norm = Normalizer(norm=\"l2\").transform(features)\n",
        " # Show feature matrix\n",
        " features_l2_norm"
      ]
    },
    {
      "cell_type": "code",
      "execution_count": 8,
      "metadata": {
        "colab": {
          "base_uri": "https://localhost:8080/"
        },
        "id": "bcwR_9SSU9fH",
        "outputId": "1694d6a8-20a2-4392-9b24-fbb73bc20cef"
      },
      "outputs": [
        {
          "data": {
            "text/plain": [
              "array([[0.5       , 0.5       ],\n",
              "       [0.24444444, 0.75555556],\n",
              "       [0.06912442, 0.93087558],\n",
              "       [0.04524008, 0.95475992],\n",
              "       [0.76760563, 0.23239437]])"
            ]
          },
          "execution_count": 8,
          "metadata": {},
          "output_type": "execute_result"
        }
      ],
      "source": [
        "# Transform feature matrix\n",
        "features_l1_norm = Normalizer(norm=\"l1\").transform(features)\n",
        "# Show feature matrix\n",
        "features_l1_norm"
      ]
    },
    {
      "cell_type": "code",
      "execution_count": 9,
      "metadata": {
        "colab": {
          "base_uri": "https://localhost:8080/"
        },
        "id": "CP0opocZVG1S",
        "outputId": "2782302d-a4b8-47f4-d63b-2f2fcba49d75"
      },
      "outputs": [
        {
          "name": "stdout",
          "output_type": "stream",
          "text": [
            "Sum of the first observation's values: 1.0\n"
          ]
        }
      ],
      "source": [
        "# Print sum\n",
        "print(\"Sum of the first observation\\'s values:\",\n",
        "      features_l1_norm[0, 0] + features_l1_norm[0, 1])"
      ]
    },
    {
      "cell_type": "markdown",
      "metadata": {
        "id": "oh5Ml2_IWhxg"
      },
      "source": [
        "4.4 Generating Polynomial and Interaction Features"
      ]
    },
    {
      "cell_type": "code",
      "execution_count": 10,
      "metadata": {
        "colab": {
          "base_uri": "https://localhost:8080/"
        },
        "id": "Zqydy7SWV4gY",
        "outputId": "778bc8d5-fce3-462e-f75f-426a19212238"
      },
      "outputs": [
        {
          "data": {
            "text/plain": [
              "array([[2., 3., 4., 6., 9.],\n",
              "       [2., 3., 4., 6., 9.],\n",
              "       [2., 3., 4., 6., 9.]])"
            ]
          },
          "execution_count": 10,
          "metadata": {},
          "output_type": "execute_result"
        }
      ],
      "source": [
        "# Load libraries\n",
        "import numpy as np\n",
        "from sklearn.preprocessing import PolynomialFeatures\n",
        "# Create feature matrix\n",
        "features = np.array([[2, 3],\n",
        "                     [2, 3],\n",
        "                     [2, 3]])\n",
        "# Create PolynomialFeatures object\n",
        "polynomial_interaction = PolynomialFeatures(degree=2, include_bias=False)\n",
        "# Create polynomial features\n",
        "polynomial_interaction.fit_transform(features)"
      ]
    },
    {
      "cell_type": "code",
      "execution_count": 11,
      "metadata": {
        "colab": {
          "base_uri": "https://localhost:8080/"
        },
        "id": "EI9Q1lOOZDXg",
        "outputId": "eee6bd3e-abdd-42b9-9f0d-7d7409b412bc"
      },
      "outputs": [
        {
          "data": {
            "text/plain": [
              "array([[2., 3., 6.],\n",
              "       [2., 3., 6.],\n",
              "       [2., 3., 6.]])"
            ]
          },
          "execution_count": 11,
          "metadata": {},
          "output_type": "execute_result"
        }
      ],
      "source": [
        "interaction = PolynomialFeatures(degree=2,\n",
        "                                 interaction_only=True, include_bias=False)\n",
        "interaction.fit_transform(features)"
      ]
    },
    {
      "cell_type": "code",
      "execution_count": 12,
      "metadata": {
        "colab": {
          "base_uri": "https://localhost:8080/"
        },
        "id": "bu6o_BThXdBU",
        "outputId": "3266516d-22a9-4a08-da6d-e931c9f57407"
      },
      "outputs": [
        {
          "data": {
            "text/plain": [
              "array([[ 2.,  3.,  4.,  6.,  9.,  8., 12., 18., 27.],\n",
              "       [ 2.,  3.,  4.,  6.,  9.,  8., 12., 18., 27.],\n",
              "       [ 2.,  3.,  4.,  6.,  9.,  8., 12., 18., 27.]])"
            ]
          },
          "execution_count": 12,
          "metadata": {},
          "output_type": "execute_result"
        }
      ],
      "source": [
        "interaction = PolynomialFeatures(degree=3, include_bias=False)\n",
        "interaction.fit_transform(features)"
      ]
    },
    {
      "cell_type": "code",
      "execution_count": 13,
      "metadata": {
        "colab": {
          "base_uri": "https://localhost:8080/"
        },
        "id": "j3BGsiePZWJf",
        "outputId": "59da46a9-a0f4-43f0-f00c-14cc17753309"
      },
      "outputs": [
        {
          "data": {
            "text/plain": [
              "array([[ 2.,  3.,  4.,  6.,  9.,  8., 12., 18., 27., 16., 24., 36., 54.,\n",
              "        81.],\n",
              "       [ 2.,  3.,  4.,  6.,  9.,  8., 12., 18., 27., 16., 24., 36., 54.,\n",
              "        81.],\n",
              "       [ 2.,  3.,  4.,  6.,  9.,  8., 12., 18., 27., 16., 24., 36., 54.,\n",
              "        81.]])"
            ]
          },
          "execution_count": 13,
          "metadata": {},
          "output_type": "execute_result"
        }
      ],
      "source": [
        "interaction = PolynomialFeatures(degree=4, include_bias=False)\n",
        "interaction.fit_transform(features)"
      ]
    },
    {
      "cell_type": "markdown",
      "metadata": {
        "id": "S3kmPKt1YdSf"
      },
      "source": [
        "4.5 Transforming Features"
      ]
    },
    {
      "cell_type": "code",
      "execution_count": 14,
      "metadata": {
        "colab": {
          "base_uri": "https://localhost:8080/"
        },
        "id": "nikIyw04Yei9",
        "outputId": "7984e9a6-c6fa-447e-d57c-c8bfaea9ac15"
      },
      "outputs": [
        {
          "data": {
            "text/plain": [
              "array([[12, 13],\n",
              "       [12, 13],\n",
              "       [12, 13]])"
            ]
          },
          "execution_count": 14,
          "metadata": {},
          "output_type": "execute_result"
        }
      ],
      "source": [
        "# Load libraries\n",
        "import numpy as np\n",
        "from sklearn.preprocessing import FunctionTransformer\n",
        "# Create feature matrix\n",
        "features = np.array([[2, 3],\n",
        "                    [2, 3],\n",
        "                    [2, 3]])\n",
        "# Define a simple function\n",
        "def add_ten(x: int) -> int:\n",
        "  return x + 10\n",
        "# Create transformer\n",
        "ten_transformer = FunctionTransformer(add_ten)\n",
        "# Transform feature matrix\n",
        "ten_transformer.transform(features)"
      ]
    },
    {
      "cell_type": "code",
      "execution_count": 15,
      "metadata": {
        "colab": {
          "base_uri": "https://localhost:8080/"
        },
        "id": "K7RhbXOsa1lb",
        "outputId": "63f4979d-3f9e-4340-e92b-cb2143df5b8e"
      },
      "outputs": [
        {
          "data": {
            "text/plain": [
              "array([], shape=(0, 2), dtype=int64)"
            ]
          },
          "execution_count": 15,
          "metadata": {},
          "output_type": "execute_result"
        }
      ],
      "source": [
        "ten_transformer.transform(features[:0])"
      ]
    },
    {
      "cell_type": "code",
      "execution_count": 16,
      "metadata": {
        "colab": {
          "base_uri": "https://localhost:8080/"
        },
        "id": "zrCHWGywZfMB",
        "outputId": "9bf085f8-e455-48db-ea7e-410ba2a37f78"
      },
      "outputs": [
        {
          "data": {
            "text/html": [
              "<div>\n",
              "<style scoped>\n",
              "    .dataframe tbody tr th:only-of-type {\n",
              "        vertical-align: middle;\n",
              "    }\n",
              "\n",
              "    .dataframe tbody tr th {\n",
              "        vertical-align: top;\n",
              "    }\n",
              "\n",
              "    .dataframe thead th {\n",
              "        text-align: right;\n",
              "    }\n",
              "</style>\n",
              "<table border=\"1\" class=\"dataframe\">\n",
              "  <thead>\n",
              "    <tr style=\"text-align: right;\">\n",
              "      <th></th>\n",
              "      <th>feature_1</th>\n",
              "      <th>feature_2</th>\n",
              "    </tr>\n",
              "  </thead>\n",
              "  <tbody>\n",
              "    <tr>\n",
              "      <th>0</th>\n",
              "      <td>12</td>\n",
              "      <td>13</td>\n",
              "    </tr>\n",
              "    <tr>\n",
              "      <th>1</th>\n",
              "      <td>12</td>\n",
              "      <td>13</td>\n",
              "    </tr>\n",
              "    <tr>\n",
              "      <th>2</th>\n",
              "      <td>12</td>\n",
              "      <td>13</td>\n",
              "    </tr>\n",
              "  </tbody>\n",
              "</table>\n",
              "</div>"
            ],
            "text/plain": [
              "   feature_1  feature_2\n",
              "0         12         13\n",
              "1         12         13\n",
              "2         12         13"
            ]
          },
          "execution_count": 16,
          "metadata": {},
          "output_type": "execute_result"
        }
      ],
      "source": [
        "# Load library\n",
        "import pandas as pd\n",
        "# Create DataFrame\n",
        "df = pd.DataFrame(features, columns=[\"feature_1\", \"feature_2\"])\n",
        "# Apply function\n",
        "df.apply(add_ten)"
      ]
    },
    {
      "cell_type": "markdown",
      "metadata": {
        "id": "Ec9Z8x8-aVGL"
      },
      "source": [
        "4.6 Detecting Outliers"
      ]
    },
    {
      "cell_type": "code",
      "execution_count": 17,
      "metadata": {
        "colab": {
          "base_uri": "https://localhost:8080/"
        },
        "id": "y2KATHJOaWPo",
        "outputId": "20e9e374-ba5d-41fc-80b3-09f320c0fa52"
      },
      "outputs": [
        {
          "data": {
            "text/plain": [
              "array([-1,  1,  1,  1,  1,  1,  1,  1,  1,  1])"
            ]
          },
          "execution_count": 17,
          "metadata": {},
          "output_type": "execute_result"
        }
      ],
      "source": [
        "# Load libraries\n",
        "import numpy as np\n",
        "from sklearn.covariance import EllipticEnvelope\n",
        "from sklearn.datasets import make_blobs\n",
        "# Create simulated data\n",
        "features, _ = make_blobs(n_samples = 10,\n",
        "                        n_features = 2,\n",
        "                        centers = 1,\n",
        "                        random_state = 1)\n",
        "# Replace the first observation's values with extreme values\n",
        "features[0,0] = 10000\n",
        "features[0,1] = 10000\n",
        "# Create detector\n",
        "outlier_detector = EllipticEnvelope(contamination=.1)\n",
        "# Fit detector\n",
        "outlier_detector.fit(features)\n",
        "# Predict outliers\n",
        "outlier_detector.predict(features)"
      ]
    },
    {
      "cell_type": "code",
      "execution_count": 18,
      "metadata": {
        "colab": {
          "base_uri": "https://localhost:8080/"
        },
        "id": "K8cd2HxUefvO",
        "outputId": "f5acb437-4f3e-4f77-878c-0156b987f434"
      },
      "outputs": [
        {
          "data": {
            "text/plain": [
              "array([-1,  1,  1,  1, -1,  1,  1,  1,  1,  1])"
            ]
          },
          "execution_count": 18,
          "metadata": {},
          "output_type": "execute_result"
        }
      ],
      "source": [
        "# Load libraries\n",
        "import numpy as np\n",
        "from sklearn.covariance import EllipticEnvelope\n",
        "from sklearn.datasets import make_blobs\n",
        "# Create simulated data\n",
        "features, _ = make_blobs(n_samples = 10,\n",
        "                        n_features = 2,\n",
        "                        centers = 1,\n",
        "                        random_state = 1)\n",
        "# Replace the first observation's values with extreme values\n",
        "features[0,0] = 10000\n",
        "features[0,1] = 10000\n",
        "# Create detector\n",
        "outlier_detector = EllipticEnvelope(contamination=.2)\n",
        "# Fit detector\n",
        "outlier_detector.fit(features)\n",
        "# Predict outliers\n",
        "outlier_detector.predict(features)"
      ]
    },
    {
      "cell_type": "code",
      "execution_count": 19,
      "metadata": {
        "colab": {
          "base_uri": "https://localhost:8080/"
        },
        "id": "blWw5Fb3bIXN",
        "outputId": "13b5f8c2-1a35-42e9-b57b-e2ea4daa968d"
      },
      "outputs": [
        {
          "data": {
            "text/plain": [
              "(array([0]),)"
            ]
          },
          "execution_count": 19,
          "metadata": {},
          "output_type": "execute_result"
        }
      ],
      "source": [
        "# Create one feature\n",
        "feature = features[:,0]\n",
        "# Create a function to return index of outliers\n",
        "def indicies_of_outliers(x: int) -> np.array(int):\n",
        "  q1, q3 = np.percentile(x, [25, 75])\n",
        "  iqr = q3 - q1\n",
        "  lower_bound = q1 - (iqr * 1.5)\n",
        "  upper_bound = q3 + (iqr * 1.5)\n",
        "  return np.where((x > upper_bound) | (x < lower_bound))\n",
        "# Run function\n",
        "indicies_of_outliers(feature)"
      ]
    }
  ],
  "metadata": {
    "colab": {
      "authorship_tag": "ABX9TyNhkrN1tgvOk5eoAZkZ7xO8",
      "provenance": []
    },
    "kernelspec": {
      "display_name": "Python 3",
      "name": "python3"
    },
    "language_info": {
      "codemirror_mode": {
        "name": "ipython",
        "version": 3
      },
      "file_extension": ".py",
      "mimetype": "text/x-python",
      "name": "python",
      "nbconvert_exporter": "python",
      "pygments_lexer": "ipython3",
      "version": "3.12.10"
    }
  },
  "nbformat": 4,
  "nbformat_minor": 0
}
