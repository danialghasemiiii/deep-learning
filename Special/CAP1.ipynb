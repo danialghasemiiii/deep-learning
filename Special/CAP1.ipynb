{
 "cells": [
  {
   "cell_type": "markdown",
   "id": "91358268",
   "metadata": {},
   "source": [
    "1.1 Creating a Vector"
   ]
  },
  {
   "cell_type": "code",
   "execution_count": null,
   "id": "3f1b55ef",
   "metadata": {},
   "outputs": [],
   "source": [
    "# Load library\n",
    "import numpy as np\n",
    "# Create a vector as a row\n",
    "vector_row = np.array([1, 2, 3])\n",
    "# Create a vector as a column\n",
    "vector_column = np.array([[1],\n",
    "[2],\n",
    "[3]])"
   ]
  }
 ],
 "metadata": {
  "kernelspec": {
   "display_name": "Python 3",
   "language": "python",
   "name": "python3"
  },
  "language_info": {
   "name": "python",
   "version": "3.12.10"
  }
 },
 "nbformat": 4,
 "nbformat_minor": 5
}
