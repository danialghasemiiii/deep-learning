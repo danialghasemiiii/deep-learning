{
  "cells": [
    {
      "cell_type": "markdown",
      "metadata": {
        "id": "dHtjoHIALeaO"
      },
      "source": [
        "### Chapter 2"
      ]
    },
    {
      "cell_type": "code",
      "execution_count": 2,
      "metadata": {
        "colab": {
          "base_uri": "https://localhost:8080/"
        },
        "id": "attdb8ygLeaR",
        "outputId": "2a3fbc00-9c24-46c9-a4f9-03963344ec1e"
      },
      "outputs": [
        {
          "data": {
            "text/plain": [
              "array([ 0.,  0.,  5., 13.,  9.,  1.,  0.,  0.,  0.,  0., 13., 15., 10.,\n",
              "       15.,  5.,  0.,  0.,  3., 15.,  2.,  0., 11.,  8.,  0.,  0.,  4.,\n",
              "       12.,  0.,  0.,  8.,  8.,  0.,  0.,  5.,  8.,  0.,  0.,  9.,  8.,\n",
              "        0.,  0.,  4., 11.,  0.,  1., 12.,  7.,  0.,  0.,  2., 14.,  5.,\n",
              "       10., 12.,  0.,  0.,  0.,  0.,  6., 13., 10.,  0.,  0.,  0.])"
            ]
          },
          "execution_count": 2,
          "metadata": {},
          "output_type": "execute_result"
        }
      ],
      "source": [
        "# load scikit-learn's datasets\n",
        "from sklearn import datasets\n",
        "\n",
        "# load digits dataset\n",
        "digits = datasets.load_digits()\n",
        "\n",
        "# create features matrix\n",
        "features = digits.data\n",
        "\n",
        "# create target vector\n",
        "target = digits.target\n",
        "\n",
        "# view first observation\n",
        "features[0]"
      ]
    },
    {
      "cell_type": "code",
      "execution_count": 3,
      "metadata": {
        "colab": {
          "base_uri": "https://localhost:8080/"
        },
        "id": "zQWRYSW5sZsF",
        "outputId": "bc6cf640-a7b1-4559-81f9-d5fbc1273ed3"
      },
      "outputs": [
        {
          "data": {
            "text/plain": [
              "(64,)"
            ]
          },
          "execution_count": 3,
          "metadata": {},
          "output_type": "execute_result"
        }
      ],
      "source": [
        "features[0].shape"
      ]
    },
    {
      "cell_type": "code",
      "execution_count": 4,
      "metadata": {
        "colab": {
          "base_uri": "https://localhost:8080/",
          "height": 448
        },
        "id": "rmH_4wvaLmq-",
        "outputId": "75357269-fe6d-445d-8b27-222f358629f9"
      },
      "outputs": [
        {
          "data": {
            "text/plain": [
              "<matplotlib.image.AxesImage at 0x2311d655220>"
            ]
          },
          "execution_count": 4,
          "metadata": {},
          "output_type": "execute_result"
        },
        {
          "data": {
            "image/png": "[encoded data removed]",
            "text/plain": [
              "<Figure size 640x480 with 1 Axes>"
            ]
          },
          "metadata": {},
          "output_type": "display_data"
        }
      ],
      "source": [
        "import matplotlib.pyplot as plt\n",
        "\n",
        "plt.imshow(features[5].reshape(8,8),'gray')"
      ]
    },
    {
      "cell_type": "code",
      "execution_count": 5,
      "metadata": {
        "colab": {
          "base_uri": "https://localhost:8080/"
        },
        "id": "K4bZbR9BsjYI",
        "outputId": "5ef14256-43b1-4a02-f125-56ec0d2da975"
      },
      "outputs": [
        {
          "data": {
            "text/plain": [
              "np.int64(0)"
            ]
          },
          "execution_count": 5,
          "metadata": {},
          "output_type": "execute_result"
        }
      ],
      "source": [
        "target[0]"
      ]
    },
    {
      "cell_type": "code",
      "execution_count": 6,
      "metadata": {
        "colab": {
          "base_uri": "https://localhost:8080/"
        },
        "id": "o15EsJNMsnNg",
        "outputId": "8d823013-88f0-41e5-c67d-94b7330083e4"
      },
      "outputs": [
        {
          "data": {
            "text/plain": [
              "(1797,)"
            ]
          },
          "execution_count": 6,
          "metadata": {},
          "output_type": "execute_result"
        }
      ],
      "source": [
        "target.shape"
      ]
    },
    {
      "cell_type": "code",
      "execution_count": 7,
      "metadata": {
        "colab": {
          "base_uri": "https://localhost:8080/",
          "height": 392
        },
        "id": "9JfjyODSMLpM",
        "outputId": "3bd08388-c492-4691-d6a7-ed957506d94e"
      },
      "outputs": [
        {
          "data": {
            "image/png": "[encoded data removed]",
            "text/plain": [
              "<Figure size 640x480 with 8 Axes>"
            ]
          },
          "metadata": {},
          "output_type": "display_data"
        }
      ],
      "source": [
        "for i in range(8):\n",
        "  plt.subplot(2,4,i+1)\n",
        "  plt.imshow(features[i].reshape((8,8)), cmap = 'gray')\n",
        "  plt.title(f'{target[i]}')"
      ]
    },
    {
      "cell_type": "code",
      "execution_count": 8,
      "metadata": {
        "id": "CLPkM1-fPiso"
      },
      "outputs": [],
      "source": [
        "iris = datasets.load_iris"
      ]
    },
    {
      "cell_type": "code",
      "execution_count": 9,
      "metadata": {
        "colab": {
          "base_uri": "https://localhost:8080/"
        },
        "id": "Tw1Z09DGLeaU",
        "outputId": "58b60da1-21d3-44b3-8a8f-e3ec13d6fd60"
      },
      "outputs": [
        {
          "name": "stdout",
          "output_type": "stream",
          "text": [
            "Feature Matrix \n",
            " [[ 1.29322588 -0.61736206 -0.11044703]\n",
            " [-2.793085    0.36633201  1.93752881]\n",
            " [ 0.80186103 -0.18656977  0.0465673 ]]\n",
            "Target Vector \n",
            " [-10.37865986  25.5124503   19.67705609]\n"
          ]
        }
      ],
      "source": [
        "# load library\n",
        "from sklearn.datasets import make_regression\n",
        "\n",
        "# generate features matrix, target vector, and the true coefficients\n",
        "features, target, coefficients = make_regression(n_samples = 100,\n",
        "                                                 n_features = 3,\n",
        "                                                 n_informative = 3,\n",
        "                                                 n_targets = 1,\n",
        "                                                 noise = 0.0,\n",
        "                                                 coef = True,\n",
        "                                                 random_state = 1)\n",
        "\n",
        "# view feature matrix and target vector\n",
        "print(\"Feature Matrix \\n {}\".format(features[:3]))\n",
        "print(\"Target Vector \\n {}\".format(target[:3]))"
      ]
    },
    {
      "cell_type": "code",
      "execution_count": 10,
      "metadata": {
        "colab": {
          "base_uri": "https://localhost:8080/",
          "height": 448
        },
        "id": "BonOWuL_tJ1o",
        "outputId": "bef78bc3-32ca-4c7c-b87f-28d480542f81"
      },
      "outputs": [
        {
          "data": {
            "text/plain": [
              "<matplotlib.collections.PathCollection at 0x231308d1d00>"
            ]
          },
          "execution_count": 10,
          "metadata": {},
          "output_type": "execute_result"
        },
        {
          "data": {
            "image/png": "[encoded data removed]",
            "text/plain": [
              "<Figure size 640x480 with 1 Axes>"
            ]
          },
          "metadata": {},
          "output_type": "display_data"
        }
      ],
      "source": [
        "plt.scatter(features[:,0],features[:,1])"
      ]
    },
    {
      "cell_type": "code",
      "execution_count": 11,
      "metadata": {
        "colab": {
          "base_uri": "https://localhost:8080/"
        },
        "id": "V2mnhRwSLeaV",
        "outputId": "066b3fe9-aa18-4d7c-d412-8b7fadfc835f"
      },
      "outputs": [
        {
          "name": "stdout",
          "output_type": "stream",
          "text": [
            "Feature matrix\n",
            " [[ 1.06354768 -1.42632219  1.02163151]\n",
            " [ 0.23156977  1.49535261  0.33251578]\n",
            " [ 0.15972951  0.83533515 -0.40869554]]\n",
            "Target vector\n",
            " [1 0 0]\n"
          ]
        }
      ],
      "source": [
        "# load library\n",
        "from sklearn.datasets import make_classification\n",
        "\n",
        "# generate features matrix and target vector\n",
        "\n",
        "features, target = make_classification(n_samples = 100,\n",
        "                                       n_features = 3,\n",
        "                                       n_informative = 3,\n",
        "                                       n_redundant = 0,\n",
        "                                       n_classes = 2,\n",
        "                                       weights = [.25, .75],\n",
        "                                       random_state = 1)\n",
        "\n",
        "# view feature matrix and target vector\n",
        "print(\"Feature matrix\\n {}\".format(features[:3]))\n",
        "print(\"Target vector\\n {}\".format(target[:3]))"
      ]
    },
    {
      "cell_type": "code",
      "execution_count": 12,
      "metadata": {
        "colab": {
          "base_uri": "https://localhost:8080/",
          "height": 448
        },
        "id": "32PQE7OStZoc",
        "outputId": "8108d6d1-cd20-464d-edb6-2cba121d73b4"
      },
      "outputs": [
        {
          "data": {
            "text/plain": [
              "<matplotlib.collections.PathCollection at 0x23130a205f0>"
            ]
          },
          "execution_count": 12,
          "metadata": {},
          "output_type": "execute_result"
        },
        {
          "data": {
            "image/png": "[encoded data removed]",
            "text/plain": [
              "<Figure size 640x480 with 1 Axes>"
            ]
          },
          "metadata": {},
          "output_type": "display_data"
        }
      ],
      "source": [
        "plt.scatter(features[:, 0], features[:, 1], c=target)"
      ]
    },
    {
      "cell_type": "code",
      "execution_count": 13,
      "metadata": {
        "colab": {
          "base_uri": "https://localhost:8080/"
        },
        "id": "NBaRyrCjLeaV",
        "outputId": "7cc7cd5d-2d10-4b14-c67b-09d449cbdef8"
      },
      "outputs": [
        {
          "name": "stdout",
          "output_type": "stream",
          "text": [
            "Feature Matrix\n",
            " [[ -0.79415228   2.10495117]\n",
            " [ -9.15155186  -4.81286449]\n",
            " [-11.44182631  -4.45781441]]\n",
            "Target Vector\n",
            " [0 1 1]\n"
          ]
        }
      ],
      "source": [
        "# load library\n",
        "from sklearn.datasets import make_blobs\n",
        "\n",
        "# generate feature_matrix and target vector\n",
        "features, target = make_blobs(n_samples = 100,\n",
        "                              n_features = 2,\n",
        "                              centers = 3,\n",
        "                              cluster_std = 1,\n",
        "                              shuffle = True,\n",
        "                              random_state = 1)\n",
        "\n",
        "# view feature matrix and target vector\n",
        "print(\"Feature Matrix\\n {}\".format(features[:3]))\n",
        "print(\"Target Vector\\n {}\".format(target[:3]))"
      ]
    },
    {
      "cell_type": "code",
      "execution_count": 14,
      "metadata": {
        "colab": {
          "base_uri": "https://localhost:8080/",
          "height": 430
        },
        "id": "eJTol2ZpLeaW",
        "outputId": "2b09d23a-901e-4bab-f083-40d8ba3241ed"
      },
      "outputs": [
        {
          "data": {
            "image/png": "[encoded data removed]",
            "text/plain": [
              "<Figure size 640x480 with 1 Axes>"
            ]
          },
          "metadata": {},
          "output_type": "display_data"
        }
      ],
      "source": [
        "# load library\n",
        "import matplotlib.pyplot as plt\n",
        "\n",
        "# view scatterplot\n",
        "plt.scatter(features[:, 0], features[:, 1], c=target)\n",
        "plt.show()"
      ]
    },
    {
      "cell_type": "code",
      "execution_count": 15,
      "metadata": {
        "colab": {
          "base_uri": "https://localhost:8080/",
          "height": 112
        },
        "id": "Jub7ao2VLeaX",
        "outputId": "a62cfcc7-6f5b-4a1b-879b-01b0429b23a8"
      },
      "outputs": [
        {
          "data": {
            "text/html": [
              "<div>\n",
              "<style scoped>\n",
              "    .dataframe tbody tr th:only-of-type {\n",
              "        vertical-align: middle;\n",
              "    }\n",
              "\n",
              "    .dataframe tbody tr th {\n",
              "        vertical-align: top;\n",
              "    }\n",
              "\n",
              "    .dataframe thead th {\n",
              "        text-align: right;\n",
              "    }\n",
              "</style>\n",
              "<table border=\"1\" class=\"dataframe\">\n",
              "  <thead>\n",
              "    <tr style=\"text-align: right;\">\n",
              "      <th></th>\n",
              "      <th>integer</th>\n",
              "      <th>datetime</th>\n",
              "      <th>category</th>\n",
              "    </tr>\n",
              "  </thead>\n",
              "  <tbody>\n",
              "    <tr>\n",
              "      <th>0</th>\n",
              "      <td>5</td>\n",
              "      <td>2015-01-01 00:00:00</td>\n",
              "      <td>0</td>\n",
              "    </tr>\n",
              "    <tr>\n",
              "      <th>1</th>\n",
              "      <td>5</td>\n",
              "      <td>2015-01-01 00:00:01</td>\n",
              "      <td>0</td>\n",
              "    </tr>\n",
              "  </tbody>\n",
              "</table>\n",
              "</div>"
            ],
            "text/plain": [
              "   integer             datetime  category\n",
              "0        5  2015-01-01 00:00:00         0\n",
              "1        5  2015-01-01 00:00:01         0"
            ]
          },
          "execution_count": 15,
          "metadata": {},
          "output_type": "execute_result"
        }
      ],
      "source": [
        "# load library\n",
        "import pandas as pd\n",
        "\n",
        "# create url\n",
        "url = 'https://raw.githubusercontent.com/chrisalbon/sim_data/master/data.csv'\n",
        "\n",
        "# load data\n",
        "df = pd.read_csv(url)\n",
        "\n",
        "df.head(2)"
      ]
    },
    {
      "cell_type": "code",
      "execution_count": 16,
      "metadata": {
        "colab": {
          "base_uri": "https://localhost:8080/",
          "height": 112
        },
        "id": "5_eTdwupLeaX",
        "outputId": "136cbc85-06bf-4323-f375-7c7d34f1672d"
      },
      "outputs": [
        {
          "ename": "ImportError",
          "evalue": "Missing optional dependency 'openpyxl'.  Use pip or conda to install openpyxl.",
          "output_type": "error",
          "traceback": [
            "\u001b[31m---------------------------------------------------------------------------\u001b[39m",
            "\u001b[31mModuleNotFoundError\u001b[39m                       Traceback (most recent call last)",
            "\u001b[36mFile \u001b[39m\u001b[32mc:\\Users\\surface pro7\\AppData\\Local\\Programs\\Python\\Python312\\Lib\\site-packages\\pandas\\compat\\_optional.py:135\u001b[39m, in \u001b[36mimport_optional_dependency\u001b[39m\u001b[34m(name, extra, errors, min_version)\u001b[39m\n\u001b[32m    134\u001b[39m \u001b[38;5;28;01mtry\u001b[39;00m:\n\u001b[32m--> \u001b[39m\u001b[32m135\u001b[39m     module = \u001b[43mimportlib\u001b[49m\u001b[43m.\u001b[49m\u001b[43mimport_module\u001b[49m\u001b[43m(\u001b[49m\u001b[43mname\u001b[49m\u001b[43m)\u001b[49m\n\u001b[32m    136\u001b[39m \u001b[38;5;28;01mexcept\u001b[39;00m \u001b[38;5;167;01mImportError\u001b[39;00m:\n",
            "\u001b[36mFile \u001b[39m\u001b[32mc:\\Users\\surface pro7\\AppData\\Local\\Programs\\Python\\Python312\\Lib\\importlib\\__init__.py:90\u001b[39m, in \u001b[36mimport_module\u001b[39m\u001b[34m(name, package)\u001b[39m\n\u001b[32m     89\u001b[39m         level += \u001b[32m1\u001b[39m\n\u001b[32m---> \u001b[39m\u001b[32m90\u001b[39m \u001b[38;5;28;01mreturn\u001b[39;00m \u001b[43m_bootstrap\u001b[49m\u001b[43m.\u001b[49m\u001b[43m_gcd_import\u001b[49m\u001b[43m(\u001b[49m\u001b[43mname\u001b[49m\u001b[43m[\u001b[49m\u001b[43mlevel\u001b[49m\u001b[43m:\u001b[49m\u001b[43m]\u001b[49m\u001b[43m,\u001b[49m\u001b[43m \u001b[49m\u001b[43mpackage\u001b[49m\u001b[43m,\u001b[49m\u001b[43m \u001b[49m\u001b[43mlevel\u001b[49m\u001b[43m)\u001b[49m\n",
            "\u001b[36mFile \u001b[39m\u001b[32m<frozen importlib._bootstrap>:1387\u001b[39m, in \u001b[36m_gcd_import\u001b[39m\u001b[34m(name, package, level)\u001b[39m\n",
            "\u001b[36mFile \u001b[39m\u001b[32m<frozen importlib._bootstrap>:1360\u001b[39m, in \u001b[36m_find_and_load\u001b[39m\u001b[34m(name, import_)\u001b[39m\n",
            "\u001b[36mFile \u001b[39m\u001b[32m<frozen importlib._bootstrap>:1324\u001b[39m, in \u001b[36m_find_and_load_unlocked\u001b[39m\u001b[34m(name, import_)\u001b[39m\n",
            "\u001b[31mModuleNotFoundError\u001b[39m: No module named 'openpyxl'",
            "\nDuring handling of the above exception, another exception occurred:\n",
            "\u001b[31mImportError\u001b[39m                               Traceback (most recent call last)",
            "\u001b[36mCell\u001b[39m\u001b[36m \u001b[39m\u001b[32mIn[16]\u001b[39m\u001b[32m, line 8\u001b[39m\n\u001b[32m      5\u001b[39m url = \u001b[33m'\u001b[39m\u001b[33mhttps://raw.githubusercontent.com/chrisalbon/sim_data/master/data.xlsx\u001b[39m\u001b[33m'\u001b[39m\n\u001b[32m      7\u001b[39m \u001b[38;5;66;03m# load data\u001b[39;00m\n\u001b[32m----> \u001b[39m\u001b[32m8\u001b[39m df = \u001b[43mpd\u001b[49m\u001b[43m.\u001b[49m\u001b[43mread_excel\u001b[49m\u001b[43m(\u001b[49m\u001b[43murl\u001b[49m\u001b[43m,\u001b[49m\u001b[43m \u001b[49m\u001b[43msheet_name\u001b[49m\u001b[43m=\u001b[49m\u001b[32;43m0\u001b[39;49m\u001b[43m,\u001b[49m\u001b[43m \u001b[49m\u001b[43mheader\u001b[49m\u001b[43m=\u001b[49m\u001b[38;5;28;43;01mNone\u001b[39;49;00m\u001b[43m)\u001b[49m\n\u001b[32m     10\u001b[39m \u001b[38;5;66;03m# view the first two rows\u001b[39;00m\n\u001b[32m     11\u001b[39m df.head(\u001b[32m2\u001b[39m)\n",
            "\u001b[36mFile \u001b[39m\u001b[32mc:\\Users\\surface pro7\\AppData\\Local\\Programs\\Python\\Python312\\Lib\\site-packages\\pandas\\io\\excel\\_base.py:495\u001b[39m, in \u001b[36mread_excel\u001b[39m\u001b[34m(io, sheet_name, header, names, index_col, usecols, dtype, engine, converters, true_values, false_values, skiprows, nrows, na_values, keep_default_na, na_filter, verbose, parse_dates, date_parser, date_format, thousands, decimal, comment, skipfooter, storage_options, dtype_backend, engine_kwargs)\u001b[39m\n\u001b[32m    493\u001b[39m \u001b[38;5;28;01mif\u001b[39;00m \u001b[38;5;129;01mnot\u001b[39;00m \u001b[38;5;28misinstance\u001b[39m(io, ExcelFile):\n\u001b[32m    494\u001b[39m     should_close = \u001b[38;5;28;01mTrue\u001b[39;00m\n\u001b[32m--> \u001b[39m\u001b[32m495\u001b[39m     io = \u001b[43mExcelFile\u001b[49m\u001b[43m(\u001b[49m\n\u001b[32m    496\u001b[39m \u001b[43m        \u001b[49m\u001b[43mio\u001b[49m\u001b[43m,\u001b[49m\n\u001b[32m    497\u001b[39m \u001b[43m        \u001b[49m\u001b[43mstorage_options\u001b[49m\u001b[43m=\u001b[49m\u001b[43mstorage_options\u001b[49m\u001b[43m,\u001b[49m\n\u001b[32m    498\u001b[39m \u001b[43m        \u001b[49m\u001b[43mengine\u001b[49m\u001b[43m=\u001b[49m\u001b[43mengine\u001b[49m\u001b[43m,\u001b[49m\n\u001b[32m    499\u001b[39m \u001b[43m        \u001b[49m\u001b[43mengine_kwargs\u001b[49m\u001b[43m=\u001b[49m\u001b[43mengine_kwargs\u001b[49m\u001b[43m,\u001b[49m\n\u001b[32m    500\u001b[39m \u001b[43m    \u001b[49m\u001b[43m)\u001b[49m\n\u001b[32m    501\u001b[39m \u001b[38;5;28;01melif\u001b[39;00m engine \u001b[38;5;129;01mand\u001b[39;00m engine != io.engine:\n\u001b[32m    502\u001b[39m     \u001b[38;5;28;01mraise\u001b[39;00m \u001b[38;5;167;01mValueError\u001b[39;00m(\n\u001b[32m    503\u001b[39m         \u001b[33m\"\u001b[39m\u001b[33mEngine should not be specified when passing \u001b[39m\u001b[33m\"\u001b[39m\n\u001b[32m    504\u001b[39m         \u001b[33m\"\u001b[39m\u001b[33man ExcelFile - ExcelFile already has the engine set\u001b[39m\u001b[33m\"\u001b[39m\n\u001b[32m    505\u001b[39m     )\n",
            "\u001b[36mFile \u001b[39m\u001b[32mc:\\Users\\surface pro7\\AppData\\Local\\Programs\\Python\\Python312\\Lib\\site-packages\\pandas\\io\\excel\\_base.py:1567\u001b[39m, in \u001b[36mExcelFile.__init__\u001b[39m\u001b[34m(self, path_or_buffer, engine, storage_options, engine_kwargs)\u001b[39m\n\u001b[32m   1564\u001b[39m \u001b[38;5;28mself\u001b[39m.engine = engine\n\u001b[32m   1565\u001b[39m \u001b[38;5;28mself\u001b[39m.storage_options = storage_options\n\u001b[32m-> \u001b[39m\u001b[32m1567\u001b[39m \u001b[38;5;28mself\u001b[39m._reader = \u001b[38;5;28;43mself\u001b[39;49m\u001b[43m.\u001b[49m\u001b[43m_engines\u001b[49m\u001b[43m[\u001b[49m\u001b[43mengine\u001b[49m\u001b[43m]\u001b[49m\u001b[43m(\u001b[49m\n\u001b[32m   1568\u001b[39m \u001b[43m    \u001b[49m\u001b[38;5;28;43mself\u001b[39;49m\u001b[43m.\u001b[49m\u001b[43m_io\u001b[49m\u001b[43m,\u001b[49m\n\u001b[32m   1569\u001b[39m \u001b[43m    \u001b[49m\u001b[43mstorage_options\u001b[49m\u001b[43m=\u001b[49m\u001b[43mstorage_options\u001b[49m\u001b[43m,\u001b[49m\n\u001b[32m   1570\u001b[39m \u001b[43m    \u001b[49m\u001b[43mengine_kwargs\u001b[49m\u001b[43m=\u001b[49m\u001b[43mengine_kwargs\u001b[49m\u001b[43m,\u001b[49m\n\u001b[32m   1571\u001b[39m \u001b[43m\u001b[49m\u001b[43m)\u001b[49m\n",
            "\u001b[36mFile \u001b[39m\u001b[32mc:\\Users\\surface pro7\\AppData\\Local\\Programs\\Python\\Python312\\Lib\\site-packages\\pandas\\io\\excel\\_openpyxl.py:552\u001b[39m, in \u001b[36mOpenpyxlReader.__init__\u001b[39m\u001b[34m(self, filepath_or_buffer, storage_options, engine_kwargs)\u001b[39m\n\u001b[32m    534\u001b[39m \u001b[38;5;129m@doc\u001b[39m(storage_options=_shared_docs[\u001b[33m\"\u001b[39m\u001b[33mstorage_options\u001b[39m\u001b[33m\"\u001b[39m])\n\u001b[32m    535\u001b[39m \u001b[38;5;28;01mdef\u001b[39;00m\u001b[38;5;250m \u001b[39m\u001b[34m__init__\u001b[39m(\n\u001b[32m    536\u001b[39m     \u001b[38;5;28mself\u001b[39m,\n\u001b[32m   (...)\u001b[39m\u001b[32m    539\u001b[39m     engine_kwargs: \u001b[38;5;28mdict\u001b[39m | \u001b[38;5;28;01mNone\u001b[39;00m = \u001b[38;5;28;01mNone\u001b[39;00m,\n\u001b[32m    540\u001b[39m ) -> \u001b[38;5;28;01mNone\u001b[39;00m:\n\u001b[32m    541\u001b[39m \u001b[38;5;250m    \u001b[39m\u001b[33;03m\"\"\"\u001b[39;00m\n\u001b[32m    542\u001b[39m \u001b[33;03m    Reader using openpyxl engine.\u001b[39;00m\n\u001b[32m    543\u001b[39m \n\u001b[32m   (...)\u001b[39m\u001b[32m    550\u001b[39m \u001b[33;03m        Arbitrary keyword arguments passed to excel engine.\u001b[39;00m\n\u001b[32m    551\u001b[39m \u001b[33;03m    \"\"\"\u001b[39;00m\n\u001b[32m--> \u001b[39m\u001b[32m552\u001b[39m     \u001b[43mimport_optional_dependency\u001b[49m\u001b[43m(\u001b[49m\u001b[33;43m\"\u001b[39;49m\u001b[33;43mopenpyxl\u001b[39;49m\u001b[33;43m\"\u001b[39;49m\u001b[43m)\u001b[49m\n\u001b[32m    553\u001b[39m     \u001b[38;5;28msuper\u001b[39m().\u001b[34m__init__\u001b[39m(\n\u001b[32m    554\u001b[39m         filepath_or_buffer,\n\u001b[32m    555\u001b[39m         storage_options=storage_options,\n\u001b[32m    556\u001b[39m         engine_kwargs=engine_kwargs,\n\u001b[32m    557\u001b[39m     )\n",
            "\u001b[36mFile \u001b[39m\u001b[32mc:\\Users\\surface pro7\\AppData\\Local\\Programs\\Python\\Python312\\Lib\\site-packages\\pandas\\compat\\_optional.py:138\u001b[39m, in \u001b[36mimport_optional_dependency\u001b[39m\u001b[34m(name, extra, errors, min_version)\u001b[39m\n\u001b[32m    136\u001b[39m \u001b[38;5;28;01mexcept\u001b[39;00m \u001b[38;5;167;01mImportError\u001b[39;00m:\n\u001b[32m    137\u001b[39m     \u001b[38;5;28;01mif\u001b[39;00m errors == \u001b[33m\"\u001b[39m\u001b[33mraise\u001b[39m\u001b[33m\"\u001b[39m:\n\u001b[32m--> \u001b[39m\u001b[32m138\u001b[39m         \u001b[38;5;28;01mraise\u001b[39;00m \u001b[38;5;167;01mImportError\u001b[39;00m(msg)\n\u001b[32m    139\u001b[39m     \u001b[38;5;28;01mreturn\u001b[39;00m \u001b[38;5;28;01mNone\u001b[39;00m\n\u001b[32m    141\u001b[39m \u001b[38;5;66;03m# Handle submodules: if we have submodule, grab parent module from sys.modules\u001b[39;00m\n",
            "\u001b[31mImportError\u001b[39m: Missing optional dependency 'openpyxl'.  Use pip or conda to install openpyxl."
          ]
        }
      ],
      "source": [
        "# load library\n",
        "import pandas as pd\n",
        "\n",
        "# create url\n",
        "url = 'https://raw.githubusercontent.com/chrisalbon/sim_data/master/data.xlsx'\n",
        "\n",
        "# load data\n",
        "df = pd.read_excel(url, sheet_name=0, header=None)\n",
        "\n",
        "# view the first two rows\n",
        "df.head(2)"
      ]
    },
    {
      "cell_type": "markdown",
      "metadata": {
        "id": "JT2tjF7QLeaX"
      },
      "source": [
        "### 2.5 Loading a JSON File\n",
        "#### Problem\n",
        "You need to load a JSON file for data preprocessing\n",
        "\n",
        "#### Solution\n",
        "The pandas library provides `read_json` to convert a JSON file a pandas object:"
      ]
    },
    {
      "cell_type": "code",
      "execution_count": null,
      "metadata": {
        "id": "WdR3MEbULeaY",
        "outputId": "11b4a8e7-e8d4-4f86-ebeb-4f607f8f8aeb"
      },
      "outputs": [
        {
          "data": {
            "text/html": [
              "<div>\n",
              "<style scoped>\n",
              "    .dataframe tbody tr th:only-of-type {\n",
              "        vertical-align: middle;\n",
              "    }\n",
              "\n",
              "    .dataframe tbody tr th {\n",
              "        vertical-align: top;\n",
              "    }\n",
              "\n",
              "    .dataframe thead th {\n",
              "        text-align: right;\n",
              "    }\n",
              "</style>\n",
              "<table border=\"1\" class=\"dataframe\">\n",
              "  <thead>\n",
              "    <tr style=\"text-align: right;\">\n",
              "      <th></th>\n",
              "      <th>archive_url</th>\n",
              "      <th>archived</th>\n",
              "      <th>assignees_url</th>\n",
              "      <th>blobs_url</th>\n",
              "      <th>branches_url</th>\n",
              "      <th>clone_url</th>\n",
              "      <th>collaborators_url</th>\n",
              "      <th>comments_url</th>\n",
              "      <th>commits_url</th>\n",
              "      <th>compare_url</th>\n",
              "      <th>...</th>\n",
              "      <th>subscribers_url</th>\n",
              "      <th>subscription_url</th>\n",
              "      <th>svn_url</th>\n",
              "      <th>tags_url</th>\n",
              "      <th>teams_url</th>\n",
              "      <th>trees_url</th>\n",
              "      <th>updated_at</th>\n",
              "      <th>url</th>\n",
              "      <th>watchers</th>\n",
              "      <th>watchers_count</th>\n",
              "    </tr>\n",
              "  </thead>\n",
              "  <tbody>\n",
              "    <tr>\n",
              "      <th>0</th>\n",
              "      <td>https://api.github.com/repos/f00-/anscombes-qu...</td>\n",
              "      <td>False</td>\n",
              "      <td>https://api.github.com/repos/f00-/anscombes-qu...</td>\n",
              "      <td>https://api.github.com/repos/f00-/anscombes-qu...</td>\n",
              "      <td>https://api.github.com/repos/f00-/anscombes-qu...</td>\n",
              "      <td>https://github.com/f00-/anscombes-quartet.git</td>\n",
              "      <td>https://api.github.com/repos/f00-/anscombes-qu...</td>\n",
              "      <td>https://api.github.com/repos/f00-/anscombes-qu...</td>\n",
              "      <td>https://api.github.com/repos/f00-/anscombes-qu...</td>\n",
              "      <td>https://api.github.com/repos/f00-/anscombes-qu...</td>\n",
              "      <td>...</td>\n",
              "      <td>https://api.github.com/repos/f00-/anscombes-qu...</td>\n",
              "      <td>https://api.github.com/repos/f00-/anscombes-qu...</td>\n",
              "      <td>https://github.com/f00-/anscombes-quartet</td>\n",
              "      <td>https://api.github.com/repos/f00-/anscombes-qu...</td>\n",
              "      <td>https://api.github.com/repos/f00-/anscombes-qu...</td>\n",
              "      <td>https://api.github.com/repos/f00-/anscombes-qu...</td>\n",
              "      <td>2018-08-08 04:37:53</td>\n",
              "      <td>https://api.github.com/repos/f00-/anscombes-qu...</td>\n",
              "      <td>0</td>\n",
              "      <td>0</td>\n",
              "    </tr>\n",
              "    <tr>\n",
              "      <th>1</th>\n",
              "      <td>https://api.github.com/repos/f00-/autograd-tut...</td>\n",
              "      <td>False</td>\n",
              "      <td>https://api.github.com/repos/f00-/autograd-tut...</td>\n",
              "      <td>https://api.github.com/repos/f00-/autograd-tut...</td>\n",
              "      <td>https://api.github.com/repos/f00-/autograd-tut...</td>\n",
              "      <td>https://github.com/f00-/autograd-tutorial.git</td>\n",
              "      <td>https://api.github.com/repos/f00-/autograd-tut...</td>\n",
              "      <td>https://api.github.com/repos/f00-/autograd-tut...</td>\n",
              "      <td>https://api.github.com/repos/f00-/autograd-tut...</td>\n",
              "      <td>https://api.github.com/repos/f00-/autograd-tut...</td>\n",
              "      <td>...</td>\n",
              "      <td>https://api.github.com/repos/f00-/autograd-tut...</td>\n",
              "      <td>https://api.github.com/repos/f00-/autograd-tut...</td>\n",
              "      <td>https://github.com/f00-/autograd-tutorial</td>\n",
              "      <td>https://api.github.com/repos/f00-/autograd-tut...</td>\n",
              "      <td>https://api.github.com/repos/f00-/autograd-tut...</td>\n",
              "      <td>https://api.github.com/repos/f00-/autograd-tut...</td>\n",
              "      <td>2018-06-06 03:17:19</td>\n",
              "      <td>https://api.github.com/repos/f00-/autograd-tut...</td>\n",
              "      <td>0</td>\n",
              "      <td>0</td>\n",
              "    </tr>\n",
              "  </tbody>\n",
              "</table>\n",
              "<p>2 rows × 72 columns</p>\n",
              "</div>"
            ],
            "text/plain": [
              "                                         archive_url  archived  \\\n",
              "0  https://api.github.com/repos/f00-/anscombes-qu...     False   \n",
              "1  https://api.github.com/repos/f00-/autograd-tut...     False   \n",
              "\n",
              "                                       assignees_url  \\\n",
              "0  https://api.github.com/repos/f00-/anscombes-qu...   \n",
              "1  https://api.github.com/repos/f00-/autograd-tut...   \n",
              "\n",
              "                                           blobs_url  \\\n",
              "0  https://api.github.com/repos/f00-/anscombes-qu...   \n",
              "1  https://api.github.com/repos/f00-/autograd-tut...   \n",
              "\n",
              "                                        branches_url  \\\n",
              "0  https://api.github.com/repos/f00-/anscombes-qu...   \n",
              "1  https://api.github.com/repos/f00-/autograd-tut...   \n",
              "\n",
              "                                       clone_url  \\\n",
              "0  https://github.com/f00-/anscombes-quartet.git   \n",
              "1  https://github.com/f00-/autograd-tutorial.git   \n",
              "\n",
              "                                   collaborators_url  \\\n",
              "0  https://api.github.com/repos/f00-/anscombes-qu...   \n",
              "1  https://api.github.com/repos/f00-/autograd-tut...   \n",
              "\n",
              "                                        comments_url  \\\n",
              "0  https://api.github.com/repos/f00-/anscombes-qu...   \n",
              "1  https://api.github.com/repos/f00-/autograd-tut...   \n",
              "\n",
              "                                         commits_url  \\\n",
              "0  https://api.github.com/repos/f00-/anscombes-qu...   \n",
              "1  https://api.github.com/repos/f00-/autograd-tut...   \n",
              "\n",
              "                                         compare_url       ...        \\\n",
              "0  https://api.github.com/repos/f00-/anscombes-qu...       ...         \n",
              "1  https://api.github.com/repos/f00-/autograd-tut...       ...         \n",
              "\n",
              "                                     subscribers_url  \\\n",
              "0  https://api.github.com/repos/f00-/anscombes-qu...   \n",
              "1  https://api.github.com/repos/f00-/autograd-tut...   \n",
              "\n",
              "                                    subscription_url  \\\n",
              "0  https://api.github.com/repos/f00-/anscombes-qu...   \n",
              "1  https://api.github.com/repos/f00-/autograd-tut...   \n",
              "\n",
              "                                     svn_url  \\\n",
              "0  https://github.com/f00-/anscombes-quartet   \n",
              "1  https://github.com/f00-/autograd-tutorial   \n",
              "\n",
              "                                            tags_url  \\\n",
              "0  https://api.github.com/repos/f00-/anscombes-qu...   \n",
              "1  https://api.github.com/repos/f00-/autograd-tut...   \n",
              "\n",
              "                                           teams_url  \\\n",
              "0  https://api.github.com/repos/f00-/anscombes-qu...   \n",
              "1  https://api.github.com/repos/f00-/autograd-tut...   \n",
              "\n",
              "                                           trees_url          updated_at  \\\n",
              "0  https://api.github.com/repos/f00-/anscombes-qu... 2018-08-08 04:37:53   \n",
              "1  https://api.github.com/repos/f00-/autograd-tut... 2018-06-06 03:17:19   \n",
              "\n",
              "                                                 url  watchers  watchers_count  \n",
              "0  https://api.github.com/repos/f00-/anscombes-qu...         0               0  \n",
              "1  https://api.github.com/repos/f00-/autograd-tut...         0               0  \n",
              "\n",
              "[2 rows x 72 columns]"
            ]
          },
          "execution_count": 7,
          "metadata": {},
          "output_type": "execute_result"
        }
      ],
      "source": [
        "# load library\n",
        "import pandas as pd\n",
        "\n",
        "# create url\n",
        "url = \"https://api.github.com/users/f00-/repos\"\n",
        "\n",
        "# load data\n",
        "df = pd.read_json(url, orient=\"columns\")\n",
        "\n",
        "# view first two rows\n",
        "df.head(2)"
      ]
    },
    {
      "cell_type": "markdown",
      "metadata": {
        "id": "nv8lsJGlLeaY"
      },
      "source": [
        "### 2.6 Querying a SQL Database\n",
        "#### Problem\n",
        "You need to load data from a databaseu sing structured query language (SQL)\n",
        "\n",
        "#### Solution\n",
        "`pandas`' `read_sql_query` allows us to make a SQL query to a database and load it:"
      ]
    },
    {
      "cell_type": "code",
      "execution_count": null,
      "metadata": {
        "id": "BtsEDiGmLeaY",
        "outputId": "08e7ece9-5b91-46f0-dbc0-980fbecbdb0a"
      },
      "outputs": [
        {
          "name": "stdout",
          "output_type": "stream",
          "text": [
            "['albums', 'artists', 'customers', 'employees', 'genres', 'invoice_items', 'invoices', 'media_types', 'playlist_track', 'playlists', 'sqlite_sequence', 'sqlite_stat1', 'tracks']\n"
          ]
        },
        {
          "data": {
            "text/html": [
              "<div>\n",
              "<style scoped>\n",
              "    .dataframe tbody tr th:only-of-type {\n",
              "        vertical-align: middle;\n",
              "    }\n",
              "\n",
              "    .dataframe tbody tr th {\n",
              "        vertical-align: top;\n",
              "    }\n",
              "\n",
              "    .dataframe thead th {\n",
              "        text-align: right;\n",
              "    }\n",
              "</style>\n",
              "<table border=\"1\" class=\"dataframe\">\n",
              "  <thead>\n",
              "    <tr style=\"text-align: right;\">\n",
              "      <th></th>\n",
              "      <th>AlbumId</th>\n",
              "      <th>Title</th>\n",
              "      <th>ArtistId</th>\n",
              "    </tr>\n",
              "  </thead>\n",
              "  <tbody>\n",
              "    <tr>\n",
              "      <th>0</th>\n",
              "      <td>1</td>\n",
              "      <td>For Those About To Rock We Salute You</td>\n",
              "      <td>1</td>\n",
              "    </tr>\n",
              "    <tr>\n",
              "      <th>1</th>\n",
              "      <td>2</td>\n",
              "      <td>Balls to the Wall</td>\n",
              "      <td>2</td>\n",
              "    </tr>\n",
              "    <tr>\n",
              "      <th>2</th>\n",
              "      <td>3</td>\n",
              "      <td>Restless and Wild</td>\n",
              "      <td>2</td>\n",
              "    </tr>\n",
              "    <tr>\n",
              "      <th>3</th>\n",
              "      <td>4</td>\n",
              "      <td>Let There Be Rock</td>\n",
              "      <td>1</td>\n",
              "    </tr>\n",
              "    <tr>\n",
              "      <th>4</th>\n",
              "      <td>5</td>\n",
              "      <td>Big Ones</td>\n",
              "      <td>3</td>\n",
              "    </tr>\n",
              "  </tbody>\n",
              "</table>\n",
              "</div>"
            ],
            "text/plain": [
              "   AlbumId                                  Title  ArtistId\n",
              "0        1  For Those About To Rock We Salute You         1\n",
              "1        2                      Balls to the Wall         2\n",
              "2        3                      Restless and Wild         2\n",
              "3        4                      Let There Be Rock         1\n",
              "4        5                               Big Ones         3"
            ]
          },
          "execution_count": 9,
          "metadata": {},
          "output_type": "execute_result"
        }
      ],
      "source": [
        "# load libraries\n",
        "import pandas as pd\n",
        "from sqlalchemy import create_engine\n",
        "\n",
        "# create a connection to the database\n",
        "db_connection = create_engine('sqlite:///sample.db')\n",
        "\n",
        "# see table names\n",
        "print(db_connection.table_names())\n",
        "\n",
        "# load data\n",
        "df = pd.read_sql_query('SELECT * FROM albums', db_connection)\n",
        "\n",
        "df.head()"
      ]
    },
    {
      "cell_type": "code",
      "execution_count": null,
      "metadata": {
        "id": "ZQgLZ1U_LeaY"
      },
      "outputs": [],
      "source": []
    }
  ],
  "metadata": {
    "colab": {
      "provenance": []
    },
    "kernelspec": {
      "display_name": "Python 3",
      "language": "python",
      "name": "python3"
    },
    "language_info": {
      "codemirror_mode": {
        "name": "ipython",
        "version": 3
      },
      "file_extension": ".py",
      "mimetype": "text/x-python",
      "name": "python",
      "nbconvert_exporter": "python",
      "pygments_lexer": "ipython3",
      "version": "3.12.10"
    }
  },
  "nbformat": 4,
  "nbformat_minor": 0
}
