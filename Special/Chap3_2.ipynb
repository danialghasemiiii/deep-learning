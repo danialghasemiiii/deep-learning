{
  "cells": [
    {
      "cell_type": "markdown",
      "metadata": {
        "id": "IzX-BnbQQG1T"
      },
      "source": [
        "3.11 Deleting a Column"
      ]
    },
    {
      "cell_type": "code",
      "execution_count": 1,
      "metadata": {
        "colab": {
          "base_uri": "https://localhost:8080/",
          "height": 112
        },
        "id": "ewyk-GbtQOlW",
        "outputId": "39e03696-a88a-4296-b916-769fda726338"
      },
      "outputs": [
        {
          "data": {
            "text/html": [
              "<div>\n",
              "<style scoped>\n",
              "    .dataframe tbody tr th:only-of-type {\n",
              "        vertical-align: middle;\n",
              "    }\n",
              "\n",
              "    .dataframe tbody tr th {\n",
              "        vertical-align: top;\n",
              "    }\n",
              "\n",
              "    .dataframe thead th {\n",
              "        text-align: right;\n",
              "    }\n",
              "</style>\n",
              "<table border=\"1\" class=\"dataframe\">\n",
              "  <thead>\n",
              "    <tr style=\"text-align: right;\">\n",
              "      <th></th>\n",
              "      <th>Name</th>\n",
              "      <th>PClass</th>\n",
              "      <th>Sex</th>\n",
              "      <th>Survived</th>\n",
              "      <th>SexCode</th>\n",
              "    </tr>\n",
              "  </thead>\n",
              "  <tbody>\n",
              "    <tr>\n",
              "      <th>0</th>\n",
              "      <td>Allen, Miss Elisabeth Walton</td>\n",
              "      <td>1st</td>\n",
              "      <td>female</td>\n",
              "      <td>1</td>\n",
              "      <td>1</td>\n",
              "    </tr>\n",
              "    <tr>\n",
              "      <th>1</th>\n",
              "      <td>Allison, Miss Helen Loraine</td>\n",
              "      <td>1st</td>\n",
              "      <td>female</td>\n",
              "      <td>0</td>\n",
              "      <td>1</td>\n",
              "    </tr>\n",
              "  </tbody>\n",
              "</table>\n",
              "</div>"
            ],
            "text/plain": [
              "                           Name PClass     Sex  Survived  SexCode\n",
              "0  Allen, Miss Elisabeth Walton    1st  female         1        1\n",
              "1   Allison, Miss Helen Loraine    1st  female         0        1"
            ]
          },
          "execution_count": 1,
          "metadata": {},
          "output_type": "execute_result"
        }
      ],
      "source": [
        "# Load library\n",
        "import pandas as pd\n",
        "# Create URL\n",
        "url = 'https://raw.githubusercontent.com/chrisalbon/sim_data/master/titanic.csv'\n",
        "# Load data\n",
        "dataframe = pd.read_csv(url)\n",
        "# Delete column\n",
        "dataframe.drop('Age', axis=1).head(2)"
      ]
    },
    {
      "cell_type": "code",
      "execution_count": 2,
      "metadata": {
        "colab": {
          "base_uri": "https://localhost:8080/",
          "height": 112
        },
        "id": "kI2ETEkWQVxv",
        "outputId": "59501015-6fad-4957-d950-2e24ad9b9944"
      },
      "outputs": [
        {
          "data": {
            "text/html": [
              "<div>\n",
              "<style scoped>\n",
              "    .dataframe tbody tr th:only-of-type {\n",
              "        vertical-align: middle;\n",
              "    }\n",
              "\n",
              "    .dataframe tbody tr th {\n",
              "        vertical-align: top;\n",
              "    }\n",
              "\n",
              "    .dataframe thead th {\n",
              "        text-align: right;\n",
              "    }\n",
              "</style>\n",
              "<table border=\"1\" class=\"dataframe\">\n",
              "  <thead>\n",
              "    <tr style=\"text-align: right;\">\n",
              "      <th></th>\n",
              "      <th>Name</th>\n",
              "      <th>PClass</th>\n",
              "      <th>Survived</th>\n",
              "      <th>SexCode</th>\n",
              "    </tr>\n",
              "  </thead>\n",
              "  <tbody>\n",
              "    <tr>\n",
              "      <th>0</th>\n",
              "      <td>Allen, Miss Elisabeth Walton</td>\n",
              "      <td>1st</td>\n",
              "      <td>1</td>\n",
              "      <td>1</td>\n",
              "    </tr>\n",
              "    <tr>\n",
              "      <th>1</th>\n",
              "      <td>Allison, Miss Helen Loraine</td>\n",
              "      <td>1st</td>\n",
              "      <td>0</td>\n",
              "      <td>1</td>\n",
              "    </tr>\n",
              "  </tbody>\n",
              "</table>\n",
              "</div>"
            ],
            "text/plain": [
              "                           Name PClass  Survived  SexCode\n",
              "0  Allen, Miss Elisabeth Walton    1st         1        1\n",
              "1   Allison, Miss Helen Loraine    1st         0        1"
            ]
          },
          "execution_count": 2,
          "metadata": {},
          "output_type": "execute_result"
        }
      ],
      "source": [
        "# Drop columns\n",
        "dataframe.drop(['Age', 'Sex'], axis=1).head(2)"
      ]
    },
    {
      "cell_type": "code",
      "execution_count": 3,
      "metadata": {
        "colab": {
          "base_uri": "https://localhost:8080/",
          "height": 112
        },
        "id": "skighJUxQaE3",
        "outputId": "42eaab27-2688-4a99-a2d3-9f753216316b"
      },
      "outputs": [
        {
          "data": {
            "text/html": [
              "<div>\n",
              "<style scoped>\n",
              "    .dataframe tbody tr th:only-of-type {\n",
              "        vertical-align: middle;\n",
              "    }\n",
              "\n",
              "    .dataframe tbody tr th {\n",
              "        vertical-align: top;\n",
              "    }\n",
              "\n",
              "    .dataframe thead th {\n",
              "        text-align: right;\n",
              "    }\n",
              "</style>\n",
              "<table border=\"1\" class=\"dataframe\">\n",
              "  <thead>\n",
              "    <tr style=\"text-align: right;\">\n",
              "      <th></th>\n",
              "      <th>Name</th>\n",
              "      <th>Age</th>\n",
              "      <th>Sex</th>\n",
              "      <th>Survived</th>\n",
              "      <th>SexCode</th>\n",
              "    </tr>\n",
              "  </thead>\n",
              "  <tbody>\n",
              "    <tr>\n",
              "      <th>0</th>\n",
              "      <td>Allen, Miss Elisabeth Walton</td>\n",
              "      <td>29.0</td>\n",
              "      <td>female</td>\n",
              "      <td>1</td>\n",
              "      <td>1</td>\n",
              "    </tr>\n",
              "    <tr>\n",
              "      <th>1</th>\n",
              "      <td>Allison, Miss Helen Loraine</td>\n",
              "      <td>2.0</td>\n",
              "      <td>female</td>\n",
              "      <td>0</td>\n",
              "      <td>1</td>\n",
              "    </tr>\n",
              "  </tbody>\n",
              "</table>\n",
              "</div>"
            ],
            "text/plain": [
              "                           Name   Age     Sex  Survived  SexCode\n",
              "0  Allen, Miss Elisabeth Walton  29.0  female         1        1\n",
              "1   Allison, Miss Helen Loraine   2.0  female         0        1"
            ]
          },
          "execution_count": 3,
          "metadata": {},
          "output_type": "execute_result"
        }
      ],
      "source": [
        "# Drop column\n",
        "dataframe.drop(dataframe.columns[1], axis=1).head(2)"
      ]
    },
    {
      "cell_type": "code",
      "execution_count": 4,
      "metadata": {
        "id": "2kgG2pIPQgUM"
      },
      "outputs": [],
      "source": [
        "# Create a new DataFrame\n",
        "dataframe_name_dropped = dataframe.drop(dataframe.columns[0], axis=1)"
      ]
    },
    {
      "cell_type": "markdown",
      "metadata": {
        "id": "oRsZkHBBQkep"
      },
      "source": [
        "3.12 Deleting a Row"
      ]
    },
    {
      "cell_type": "code",
      "execution_count": 5,
      "metadata": {
        "colab": {
          "base_uri": "https://localhost:8080/",
          "height": 143
        },
        "id": "IRK6r6AWQnyG",
        "outputId": "dc975c28-ddc2-4baa-9a3f-e3b2810b5f50"
      },
      "outputs": [
        {
          "data": {
            "text/html": [
              "<div>\n",
              "<style scoped>\n",
              "    .dataframe tbody tr th:only-of-type {\n",
              "        vertical-align: middle;\n",
              "    }\n",
              "\n",
              "    .dataframe tbody tr th {\n",
              "        vertical-align: top;\n",
              "    }\n",
              "\n",
              "    .dataframe thead th {\n",
              "        text-align: right;\n",
              "    }\n",
              "</style>\n",
              "<table border=\"1\" class=\"dataframe\">\n",
              "  <thead>\n",
              "    <tr style=\"text-align: right;\">\n",
              "      <th></th>\n",
              "      <th>Name</th>\n",
              "      <th>PClass</th>\n",
              "      <th>Age</th>\n",
              "      <th>Sex</th>\n",
              "      <th>Survived</th>\n",
              "      <th>SexCode</th>\n",
              "    </tr>\n",
              "  </thead>\n",
              "  <tbody>\n",
              "    <tr>\n",
              "      <th>0</th>\n",
              "      <td>Allen, Miss Elisabeth Walton</td>\n",
              "      <td>1st</td>\n",
              "      <td>29.0</td>\n",
              "      <td>female</td>\n",
              "      <td>1</td>\n",
              "      <td>1</td>\n",
              "    </tr>\n",
              "    <tr>\n",
              "      <th>1</th>\n",
              "      <td>Allison, Miss Helen Loraine</td>\n",
              "      <td>1st</td>\n",
              "      <td>2.0</td>\n",
              "      <td>female</td>\n",
              "      <td>0</td>\n",
              "      <td>1</td>\n",
              "    </tr>\n",
              "    <tr>\n",
              "      <th>3</th>\n",
              "      <td>Allison, Mrs Hudson JC (Bessie Waldo Daniels)</td>\n",
              "      <td>1st</td>\n",
              "      <td>25.0</td>\n",
              "      <td>female</td>\n",
              "      <td>0</td>\n",
              "      <td>1</td>\n",
              "    </tr>\n",
              "  </tbody>\n",
              "</table>\n",
              "</div>"
            ],
            "text/plain": [
              "                                            Name PClass   Age     Sex  \\\n",
              "0                   Allen, Miss Elisabeth Walton    1st  29.0  female   \n",
              "1                    Allison, Miss Helen Loraine    1st   2.0  female   \n",
              "3  Allison, Mrs Hudson JC (Bessie Waldo Daniels)    1st  25.0  female   \n",
              "\n",
              "   Survived  SexCode  \n",
              "0         1        1  \n",
              "1         0        1  \n",
              "3         0        1  "
            ]
          },
          "execution_count": 5,
          "metadata": {},
          "output_type": "execute_result"
        }
      ],
      "source": [
        "# Load library\n",
        "import pandas as pd\n",
        "# Create URL\n",
        "url = 'https://raw.githubusercontent.com/chrisalbon/sim_data/master/titanic.csv'\n",
        "# Load data\n",
        "dataframe = pd.read_csv(url)\n",
        "# Delete rows, show first three rows of output\n",
        "dataframe[dataframe['Sex'] != 'male'].head(3)"
      ]
    },
    {
      "cell_type": "code",
      "execution_count": 6,
      "metadata": {
        "colab": {
          "base_uri": "https://localhost:8080/",
          "height": 112
        },
        "id": "gtdO7PPqQsOD",
        "outputId": "d29634c1-683b-45a7-a9e6-6ecfa7de724e"
      },
      "outputs": [
        {
          "data": {
            "text/html": [
              "<div>\n",
              "<style scoped>\n",
              "    .dataframe tbody tr th:only-of-type {\n",
              "        vertical-align: middle;\n",
              "    }\n",
              "\n",
              "    .dataframe tbody tr th {\n",
              "        vertical-align: top;\n",
              "    }\n",
              "\n",
              "    .dataframe thead th {\n",
              "        text-align: right;\n",
              "    }\n",
              "</style>\n",
              "<table border=\"1\" class=\"dataframe\">\n",
              "  <thead>\n",
              "    <tr style=\"text-align: right;\">\n",
              "      <th></th>\n",
              "      <th>Name</th>\n",
              "      <th>PClass</th>\n",
              "      <th>Age</th>\n",
              "      <th>Sex</th>\n",
              "      <th>Survived</th>\n",
              "      <th>SexCode</th>\n",
              "    </tr>\n",
              "  </thead>\n",
              "  <tbody>\n",
              "    <tr>\n",
              "      <th>0</th>\n",
              "      <td>Allen, Miss Elisabeth Walton</td>\n",
              "      <td>1st</td>\n",
              "      <td>29.0</td>\n",
              "      <td>female</td>\n",
              "      <td>1</td>\n",
              "      <td>1</td>\n",
              "    </tr>\n",
              "    <tr>\n",
              "      <th>2</th>\n",
              "      <td>Allison, Mr Hudson Joshua Creighton</td>\n",
              "      <td>1st</td>\n",
              "      <td>30.0</td>\n",
              "      <td>male</td>\n",
              "      <td>0</td>\n",
              "      <td>0</td>\n",
              "    </tr>\n",
              "  </tbody>\n",
              "</table>\n",
              "</div>"
            ],
            "text/plain": [
              "                                  Name PClass   Age     Sex  Survived  SexCode\n",
              "0         Allen, Miss Elisabeth Walton    1st  29.0  female         1        1\n",
              "2  Allison, Mr Hudson Joshua Creighton    1st  30.0    male         0        0"
            ]
          },
          "execution_count": 6,
          "metadata": {},
          "output_type": "execute_result"
        }
      ],
      "source": [
        "# Delete row, show first two rows of output\n",
        "dataframe[dataframe['Name'] != 'Allison, Miss Helen Loraine'].head(2)"
      ]
    },
    {
      "cell_type": "code",
      "execution_count": 7,
      "metadata": {
        "colab": {
          "base_uri": "https://localhost:8080/",
          "height": 112
        },
        "id": "uzMmHs7AQxzV",
        "outputId": "6b22fe70-9d60-4bd6-ec7c-b58f184e494f"
      },
      "outputs": [
        {
          "data": {
            "text/html": [
              "<div>\n",
              "<style scoped>\n",
              "    .dataframe tbody tr th:only-of-type {\n",
              "        vertical-align: middle;\n",
              "    }\n",
              "\n",
              "    .dataframe tbody tr th {\n",
              "        vertical-align: top;\n",
              "    }\n",
              "\n",
              "    .dataframe thead th {\n",
              "        text-align: right;\n",
              "    }\n",
              "</style>\n",
              "<table border=\"1\" class=\"dataframe\">\n",
              "  <thead>\n",
              "    <tr style=\"text-align: right;\">\n",
              "      <th></th>\n",
              "      <th>Name</th>\n",
              "      <th>PClass</th>\n",
              "      <th>Age</th>\n",
              "      <th>Sex</th>\n",
              "      <th>Survived</th>\n",
              "      <th>SexCode</th>\n",
              "    </tr>\n",
              "  </thead>\n",
              "  <tbody>\n",
              "    <tr>\n",
              "      <th>1</th>\n",
              "      <td>Allison, Miss Helen Loraine</td>\n",
              "      <td>1st</td>\n",
              "      <td>2.0</td>\n",
              "      <td>female</td>\n",
              "      <td>0</td>\n",
              "      <td>1</td>\n",
              "    </tr>\n",
              "    <tr>\n",
              "      <th>2</th>\n",
              "      <td>Allison, Mr Hudson Joshua Creighton</td>\n",
              "      <td>1st</td>\n",
              "      <td>30.0</td>\n",
              "      <td>male</td>\n",
              "      <td>0</td>\n",
              "      <td>0</td>\n",
              "    </tr>\n",
              "  </tbody>\n",
              "</table>\n",
              "</div>"
            ],
            "text/plain": [
              "                                  Name PClass   Age     Sex  Survived  SexCode\n",
              "1          Allison, Miss Helen Loraine    1st   2.0  female         0        1\n",
              "2  Allison, Mr Hudson Joshua Creighton    1st  30.0    male         0        0"
            ]
          },
          "execution_count": 7,
          "metadata": {},
          "output_type": "execute_result"
        }
      ],
      "source": [
        "# Delete row, show first two rows of output\n",
        "dataframe[dataframe.index != 0].head(2)"
      ]
    },
    {
      "cell_type": "markdown",
      "metadata": {
        "id": "5Cig4k_XQ4DE"
      },
      "source": [
        "3.13 Dropping Duplicate Rows"
      ]
    },
    {
      "cell_type": "code",
      "execution_count": 8,
      "metadata": {
        "colab": {
          "base_uri": "https://localhost:8080/",
          "height": 112
        },
        "id": "Vxf7g3Q7Q6Xq",
        "outputId": "c61d110e-1046-4fba-d884-f33b7b48cab2"
      },
      "outputs": [
        {
          "data": {
            "text/html": [
              "<div>\n",
              "<style scoped>\n",
              "    .dataframe tbody tr th:only-of-type {\n",
              "        vertical-align: middle;\n",
              "    }\n",
              "\n",
              "    .dataframe tbody tr th {\n",
              "        vertical-align: top;\n",
              "    }\n",
              "\n",
              "    .dataframe thead th {\n",
              "        text-align: right;\n",
              "    }\n",
              "</style>\n",
              "<table border=\"1\" class=\"dataframe\">\n",
              "  <thead>\n",
              "    <tr style=\"text-align: right;\">\n",
              "      <th></th>\n",
              "      <th>Name</th>\n",
              "      <th>PClass</th>\n",
              "      <th>Age</th>\n",
              "      <th>Sex</th>\n",
              "      <th>Survived</th>\n",
              "      <th>SexCode</th>\n",
              "    </tr>\n",
              "  </thead>\n",
              "  <tbody>\n",
              "    <tr>\n",
              "      <th>0</th>\n",
              "      <td>Allen, Miss Elisabeth Walton</td>\n",
              "      <td>1st</td>\n",
              "      <td>29.0</td>\n",
              "      <td>female</td>\n",
              "      <td>1</td>\n",
              "      <td>1</td>\n",
              "    </tr>\n",
              "    <tr>\n",
              "      <th>1</th>\n",
              "      <td>Allison, Miss Helen Loraine</td>\n",
              "      <td>1st</td>\n",
              "      <td>2.0</td>\n",
              "      <td>female</td>\n",
              "      <td>0</td>\n",
              "      <td>1</td>\n",
              "    </tr>\n",
              "  </tbody>\n",
              "</table>\n",
              "</div>"
            ],
            "text/plain": [
              "                           Name PClass   Age     Sex  Survived  SexCode\n",
              "0  Allen, Miss Elisabeth Walton    1st  29.0  female         1        1\n",
              "1   Allison, Miss Helen Loraine    1st   2.0  female         0        1"
            ]
          },
          "execution_count": 8,
          "metadata": {},
          "output_type": "execute_result"
        }
      ],
      "source": [
        "# Load library\n",
        "import pandas as pd\n",
        "# Create URL\n",
        "url = 'https://raw.githubusercontent.com/chrisalbon/sim_data/master/titanic.csv'\n",
        "# Load data\n",
        "dataframe = pd.read_csv(url)\n",
        "# Drop duplicates, show first two rows of output\n",
        "dataframe.drop_duplicates().head(2)"
      ]
    },
    {
      "cell_type": "code",
      "execution_count": 9,
      "metadata": {
        "colab": {
          "base_uri": "https://localhost:8080/"
        },
        "id": "y9n1OYjrQ9BO",
        "outputId": "10b0e172-6212-4bef-8ec3-dfd3d650dea1"
      },
      "outputs": [
        {
          "name": "stdout",
          "output_type": "stream",
          "text": [
            "Number Of Rows In The Original DataFrame: 1313\n",
            "Number Of Rows After Deduping: 1313\n"
          ]
        }
      ],
      "source": [
        "# Show number of rows\n",
        "print(\"Number Of Rows In The Original DataFrame:\", len(dataframe))\n",
        "print(\"Number Of Rows After Deduping:\", len(dataframe.drop_duplicates()))"
      ]
    },
    {
      "cell_type": "code",
      "execution_count": 10,
      "metadata": {
        "colab": {
          "base_uri": "https://localhost:8080/",
          "height": 112
        },
        "id": "DDKNEd5NRD5B",
        "outputId": "fb7353ca-722c-48f3-98d7-215762104738"
      },
      "outputs": [
        {
          "data": {
            "text/html": [
              "<div>\n",
              "<style scoped>\n",
              "    .dataframe tbody tr th:only-of-type {\n",
              "        vertical-align: middle;\n",
              "    }\n",
              "\n",
              "    .dataframe tbody tr th {\n",
              "        vertical-align: top;\n",
              "    }\n",
              "\n",
              "    .dataframe thead th {\n",
              "        text-align: right;\n",
              "    }\n",
              "</style>\n",
              "<table border=\"1\" class=\"dataframe\">\n",
              "  <thead>\n",
              "    <tr style=\"text-align: right;\">\n",
              "      <th></th>\n",
              "      <th>Name</th>\n",
              "      <th>PClass</th>\n",
              "      <th>Age</th>\n",
              "      <th>Sex</th>\n",
              "      <th>Survived</th>\n",
              "      <th>SexCode</th>\n",
              "    </tr>\n",
              "  </thead>\n",
              "  <tbody>\n",
              "    <tr>\n",
              "      <th>0</th>\n",
              "      <td>Allen, Miss Elisabeth Walton</td>\n",
              "      <td>1st</td>\n",
              "      <td>29.0</td>\n",
              "      <td>female</td>\n",
              "      <td>1</td>\n",
              "      <td>1</td>\n",
              "    </tr>\n",
              "    <tr>\n",
              "      <th>2</th>\n",
              "      <td>Allison, Mr Hudson Joshua Creighton</td>\n",
              "      <td>1st</td>\n",
              "      <td>30.0</td>\n",
              "      <td>male</td>\n",
              "      <td>0</td>\n",
              "      <td>0</td>\n",
              "    </tr>\n",
              "  </tbody>\n",
              "</table>\n",
              "</div>"
            ],
            "text/plain": [
              "                                  Name PClass   Age     Sex  Survived  SexCode\n",
              "0         Allen, Miss Elisabeth Walton    1st  29.0  female         1        1\n",
              "2  Allison, Mr Hudson Joshua Creighton    1st  30.0    male         0        0"
            ]
          },
          "execution_count": 10,
          "metadata": {},
          "output_type": "execute_result"
        }
      ],
      "source": [
        "# Drop duplicates\n",
        "dataframe.drop_duplicates(subset=['Sex'])"
      ]
    },
    {
      "cell_type": "code",
      "execution_count": 11,
      "metadata": {
        "colab": {
          "base_uri": "https://localhost:8080/",
          "height": 112
        },
        "id": "wGecSpIuREqo",
        "outputId": "e534689f-7ef6-4574-adf7-6f08efb5f648"
      },
      "outputs": [
        {
          "data": {
            "text/html": [
              "<div>\n",
              "<style scoped>\n",
              "    .dataframe tbody tr th:only-of-type {\n",
              "        vertical-align: middle;\n",
              "    }\n",
              "\n",
              "    .dataframe tbody tr th {\n",
              "        vertical-align: top;\n",
              "    }\n",
              "\n",
              "    .dataframe thead th {\n",
              "        text-align: right;\n",
              "    }\n",
              "</style>\n",
              "<table border=\"1\" class=\"dataframe\">\n",
              "  <thead>\n",
              "    <tr style=\"text-align: right;\">\n",
              "      <th></th>\n",
              "      <th>Name</th>\n",
              "      <th>PClass</th>\n",
              "      <th>Age</th>\n",
              "      <th>Sex</th>\n",
              "      <th>Survived</th>\n",
              "      <th>SexCode</th>\n",
              "    </tr>\n",
              "  </thead>\n",
              "  <tbody>\n",
              "    <tr>\n",
              "      <th>1307</th>\n",
              "      <td>Zabour, Miss Tamini</td>\n",
              "      <td>3rd</td>\n",
              "      <td>NaN</td>\n",
              "      <td>female</td>\n",
              "      <td>0</td>\n",
              "      <td>1</td>\n",
              "    </tr>\n",
              "    <tr>\n",
              "      <th>1312</th>\n",
              "      <td>Zimmerman, Leo</td>\n",
              "      <td>3rd</td>\n",
              "      <td>29.0</td>\n",
              "      <td>male</td>\n",
              "      <td>0</td>\n",
              "      <td>0</td>\n",
              "    </tr>\n",
              "  </tbody>\n",
              "</table>\n",
              "</div>"
            ],
            "text/plain": [
              "                     Name PClass   Age     Sex  Survived  SexCode\n",
              "1307  Zabour, Miss Tamini    3rd   NaN  female         0        1\n",
              "1312       Zimmerman, Leo    3rd  29.0    male         0        0"
            ]
          },
          "execution_count": 11,
          "metadata": {},
          "output_type": "execute_result"
        }
      ],
      "source": [
        "# Drop duplicates\n",
        "dataframe.drop_duplicates(subset=['Sex'], keep='last')"
      ]
    },
    {
      "cell_type": "code",
      "execution_count": 12,
      "metadata": {
        "colab": {
          "base_uri": "https://localhost:8080/",
          "height": 458
        },
        "id": "z15JrX9URIHF",
        "outputId": "6b47433e-b4f4-487f-a78e-cc26c6500d4b"
      },
      "outputs": [
        {
          "data": {
            "text/plain": [
              "0       False\n",
              "1       False\n",
              "2       False\n",
              "3       False\n",
              "4       False\n",
              "        ...  \n",
              "1308    False\n",
              "1309    False\n",
              "1310    False\n",
              "1311    False\n",
              "1312    False\n",
              "Length: 1313, dtype: bool"
            ]
          },
          "execution_count": 12,
          "metadata": {},
          "output_type": "execute_result"
        }
      ],
      "source": [
        "dataframe.duplicated()"
      ]
    },
    {
      "cell_type": "markdown",
      "metadata": {
        "id": "V0NM1kjBRNDA"
      },
      "source": [
        "3.14 Grouping Rows by Values"
      ]
    },
    {
      "cell_type": "code",
      "execution_count": 13,
      "metadata": {
        "colab": {
          "base_uri": "https://localhost:8080/",
          "height": 143
        },
        "id": "QKZD9vYYRQKN",
        "outputId": "7315d7f7-dc24-4967-eea6-d04fa0aed6ae"
      },
      "outputs": [
        {
          "data": {
            "text/html": [
              "<div>\n",
              "<style scoped>\n",
              "    .dataframe tbody tr th:only-of-type {\n",
              "        vertical-align: middle;\n",
              "    }\n",
              "\n",
              "    .dataframe tbody tr th {\n",
              "        vertical-align: top;\n",
              "    }\n",
              "\n",
              "    .dataframe thead th {\n",
              "        text-align: right;\n",
              "    }\n",
              "</style>\n",
              "<table border=\"1\" class=\"dataframe\">\n",
              "  <thead>\n",
              "    <tr style=\"text-align: right;\">\n",
              "      <th></th>\n",
              "      <th>Age</th>\n",
              "      <th>Survived</th>\n",
              "      <th>SexCode</th>\n",
              "    </tr>\n",
              "    <tr>\n",
              "      <th>Sex</th>\n",
              "      <th></th>\n",
              "      <th></th>\n",
              "      <th></th>\n",
              "    </tr>\n",
              "  </thead>\n",
              "  <tbody>\n",
              "    <tr>\n",
              "      <th>female</th>\n",
              "      <td>29.396424</td>\n",
              "      <td>0.666667</td>\n",
              "      <td>1.0</td>\n",
              "    </tr>\n",
              "    <tr>\n",
              "      <th>male</th>\n",
              "      <td>31.014338</td>\n",
              "      <td>0.166863</td>\n",
              "      <td>0.0</td>\n",
              "    </tr>\n",
              "  </tbody>\n",
              "</table>\n",
              "</div>"
            ],
            "text/plain": [
              "              Age  Survived  SexCode\n",
              "Sex                                 \n",
              "female  29.396424  0.666667      1.0\n",
              "male    31.014338  0.166863      0.0"
            ]
          },
          "execution_count": 13,
          "metadata": {},
          "output_type": "execute_result"
        }
      ],
      "source": [
        "# Group rows by the values of the column 'Sex', calculate mean # of each group\n",
        "dataframe.groupby('Sex').mean(numeric_only=True)"
      ]
    },
    {
      "cell_type": "code",
      "execution_count": 14,
      "metadata": {
        "colab": {
          "base_uri": "https://localhost:8080/"
        },
        "id": "kl0QsvILRUgU",
        "outputId": "438a4419-3d8e-4ce2-e468-1dc92d54f8ad"
      },
      "outputs": [
        {
          "data": {
            "text/plain": [
              "<pandas.core.groupby.generic.DataFrameGroupBy object at 0x000002586C15E3F0>"
            ]
          },
          "execution_count": 14,
          "metadata": {},
          "output_type": "execute_result"
        }
      ],
      "source": [
        "# Group rows\n",
        "dataframe.groupby('Sex')"
      ]
    },
    {
      "cell_type": "code",
      "execution_count": 15,
      "metadata": {
        "colab": {
          "base_uri": "https://localhost:8080/",
          "height": 178
        },
        "id": "wWGawLJ9RaSP",
        "outputId": "bd7c6df6-759c-4391-ce1f-dff57cdcbfde"
      },
      "outputs": [
        {
          "data": {
            "text/plain": [
              "Survived\n",
              "0    863\n",
              "1    450\n",
              "Name: Name, dtype: int64"
            ]
          },
          "execution_count": 15,
          "metadata": {},
          "output_type": "execute_result"
        }
      ],
      "source": [
        "# Group rows, count rows\n",
        "dataframe.groupby('Survived')['Name'].count()"
      ]
    },
    {
      "cell_type": "code",
      "execution_count": 16,
      "metadata": {
        "colab": {
          "base_uri": "https://localhost:8080/",
          "height": 240
        },
        "id": "VCbAtvEFRbFg",
        "outputId": "42527af2-4f8b-4ac2-d15f-ca24535aae93"
      },
      "outputs": [
        {
          "data": {
            "text/plain": [
              "Sex     Survived\n",
              "female  0           24.901408\n",
              "        1           30.867143\n",
              "male    0           32.320780\n",
              "        1           25.951875\n",
              "Name: Age, dtype: float64"
            ]
          },
          "execution_count": 16,
          "metadata": {},
          "output_type": "execute_result"
        }
      ],
      "source": [
        "# Group rows, calculate mean\n",
        "dataframe.groupby(['Sex','Survived'])['Age'].mean()"
      ]
    },
    {
      "cell_type": "markdown",
      "metadata": {
        "id": "IxL-v4lIRoPy"
      },
      "source": [
        "3.15 Grouping Rows by Time"
      ]
    },
    {
      "cell_type": "code",
      "execution_count": 17,
      "metadata": {
        "colab": {
          "base_uri": "https://localhost:8080/",
          "height": 293
        },
        "id": "jJ27Nm0wRpmw",
        "outputId": "0460ffb7-a85e-4001-cf9c-e256957ae7c3"
      },
      "outputs": [
        {
          "name": "stderr",
          "output_type": "stream",
          "text": [
            "C:\\Users\\surface pro7\\AppData\\Local\\Temp\\ipykernel_15504\\3620860418.py:5: FutureWarning: 'S' is deprecated and will be removed in a future version, please use 's' instead.\n",
            "  time_index = pd.date_range('06/06/2017', periods=100000, freq='30S')\n"
          ]
        },
        {
          "data": {
            "text/html": [
              "<div>\n",
              "<style scoped>\n",
              "    .dataframe tbody tr th:only-of-type {\n",
              "        vertical-align: middle;\n",
              "    }\n",
              "\n",
              "    .dataframe tbody tr th {\n",
              "        vertical-align: top;\n",
              "    }\n",
              "\n",
              "    .dataframe thead th {\n",
              "        text-align: right;\n",
              "    }\n",
              "</style>\n",
              "<table border=\"1\" class=\"dataframe\">\n",
              "  <thead>\n",
              "    <tr style=\"text-align: right;\">\n",
              "      <th></th>\n",
              "      <th>Sale_Amount</th>\n",
              "    </tr>\n",
              "  </thead>\n",
              "  <tbody>\n",
              "    <tr>\n",
              "      <th>2017-06-11</th>\n",
              "      <td>86090</td>\n",
              "    </tr>\n",
              "    <tr>\n",
              "      <th>2017-06-18</th>\n",
              "      <td>101291</td>\n",
              "    </tr>\n",
              "    <tr>\n",
              "      <th>2017-06-25</th>\n",
              "      <td>101238</td>\n",
              "    </tr>\n",
              "    <tr>\n",
              "      <th>2017-07-02</th>\n",
              "      <td>100282</td>\n",
              "    </tr>\n",
              "    <tr>\n",
              "      <th>2017-07-09</th>\n",
              "      <td>100618</td>\n",
              "    </tr>\n",
              "    <tr>\n",
              "      <th>2017-07-16</th>\n",
              "      <td>10148</td>\n",
              "    </tr>\n",
              "  </tbody>\n",
              "</table>\n",
              "</div>"
            ],
            "text/plain": [
              "            Sale_Amount\n",
              "2017-06-11        86090\n",
              "2017-06-18       101291\n",
              "2017-06-25       101238\n",
              "2017-07-02       100282\n",
              "2017-07-09       100618\n",
              "2017-07-16        10148"
            ]
          },
          "execution_count": 17,
          "metadata": {},
          "output_type": "execute_result"
        }
      ],
      "source": [
        "# Load libraries\n",
        "import pandas as pd\n",
        "import numpy as np\n",
        "# Create date range\n",
        "time_index = pd.date_range('06/06/2017', periods=100000, freq='30S')\n",
        "# Create DataFrame\n",
        "dataframe = pd.DataFrame(index=time_index)\n",
        "# Create column of random values\n",
        "dataframe['Sale_Amount'] = np.random.randint(1, 10, 100000)\n",
        "# Group rows by week, calculate sum per week\n",
        "dataframe.resample('W').sum()"
      ]
    },
    {
      "cell_type": "code",
      "execution_count": 18,
      "metadata": {
        "colab": {
          "base_uri": "https://localhost:8080/"
        },
        "id": "KFMtqOXMTwya",
        "outputId": "5b51a595-99b6-4caf-a26b-25b04543dc66"
      },
      "outputs": [
        {
          "data": {
            "text/plain": [
              "DatetimeIndex(['2017-06-06 00:00:00', '2017-06-06 00:00:30',\n",
              "               '2017-06-06 00:01:00', '2017-06-06 00:01:30',\n",
              "               '2017-06-06 00:02:00', '2017-06-06 00:02:30',\n",
              "               '2017-06-06 00:03:00', '2017-06-06 00:03:30',\n",
              "               '2017-06-06 00:04:00', '2017-06-06 00:04:30',\n",
              "               ...\n",
              "               '2017-07-10 17:15:00', '2017-07-10 17:15:30',\n",
              "               '2017-07-10 17:16:00', '2017-07-10 17:16:30',\n",
              "               '2017-07-10 17:17:00', '2017-07-10 17:17:30',\n",
              "               '2017-07-10 17:18:00', '2017-07-10 17:18:30',\n",
              "               '2017-07-10 17:19:00', '2017-07-10 17:19:30'],\n",
              "              dtype='datetime64[ns]', length=100000, freq='30s')"
            ]
          },
          "execution_count": 18,
          "metadata": {},
          "output_type": "execute_result"
        }
      ],
      "source": [
        "time_index"
      ]
    },
    {
      "cell_type": "code",
      "execution_count": 19,
      "metadata": {
        "colab": {
          "base_uri": "https://localhost:8080/",
          "height": 143
        },
        "id": "QPcZgu20T7cI",
        "outputId": "d34efdc0-a85f-4f0c-8f1f-ecf1311eaa77"
      },
      "outputs": [
        {
          "data": {
            "text/html": [
              "<div>\n",
              "<style scoped>\n",
              "    .dataframe tbody tr th:only-of-type {\n",
              "        vertical-align: middle;\n",
              "    }\n",
              "\n",
              "    .dataframe tbody tr th {\n",
              "        vertical-align: top;\n",
              "    }\n",
              "\n",
              "    .dataframe thead th {\n",
              "        text-align: right;\n",
              "    }\n",
              "</style>\n",
              "<table border=\"1\" class=\"dataframe\">\n",
              "  <thead>\n",
              "    <tr style=\"text-align: right;\">\n",
              "      <th></th>\n",
              "      <th>Sale_Amount</th>\n",
              "    </tr>\n",
              "  </thead>\n",
              "  <tbody>\n",
              "    <tr>\n",
              "      <th>2017-06-06 00:00:00</th>\n",
              "      <td>7</td>\n",
              "    </tr>\n",
              "    <tr>\n",
              "      <th>2017-06-06 00:00:30</th>\n",
              "      <td>1</td>\n",
              "    </tr>\n",
              "    <tr>\n",
              "      <th>2017-06-06 00:01:00</th>\n",
              "      <td>8</td>\n",
              "    </tr>\n",
              "  </tbody>\n",
              "</table>\n",
              "</div>"
            ],
            "text/plain": [
              "                     Sale_Amount\n",
              "2017-06-06 00:00:00            7\n",
              "2017-06-06 00:00:30            1\n",
              "2017-06-06 00:01:00            8"
            ]
          },
          "execution_count": 19,
          "metadata": {},
          "output_type": "execute_result"
        }
      ],
      "source": [
        "# Show three rows\n",
        "dataframe.head(3)"
      ]
    },
    {
      "cell_type": "code",
      "execution_count": 20,
      "metadata": {
        "colab": {
          "base_uri": "https://localhost:8080/",
          "height": 174
        },
        "id": "lnVmcLtoT_Dt",
        "outputId": "6a403fd1-e730-404d-cdc7-15d8f9dc65d5"
      },
      "outputs": [
        {
          "data": {
            "text/html": [
              "<div>\n",
              "<style scoped>\n",
              "    .dataframe tbody tr th:only-of-type {\n",
              "        vertical-align: middle;\n",
              "    }\n",
              "\n",
              "    .dataframe tbody tr th {\n",
              "        vertical-align: top;\n",
              "    }\n",
              "\n",
              "    .dataframe thead th {\n",
              "        text-align: right;\n",
              "    }\n",
              "</style>\n",
              "<table border=\"1\" class=\"dataframe\">\n",
              "  <thead>\n",
              "    <tr style=\"text-align: right;\">\n",
              "      <th></th>\n",
              "      <th>Sale_Amount</th>\n",
              "    </tr>\n",
              "  </thead>\n",
              "  <tbody>\n",
              "    <tr>\n",
              "      <th>2017-06-11</th>\n",
              "      <td>4.982060</td>\n",
              "    </tr>\n",
              "    <tr>\n",
              "      <th>2017-06-25</th>\n",
              "      <td>5.023041</td>\n",
              "    </tr>\n",
              "    <tr>\n",
              "      <th>2017-07-09</th>\n",
              "      <td>4.982639</td>\n",
              "    </tr>\n",
              "    <tr>\n",
              "      <th>2017-07-23</th>\n",
              "      <td>4.878846</td>\n",
              "    </tr>\n",
              "  </tbody>\n",
              "</table>\n",
              "</div>"
            ],
            "text/plain": [
              "            Sale_Amount\n",
              "2017-06-11     4.982060\n",
              "2017-06-25     5.023041\n",
              "2017-07-09     4.982639\n",
              "2017-07-23     4.878846"
            ]
          },
          "execution_count": 20,
          "metadata": {},
          "output_type": "execute_result"
        }
      ],
      "source": [
        "# Group by two weeks, calculate mean\n",
        "dataframe.resample('2W').mean()"
      ]
    },
    {
      "cell_type": "code",
      "execution_count": 21,
      "metadata": {
        "colab": {
          "base_uri": "https://localhost:8080/",
          "height": 167
        },
        "id": "kLGfk5bDUEw5",
        "outputId": "e620d3b6-3530-4b46-9090-aa3f9be9c1d2"
      },
      "outputs": [
        {
          "name": "stderr",
          "output_type": "stream",
          "text": [
            "C:\\Users\\surface pro7\\AppData\\Local\\Temp\\ipykernel_15504\\65364985.py:2: FutureWarning: 'M' is deprecated and will be removed in a future version, please use 'ME' instead.\n",
            "  dataframe.resample('M').count()\n"
          ]
        },
        {
          "data": {
            "text/html": [
              "<div>\n",
              "<style scoped>\n",
              "    .dataframe tbody tr th:only-of-type {\n",
              "        vertical-align: middle;\n",
              "    }\n",
              "\n",
              "    .dataframe tbody tr th {\n",
              "        vertical-align: top;\n",
              "    }\n",
              "\n",
              "    .dataframe thead th {\n",
              "        text-align: right;\n",
              "    }\n",
              "</style>\n",
              "<table border=\"1\" class=\"dataframe\">\n",
              "  <thead>\n",
              "    <tr style=\"text-align: right;\">\n",
              "      <th></th>\n",
              "      <th>Sale_Amount</th>\n",
              "    </tr>\n",
              "  </thead>\n",
              "  <tbody>\n",
              "    <tr>\n",
              "      <th>2017-06-30</th>\n",
              "      <td>72000</td>\n",
              "    </tr>\n",
              "    <tr>\n",
              "      <th>2017-07-31</th>\n",
              "      <td>28000</td>\n",
              "    </tr>\n",
              "  </tbody>\n",
              "</table>\n",
              "</div>"
            ],
            "text/plain": [
              "            Sale_Amount\n",
              "2017-06-30        72000\n",
              "2017-07-31        28000"
            ]
          },
          "execution_count": 21,
          "metadata": {},
          "output_type": "execute_result"
        }
      ],
      "source": [
        "# Group by month, count rows\n",
        "dataframe.resample('M').count()"
      ]
    },
    {
      "cell_type": "code",
      "execution_count": 22,
      "metadata": {
        "colab": {
          "base_uri": "https://localhost:8080/",
          "height": 167
        },
        "id": "_ES0kTB5UF4h",
        "outputId": "6228fb90-70f3-4719-80f3-f8edaa85c5c0"
      },
      "outputs": [
        {
          "name": "stderr",
          "output_type": "stream",
          "text": [
            "C:\\Users\\surface pro7\\AppData\\Local\\Temp\\ipykernel_15504\\401818595.py:2: FutureWarning: 'M' is deprecated and will be removed in a future version, please use 'ME' instead.\n",
            "  dataframe.resample('M', label='left').count()\n"
          ]
        },
        {
          "data": {
            "text/html": [
              "<div>\n",
              "<style scoped>\n",
              "    .dataframe tbody tr th:only-of-type {\n",
              "        vertical-align: middle;\n",
              "    }\n",
              "\n",
              "    .dataframe tbody tr th {\n",
              "        vertical-align: top;\n",
              "    }\n",
              "\n",
              "    .dataframe thead th {\n",
              "        text-align: right;\n",
              "    }\n",
              "</style>\n",
              "<table border=\"1\" class=\"dataframe\">\n",
              "  <thead>\n",
              "    <tr style=\"text-align: right;\">\n",
              "      <th></th>\n",
              "      <th>Sale_Amount</th>\n",
              "    </tr>\n",
              "  </thead>\n",
              "  <tbody>\n",
              "    <tr>\n",
              "      <th>2017-05-31</th>\n",
              "      <td>72000</td>\n",
              "    </tr>\n",
              "    <tr>\n",
              "      <th>2017-06-30</th>\n",
              "      <td>28000</td>\n",
              "    </tr>\n",
              "  </tbody>\n",
              "</table>\n",
              "</div>"
            ],
            "text/plain": [
              "            Sale_Amount\n",
              "2017-05-31        72000\n",
              "2017-06-30        28000"
            ]
          },
          "execution_count": 22,
          "metadata": {},
          "output_type": "execute_result"
        }
      ],
      "source": [
        "# Group by month, count rows\n",
        "dataframe.resample('M', label='left').count()"
      ]
    },
    {
      "cell_type": "code",
      "execution_count": 23,
      "metadata": {
        "colab": {
          "base_uri": "https://localhost:8080/",
          "height": 167
        },
        "id": "O7hrSbE6VQEn",
        "outputId": "9bbb36a4-337c-4e90-b44e-b142cdc4bbcf"
      },
      "outputs": [
        {
          "name": "stderr",
          "output_type": "stream",
          "text": [
            "C:\\Users\\surface pro7\\AppData\\Local\\Temp\\ipykernel_15504\\3321524606.py:2: FutureWarning: 'M' is deprecated and will be removed in a future version, please use 'ME' instead.\n",
            "  dataframe.resample('M', label='right').count()\n"
          ]
        },
        {
          "data": {
            "text/html": [
              "<div>\n",
              "<style scoped>\n",
              "    .dataframe tbody tr th:only-of-type {\n",
              "        vertical-align: middle;\n",
              "    }\n",
              "\n",
              "    .dataframe tbody tr th {\n",
              "        vertical-align: top;\n",
              "    }\n",
              "\n",
              "    .dataframe thead th {\n",
              "        text-align: right;\n",
              "    }\n",
              "</style>\n",
              "<table border=\"1\" class=\"dataframe\">\n",
              "  <thead>\n",
              "    <tr style=\"text-align: right;\">\n",
              "      <th></th>\n",
              "      <th>Sale_Amount</th>\n",
              "    </tr>\n",
              "  </thead>\n",
              "  <tbody>\n",
              "    <tr>\n",
              "      <th>2017-06-30</th>\n",
              "      <td>72000</td>\n",
              "    </tr>\n",
              "    <tr>\n",
              "      <th>2017-07-31</th>\n",
              "      <td>28000</td>\n",
              "    </tr>\n",
              "  </tbody>\n",
              "</table>\n",
              "</div>"
            ],
            "text/plain": [
              "            Sale_Amount\n",
              "2017-06-30        72000\n",
              "2017-07-31        28000"
            ]
          },
          "execution_count": 23,
          "metadata": {},
          "output_type": "execute_result"
        }
      ],
      "source": [
        "# Group by month, count rows\n",
        "dataframe.resample('M', label='right').count()"
      ]
    },
    {
      "cell_type": "markdown",
      "metadata": {
        "id": "EAEWEbwCULxS"
      },
      "source": [
        "3.16 Aggregating Operations and Statistics"
      ]
    },
    {
      "cell_type": "code",
      "execution_count": 24,
      "metadata": {
        "colab": {
          "base_uri": "https://localhost:8080/",
          "height": 272
        },
        "id": "XOyvhtkFUR6I",
        "outputId": "63346441-1cd4-43ca-f129-60ee9e875d3a"
      },
      "outputs": [
        {
          "data": {
            "text/plain": [
              "Name        Abbing, Mr Anthony\n",
              "PClass                       *\n",
              "Age                       0.17\n",
              "Sex                     female\n",
              "Survived                     0\n",
              "SexCode                      0\n",
              "dtype: object"
            ]
          },
          "execution_count": 24,
          "metadata": {},
          "output_type": "execute_result"
        }
      ],
      "source": [
        "# Create URL\n",
        "url = 'https://raw.githubusercontent.com/chrisalbon/sim_data/master/titanic.csv'\n",
        "# Load data\n",
        "dataframe = pd.read_csv(url)\n",
        "# Get the minimum of every column\n",
        "dataframe.agg(\"min\")"
      ]
    },
    {
      "cell_type": "code",
      "execution_count": 25,
      "metadata": {
        "colab": {
          "base_uri": "https://localhost:8080/",
          "height": 143
        },
        "id": "B6ggmwTNWQvE",
        "outputId": "6c31e434-21b8-4ebe-c1cc-159cfab7f0cd"
      },
      "outputs": [
        {
          "data": {
            "text/html": [
              "<div>\n",
              "<style scoped>\n",
              "    .dataframe tbody tr th:only-of-type {\n",
              "        vertical-align: middle;\n",
              "    }\n",
              "\n",
              "    .dataframe tbody tr th {\n",
              "        vertical-align: top;\n",
              "    }\n",
              "\n",
              "    .dataframe thead th {\n",
              "        text-align: right;\n",
              "    }\n",
              "</style>\n",
              "<table border=\"1\" class=\"dataframe\">\n",
              "  <thead>\n",
              "    <tr style=\"text-align: right;\">\n",
              "      <th></th>\n",
              "      <th>Age</th>\n",
              "      <th>SexCode</th>\n",
              "    </tr>\n",
              "  </thead>\n",
              "  <tbody>\n",
              "    <tr>\n",
              "      <th>mean</th>\n",
              "      <td>30.397989</td>\n",
              "      <td>NaN</td>\n",
              "    </tr>\n",
              "    <tr>\n",
              "      <th>min</th>\n",
              "      <td>NaN</td>\n",
              "      <td>0.0</td>\n",
              "    </tr>\n",
              "    <tr>\n",
              "      <th>max</th>\n",
              "      <td>NaN</td>\n",
              "      <td>1.0</td>\n",
              "    </tr>\n",
              "  </tbody>\n",
              "</table>\n",
              "</div>"
            ],
            "text/plain": [
              "            Age  SexCode\n",
              "mean  30.397989      NaN\n",
              "min         NaN      0.0\n",
              "max         NaN      1.0"
            ]
          },
          "execution_count": 25,
          "metadata": {},
          "output_type": "execute_result"
        }
      ],
      "source": [
        "# Mean Age, min and max SexCode\n",
        "dataframe.agg({\"Age\":[\"mean\"], \"SexCode\":[\"min\", \"max\"]})"
      ]
    },
    {
      "cell_type": "code",
      "execution_count": 26,
      "metadata": {
        "colab": {
          "base_uri": "https://localhost:8080/",
          "height": 300
        },
        "id": "F-3rRdX7WryZ",
        "outputId": "1a898905-5079-420e-cde4-b701d5f46411"
      },
      "outputs": [
        {
          "data": {
            "text/html": [
              "<div>\n",
              "<style scoped>\n",
              "    .dataframe tbody tr th:only-of-type {\n",
              "        vertical-align: middle;\n",
              "    }\n",
              "\n",
              "    .dataframe tbody tr th {\n",
              "        vertical-align: top;\n",
              "    }\n",
              "\n",
              "    .dataframe thead tr th {\n",
              "        text-align: left;\n",
              "    }\n",
              "</style>\n",
              "<table border=\"1\" class=\"dataframe\">\n",
              "  <thead>\n",
              "    <tr>\n",
              "      <th></th>\n",
              "      <th>PClass</th>\n",
              "      <th colspan=\"2\" halign=\"left\">Survived</th>\n",
              "    </tr>\n",
              "    <tr>\n",
              "      <th></th>\n",
              "      <th></th>\n",
              "      <th></th>\n",
              "      <th>count</th>\n",
              "    </tr>\n",
              "  </thead>\n",
              "  <tbody>\n",
              "    <tr>\n",
              "      <th>0</th>\n",
              "      <td>*</td>\n",
              "      <td>0</td>\n",
              "      <td>1</td>\n",
              "    </tr>\n",
              "    <tr>\n",
              "      <th>1</th>\n",
              "      <td>1st</td>\n",
              "      <td>0</td>\n",
              "      <td>129</td>\n",
              "    </tr>\n",
              "    <tr>\n",
              "      <th>2</th>\n",
              "      <td>1st</td>\n",
              "      <td>1</td>\n",
              "      <td>193</td>\n",
              "    </tr>\n",
              "    <tr>\n",
              "      <th>3</th>\n",
              "      <td>2nd</td>\n",
              "      <td>0</td>\n",
              "      <td>160</td>\n",
              "    </tr>\n",
              "    <tr>\n",
              "      <th>4</th>\n",
              "      <td>2nd</td>\n",
              "      <td>1</td>\n",
              "      <td>119</td>\n",
              "    </tr>\n",
              "    <tr>\n",
              "      <th>5</th>\n",
              "      <td>3rd</td>\n",
              "      <td>0</td>\n",
              "      <td>573</td>\n",
              "    </tr>\n",
              "    <tr>\n",
              "      <th>6</th>\n",
              "      <td>3rd</td>\n",
              "      <td>1</td>\n",
              "      <td>138</td>\n",
              "    </tr>\n",
              "  </tbody>\n",
              "</table>\n",
              "</div>"
            ],
            "text/plain": [
              "  PClass Survived      \n",
              "                  count\n",
              "0      *        0     1\n",
              "1    1st        0   129\n",
              "2    1st        1   193\n",
              "3    2nd        0   160\n",
              "4    2nd        1   119\n",
              "5    3rd        0   573\n",
              "6    3rd        1   138"
            ]
          },
          "execution_count": 26,
          "metadata": {},
          "output_type": "execute_result"
        }
      ],
      "source": [
        "# Number of people who survived and didn't survive in each class\n",
        "dataframe.groupby(\n",
        "[\"PClass\",\"Survived\"]).agg({\"Survived\":[\"count\"]}\n",
        ").reset_index()"
      ]
    },
    {
      "cell_type": "markdown",
      "metadata": {
        "id": "uExJFVi8Wwpi"
      },
      "source": [
        "3.17 Looping over a Column"
      ]
    },
    {
      "cell_type": "code",
      "execution_count": 27,
      "metadata": {
        "colab": {
          "base_uri": "https://localhost:8080/"
        },
        "id": "zkQ0Zy1bWtu_",
        "outputId": "7b85de9c-2e3c-4ddd-9fec-8bad1ae441b3"
      },
      "outputs": [
        {
          "name": "stdout",
          "output_type": "stream",
          "text": [
            "ALLEN, MISS ELISABETH WALTON\n",
            "ALLISON, MISS HELEN LORAINE\n",
            "ALLISON, MR HUDSON JOSHUA CREIGHTON\n",
            "ALLISON, MRS HUDSON JC (BESSIE WALDO DANIELS)\n",
            "ALLISON, MASTER HUDSON TREVOR\n"
          ]
        }
      ],
      "source": [
        "# Load library\n",
        "import pandas as pd\n",
        "# Create URL\n",
        "url = 'https://raw.githubusercontent.com/chrisalbon/sim_data/master/titanic.csv'\n",
        "# Load data\n",
        "dataframe = pd.read_csv(url)\n",
        "# Print first two names uppercased\n",
        "for name in dataframe['Name'][0:5]:\n",
        "  print(name.upper())"
      ]
    },
    {
      "cell_type": "code",
      "execution_count": 28,
      "metadata": {
        "colab": {
          "base_uri": "https://localhost:8080/"
        },
        "id": "yGXZ3ZaGXphl",
        "outputId": "898c87c7-64c0-4587-e7e8-5cc9eb18d3e9"
      },
      "outputs": [
        {
          "data": {
            "text/plain": [
              "['ALLEN, MISS ELISABETH WALTON', 'ALLISON, MISS HELEN LORAINE']"
            ]
          },
          "execution_count": 28,
          "metadata": {},
          "output_type": "execute_result"
        }
      ],
      "source": [
        "# Show first two names uppercased\n",
        "[name.upper() for name in dataframe['Name'][0:2]]"
      ]
    },
    {
      "cell_type": "markdown",
      "metadata": {
        "id": "y_nDq14PXvtf"
      },
      "source": [
        "3.18 Applying a Function over All Elements in a Column"
      ]
    },
    {
      "cell_type": "code",
      "execution_count": 29,
      "metadata": {
        "colab": {
          "base_uri": "https://localhost:8080/",
          "height": 146
        },
        "id": "ePQOcAWqXzNw",
        "outputId": "b64dd71b-bf56-4dd2-cd0e-233fd861e133"
      },
      "outputs": [
        {
          "data": {
            "text/plain": [
              "0    ALLEN, MISS ELISABETH WALTON\n",
              "1     ALLISON, MISS HELEN LORAINE\n",
              "Name: Name, dtype: object"
            ]
          },
          "execution_count": 29,
          "metadata": {},
          "output_type": "execute_result"
        }
      ],
      "source": [
        "# Create function\n",
        "def uppercase(x):\n",
        "  return x.upper()\n",
        "\n",
        "# Apply function, show two rows\n",
        "dataframe['Name'].apply(uppercase)[0:2]"
      ]
    },
    {
      "cell_type": "markdown",
      "metadata": {
        "id": "wmlcdofPYCav"
      },
      "source": [
        "3.19 Applying a Function to Groups"
      ]
    },
    {
      "cell_type": "code",
      "execution_count": 30,
      "metadata": {
        "colab": {
          "base_uri": "https://localhost:8080/",
          "height": 199
        },
        "id": "11eXJrGLYDp4",
        "outputId": "9385e025-a1a8-46ff-b938-02cc7e5b425d"
      },
      "outputs": [
        {
          "name": "stderr",
          "output_type": "stream",
          "text": [
            "C:\\Users\\surface pro7\\AppData\\Local\\Temp\\ipykernel_15504\\2601614640.py:2: DeprecationWarning: DataFrameGroupBy.apply operated on the grouping columns. This behavior is deprecated, and in a future version of pandas the grouping columns will be excluded from the operation. Either pass `include_groups=False` to exclude the groupings or explicitly select the grouping columns after groupby to silence this warning.\n",
            "  dataframe.groupby('Sex').apply(lambda x: x.count())\n"
          ]
        },
        {
          "data": {
            "text/html": [
              "<div>\n",
              "<style scoped>\n",
              "    .dataframe tbody tr th:only-of-type {\n",
              "        vertical-align: middle;\n",
              "    }\n",
              "\n",
              "    .dataframe tbody tr th {\n",
              "        vertical-align: top;\n",
              "    }\n",
              "\n",
              "    .dataframe thead th {\n",
              "        text-align: right;\n",
              "    }\n",
              "</style>\n",
              "<table border=\"1\" class=\"dataframe\">\n",
              "  <thead>\n",
              "    <tr style=\"text-align: right;\">\n",
              "      <th></th>\n",
              "      <th>Name</th>\n",
              "      <th>PClass</th>\n",
              "      <th>Age</th>\n",
              "      <th>Sex</th>\n",
              "      <th>Survived</th>\n",
              "      <th>SexCode</th>\n",
              "    </tr>\n",
              "    <tr>\n",
              "      <th>Sex</th>\n",
              "      <th></th>\n",
              "      <th></th>\n",
              "      <th></th>\n",
              "      <th></th>\n",
              "      <th></th>\n",
              "      <th></th>\n",
              "    </tr>\n",
              "  </thead>\n",
              "  <tbody>\n",
              "    <tr>\n",
              "      <th>female</th>\n",
              "      <td>462</td>\n",
              "      <td>462</td>\n",
              "      <td>288</td>\n",
              "      <td>462</td>\n",
              "      <td>462</td>\n",
              "      <td>462</td>\n",
              "    </tr>\n",
              "    <tr>\n",
              "      <th>male</th>\n",
              "      <td>851</td>\n",
              "      <td>851</td>\n",
              "      <td>468</td>\n",
              "      <td>851</td>\n",
              "      <td>851</td>\n",
              "      <td>851</td>\n",
              "    </tr>\n",
              "  </tbody>\n",
              "</table>\n",
              "</div>"
            ],
            "text/plain": [
              "        Name  PClass  Age  Sex  Survived  SexCode\n",
              "Sex                                              \n",
              "female   462     462  288  462       462      462\n",
              "male     851     851  468  851       851      851"
            ]
          },
          "execution_count": 30,
          "metadata": {},
          "output_type": "execute_result"
        }
      ],
      "source": [
        "# Group rows, apply function to groups\n",
        "dataframe.groupby('Sex').apply(lambda x: x.count())"
      ]
    },
    {
      "cell_type": "markdown",
      "metadata": {
        "id": "DMR515EVYJiv"
      },
      "source": [
        "3.20 Concatenating DataFrames"
      ]
    },
    {
      "cell_type": "code",
      "execution_count": 31,
      "metadata": {
        "colab": {
          "base_uri": "https://localhost:8080/",
          "height": 237
        },
        "id": "bYIuLiJjYKj9",
        "outputId": "663a00a9-a0da-4b9d-f144-cdccf84f8236"
      },
      "outputs": [
        {
          "data": {
            "text/html": [
              "<div>\n",
              "<style scoped>\n",
              "    .dataframe tbody tr th:only-of-type {\n",
              "        vertical-align: middle;\n",
              "    }\n",
              "\n",
              "    .dataframe tbody tr th {\n",
              "        vertical-align: top;\n",
              "    }\n",
              "\n",
              "    .dataframe thead th {\n",
              "        text-align: right;\n",
              "    }\n",
              "</style>\n",
              "<table border=\"1\" class=\"dataframe\">\n",
              "  <thead>\n",
              "    <tr style=\"text-align: right;\">\n",
              "      <th></th>\n",
              "      <th>id</th>\n",
              "      <th>first</th>\n",
              "      <th>last</th>\n",
              "    </tr>\n",
              "  </thead>\n",
              "  <tbody>\n",
              "    <tr>\n",
              "      <th>0</th>\n",
              "      <td>1</td>\n",
              "      <td>Alex</td>\n",
              "      <td>Anderson</td>\n",
              "    </tr>\n",
              "    <tr>\n",
              "      <th>1</th>\n",
              "      <td>2</td>\n",
              "      <td>Amy</td>\n",
              "      <td>Ackerman</td>\n",
              "    </tr>\n",
              "    <tr>\n",
              "      <th>2</th>\n",
              "      <td>3</td>\n",
              "      <td>Allen</td>\n",
              "      <td>Ali</td>\n",
              "    </tr>\n",
              "    <tr>\n",
              "      <th>0</th>\n",
              "      <td>4</td>\n",
              "      <td>Billy</td>\n",
              "      <td>Bonder</td>\n",
              "    </tr>\n",
              "    <tr>\n",
              "      <th>1</th>\n",
              "      <td>5</td>\n",
              "      <td>Brian</td>\n",
              "      <td>Black</td>\n",
              "    </tr>\n",
              "    <tr>\n",
              "      <th>2</th>\n",
              "      <td>6</td>\n",
              "      <td>Bran</td>\n",
              "      <td>Balwner</td>\n",
              "    </tr>\n",
              "  </tbody>\n",
              "</table>\n",
              "</div>"
            ],
            "text/plain": [
              "  id  first      last\n",
              "0  1   Alex  Anderson\n",
              "1  2    Amy  Ackerman\n",
              "2  3  Allen       Ali\n",
              "0  4  Billy    Bonder\n",
              "1  5  Brian     Black\n",
              "2  6   Bran   Balwner"
            ]
          },
          "execution_count": 31,
          "metadata": {},
          "output_type": "execute_result"
        }
      ],
      "source": [
        "# Load library\n",
        "import pandas as pd\n",
        "\n",
        "# Create DataFrame\n",
        "data_a = {'id': ['1', '2', '3'],\n",
        "          'first': ['Alex', 'Amy', 'Allen'],\n",
        "          'last': ['Anderson', 'Ackerman', 'Ali']}\n",
        "\n",
        "dataframe_a = pd.DataFrame(data_a, columns = ['id', 'first', 'last'])\n",
        "\n",
        "# Create DataFrame\n",
        "data_b = {'id': ['4', '5', '6'],\n",
        "          'first': ['Billy', 'Brian', 'Bran'],\n",
        "          'last': ['Bonder', 'Black', 'Balwner']}\n",
        "\n",
        "dataframe_b = pd.DataFrame(data_b, columns = ['id', 'first', 'last'])\n",
        "\n",
        "# Concatenate DataFrames by rows\n",
        "pd.concat([dataframe_a, dataframe_b], axis=0)"
      ]
    },
    {
      "cell_type": "markdown",
      "metadata": {
        "id": "TKtIZR2GY0xb"
      },
      "source": [
        "3.21 Merging DataFrames"
      ]
    },
    {
      "cell_type": "code",
      "execution_count": 32,
      "metadata": {
        "colab": {
          "base_uri": "https://localhost:8080/",
          "height": 112
        },
        "id": "cy--VlNYY15E",
        "outputId": "63e87664-1869-4010-f335-ea9d7db4f4d2"
      },
      "outputs": [
        {
          "data": {
            "text/html": [
              "<div>\n",
              "<style scoped>\n",
              "    .dataframe tbody tr th:only-of-type {\n",
              "        vertical-align: middle;\n",
              "    }\n",
              "\n",
              "    .dataframe tbody tr th {\n",
              "        vertical-align: top;\n",
              "    }\n",
              "\n",
              "    .dataframe thead th {\n",
              "        text-align: right;\n",
              "    }\n",
              "</style>\n",
              "<table border=\"1\" class=\"dataframe\">\n",
              "  <thead>\n",
              "    <tr style=\"text-align: right;\">\n",
              "      <th></th>\n",
              "      <th>employee_id</th>\n",
              "      <th>name</th>\n",
              "      <th>total_sales</th>\n",
              "    </tr>\n",
              "  </thead>\n",
              "  <tbody>\n",
              "    <tr>\n",
              "      <th>0</th>\n",
              "      <td>3</td>\n",
              "      <td>Alice Bees</td>\n",
              "      <td>23456</td>\n",
              "    </tr>\n",
              "    <tr>\n",
              "      <th>1</th>\n",
              "      <td>4</td>\n",
              "      <td>Tim Horton</td>\n",
              "      <td>2512</td>\n",
              "    </tr>\n",
              "  </tbody>\n",
              "</table>\n",
              "</div>"
            ],
            "text/plain": [
              "  employee_id        name  total_sales\n",
              "0           3  Alice Bees        23456\n",
              "1           4  Tim Horton         2512"
            ]
          },
          "execution_count": 32,
          "metadata": {},
          "output_type": "execute_result"
        }
      ],
      "source": [
        "# Load library\n",
        "import pandas as pd\n",
        "\n",
        "# Create DataFrame\n",
        "employee_data = {'employee_id': ['1', '2', '3', '4'],\n",
        "                 'name': ['Amy Jones', 'Allen Keys', 'Alice Bees',\n",
        "                          'Tim Horton']}\n",
        "\n",
        "dataframe_employees = pd.DataFrame(employee_data, columns = ['employee_id',\n",
        "                                                             'name'])\n",
        "\n",
        "# Create DataFrame\n",
        "sales_data = {'employee_id': ['3', '4', '5', '6'],\n",
        "              'total_sales': [23456, 2512, 2345, 1455]}\n",
        "\n",
        "dataframe_sales = pd.DataFrame(sales_data, columns = ['employee_id',\n",
        "                                                      'total_sales'])\n",
        "\n",
        "# Merge DataFrames\n",
        "pd.merge(dataframe_employees, dataframe_sales, on='employee_id')"
      ]
    },
    {
      "cell_type": "code",
      "execution_count": 33,
      "metadata": {
        "colab": {
          "base_uri": "https://localhost:8080/",
          "height": 237
        },
        "id": "wCjS00ubZXNT",
        "outputId": "80d1e4ca-7f4b-4bdb-c3aa-4d89d659bd45"
      },
      "outputs": [
        {
          "data": {
            "text/html": [
              "<div>\n",
              "<style scoped>\n",
              "    .dataframe tbody tr th:only-of-type {\n",
              "        vertical-align: middle;\n",
              "    }\n",
              "\n",
              "    .dataframe tbody tr th {\n",
              "        vertical-align: top;\n",
              "    }\n",
              "\n",
              "    .dataframe thead th {\n",
              "        text-align: right;\n",
              "    }\n",
              "</style>\n",
              "<table border=\"1\" class=\"dataframe\">\n",
              "  <thead>\n",
              "    <tr style=\"text-align: right;\">\n",
              "      <th></th>\n",
              "      <th>employee_id</th>\n",
              "      <th>name</th>\n",
              "      <th>total_sales</th>\n",
              "    </tr>\n",
              "  </thead>\n",
              "  <tbody>\n",
              "    <tr>\n",
              "      <th>0</th>\n",
              "      <td>1</td>\n",
              "      <td>Amy Jones</td>\n",
              "      <td>NaN</td>\n",
              "    </tr>\n",
              "    <tr>\n",
              "      <th>1</th>\n",
              "      <td>2</td>\n",
              "      <td>Allen Keys</td>\n",
              "      <td>NaN</td>\n",
              "    </tr>\n",
              "    <tr>\n",
              "      <th>2</th>\n",
              "      <td>3</td>\n",
              "      <td>Alice Bees</td>\n",
              "      <td>23456.0</td>\n",
              "    </tr>\n",
              "    <tr>\n",
              "      <th>3</th>\n",
              "      <td>4</td>\n",
              "      <td>Tim Horton</td>\n",
              "      <td>2512.0</td>\n",
              "    </tr>\n",
              "    <tr>\n",
              "      <th>4</th>\n",
              "      <td>5</td>\n",
              "      <td>NaN</td>\n",
              "      <td>2345.0</td>\n",
              "    </tr>\n",
              "    <tr>\n",
              "      <th>5</th>\n",
              "      <td>6</td>\n",
              "      <td>NaN</td>\n",
              "      <td>1455.0</td>\n",
              "    </tr>\n",
              "  </tbody>\n",
              "</table>\n",
              "</div>"
            ],
            "text/plain": [
              "  employee_id        name  total_sales\n",
              "0           1   Amy Jones          NaN\n",
              "1           2  Allen Keys          NaN\n",
              "2           3  Alice Bees      23456.0\n",
              "3           4  Tim Horton       2512.0\n",
              "4           5         NaN       2345.0\n",
              "5           6         NaN       1455.0"
            ]
          },
          "execution_count": 33,
          "metadata": {},
          "output_type": "execute_result"
        }
      ],
      "source": [
        "# Merge DataFrames\n",
        "pd.merge(dataframe_employees, dataframe_sales, on='employee_id', how='outer')"
      ]
    },
    {
      "cell_type": "code",
      "execution_count": 34,
      "metadata": {
        "colab": {
          "base_uri": "https://localhost:8080/",
          "height": 174
        },
        "id": "4Grhb1G1ZngN",
        "outputId": "d21e1be0-c76d-4add-e1b9-38f8cb103b8d"
      },
      "outputs": [
        {
          "data": {
            "text/html": [
              "<div>\n",
              "<style scoped>\n",
              "    .dataframe tbody tr th:only-of-type {\n",
              "        vertical-align: middle;\n",
              "    }\n",
              "\n",
              "    .dataframe tbody tr th {\n",
              "        vertical-align: top;\n",
              "    }\n",
              "\n",
              "    .dataframe thead th {\n",
              "        text-align: right;\n",
              "    }\n",
              "</style>\n",
              "<table border=\"1\" class=\"dataframe\">\n",
              "  <thead>\n",
              "    <tr style=\"text-align: right;\">\n",
              "      <th></th>\n",
              "      <th>employee_id</th>\n",
              "      <th>name</th>\n",
              "      <th>total_sales</th>\n",
              "    </tr>\n",
              "  </thead>\n",
              "  <tbody>\n",
              "    <tr>\n",
              "      <th>0</th>\n",
              "      <td>1</td>\n",
              "      <td>Amy Jones</td>\n",
              "      <td>NaN</td>\n",
              "    </tr>\n",
              "    <tr>\n",
              "      <th>1</th>\n",
              "      <td>2</td>\n",
              "      <td>Allen Keys</td>\n",
              "      <td>NaN</td>\n",
              "    </tr>\n",
              "    <tr>\n",
              "      <th>2</th>\n",
              "      <td>3</td>\n",
              "      <td>Alice Bees</td>\n",
              "      <td>23456.0</td>\n",
              "    </tr>\n",
              "    <tr>\n",
              "      <th>3</th>\n",
              "      <td>4</td>\n",
              "      <td>Tim Horton</td>\n",
              "      <td>2512.0</td>\n",
              "    </tr>\n",
              "  </tbody>\n",
              "</table>\n",
              "</div>"
            ],
            "text/plain": [
              "  employee_id        name  total_sales\n",
              "0           1   Amy Jones          NaN\n",
              "1           2  Allen Keys          NaN\n",
              "2           3  Alice Bees      23456.0\n",
              "3           4  Tim Horton       2512.0"
            ]
          },
          "execution_count": 34,
          "metadata": {},
          "output_type": "execute_result"
        }
      ],
      "source": [
        "# Merge DataFrames\n",
        "pd.merge(dataframe_employees, dataframe_sales, on='employee_id', how='left')"
      ]
    },
    {
      "cell_type": "code",
      "execution_count": 35,
      "metadata": {
        "colab": {
          "base_uri": "https://localhost:8080/",
          "height": 174
        },
        "id": "MXQZ6PdpaM47",
        "outputId": "38d2c5aa-a869-4f9a-a8ef-6e60aab5b8e5"
      },
      "outputs": [
        {
          "data": {
            "text/html": [
              "<div>\n",
              "<style scoped>\n",
              "    .dataframe tbody tr th:only-of-type {\n",
              "        vertical-align: middle;\n",
              "    }\n",
              "\n",
              "    .dataframe tbody tr th {\n",
              "        vertical-align: top;\n",
              "    }\n",
              "\n",
              "    .dataframe thead th {\n",
              "        text-align: right;\n",
              "    }\n",
              "</style>\n",
              "<table border=\"1\" class=\"dataframe\">\n",
              "  <thead>\n",
              "    <tr style=\"text-align: right;\">\n",
              "      <th></th>\n",
              "      <th>employee_id</th>\n",
              "      <th>name</th>\n",
              "      <th>total_sales</th>\n",
              "    </tr>\n",
              "  </thead>\n",
              "  <tbody>\n",
              "    <tr>\n",
              "      <th>0</th>\n",
              "      <td>3</td>\n",
              "      <td>Alice Bees</td>\n",
              "      <td>23456</td>\n",
              "    </tr>\n",
              "    <tr>\n",
              "      <th>1</th>\n",
              "      <td>4</td>\n",
              "      <td>Tim Horton</td>\n",
              "      <td>2512</td>\n",
              "    </tr>\n",
              "    <tr>\n",
              "      <th>2</th>\n",
              "      <td>5</td>\n",
              "      <td>NaN</td>\n",
              "      <td>2345</td>\n",
              "    </tr>\n",
              "    <tr>\n",
              "      <th>3</th>\n",
              "      <td>6</td>\n",
              "      <td>NaN</td>\n",
              "      <td>1455</td>\n",
              "    </tr>\n",
              "  </tbody>\n",
              "</table>\n",
              "</div>"
            ],
            "text/plain": [
              "  employee_id        name  total_sales\n",
              "0           3  Alice Bees        23456\n",
              "1           4  Tim Horton         2512\n",
              "2           5         NaN         2345\n",
              "3           6         NaN         1455"
            ]
          },
          "execution_count": 35,
          "metadata": {},
          "output_type": "execute_result"
        }
      ],
      "source": [
        "# Merge DataFrames\n",
        "pd.merge(dataframe_employees, dataframe_sales, on='employee_id', how='right')"
      ]
    },
    {
      "cell_type": "code",
      "execution_count": 36,
      "metadata": {
        "colab": {
          "base_uri": "https://localhost:8080/",
          "height": 112
        },
        "id": "a2KKvXrNZYZx",
        "outputId": "7e7af236-02bf-4bd5-f342-4492d22b1360"
      },
      "outputs": [
        {
          "data": {
            "text/html": [
              "<div>\n",
              "<style scoped>\n",
              "    .dataframe tbody tr th:only-of-type {\n",
              "        vertical-align: middle;\n",
              "    }\n",
              "\n",
              "    .dataframe tbody tr th {\n",
              "        vertical-align: top;\n",
              "    }\n",
              "\n",
              "    .dataframe thead th {\n",
              "        text-align: right;\n",
              "    }\n",
              "</style>\n",
              "<table border=\"1\" class=\"dataframe\">\n",
              "  <thead>\n",
              "    <tr style=\"text-align: right;\">\n",
              "      <th></th>\n",
              "      <th>employee_id</th>\n",
              "      <th>name</th>\n",
              "      <th>total_sales</th>\n",
              "    </tr>\n",
              "  </thead>\n",
              "  <tbody>\n",
              "    <tr>\n",
              "      <th>0</th>\n",
              "      <td>3</td>\n",
              "      <td>Alice Bees</td>\n",
              "      <td>23456</td>\n",
              "    </tr>\n",
              "    <tr>\n",
              "      <th>1</th>\n",
              "      <td>4</td>\n",
              "      <td>Tim Horton</td>\n",
              "      <td>2512</td>\n",
              "    </tr>\n",
              "  </tbody>\n",
              "</table>\n",
              "</div>"
            ],
            "text/plain": [
              "  employee_id        name  total_sales\n",
              "0           3  Alice Bees        23456\n",
              "1           4  Tim Horton         2512"
            ]
          },
          "execution_count": 36,
          "metadata": {},
          "output_type": "execute_result"
        }
      ],
      "source": [
        "# Merge DataFrames\n",
        "pd.merge(dataframe_employees,\n",
        "         dataframe_sales,\n",
        "         left_on='employee_id',\n",
        "         right_on='employee_id')"
      ]
    }
  ],
  "metadata": {
    "colab": {
      "authorship_tag": "ABX9TyP6gGZ9YXjQbjfjMBHwXwZa",
      "provenance": []
    },
    "kernelspec": {
      "display_name": "Python 3",
      "name": "python3"
    },
    "language_info": {
      "codemirror_mode": {
        "name": "ipython",
        "version": 3
      },
      "file_extension": ".py",
      "mimetype": "text/x-python",
      "name": "python",
      "nbconvert_exporter": "python",
      "pygments_lexer": "ipython3",
      "version": "3.12.10"
    }
  },
  "nbformat": 4,
  "nbformat_minor": 0
}
